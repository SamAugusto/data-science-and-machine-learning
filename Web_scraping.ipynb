{
  "nbformat": 4,
  "nbformat_minor": 0,
  "metadata": {
    "colab": {
      "provenance": [],
      "authorship_tag": "ABX9TyMrNQ2d6mc8KVYjF6lEK6fT",
      "include_colab_link": true
    },
    "kernelspec": {
      "name": "python3",
      "display_name": "Python 3"
    },
    "language_info": {
      "name": "python"
    }
  },
  "cells": [
    {
      "cell_type": "markdown",
      "metadata": {
        "id": "view-in-github",
        "colab_type": "text"
      },
      "source": [
        "<a href=\"https://colab.research.google.com/github/SamAugusto/data-science-and-machine-learning/blob/main/Web_scraping.ipynb\" target=\"_parent\"><img src=\"https://colab.research.google.com/assets/colab-badge.svg\" alt=\"Open In Colab\"/></a>"
      ]
    },
    {
      "cell_type": "markdown",
      "source": [
        "# Python requests for automating data collection"
      ],
      "metadata": {
        "id": "SxQCMs-DwwMi"
      }
    },
    {
      "cell_type": "code",
      "source": [
        "import requests"
      ],
      "metadata": {
        "id": "zyUENIMFzQK6"
      },
      "execution_count": 1,
      "outputs": []
    },
    {
      "cell_type": "code",
      "source": [
        "response = requests.get('https://www.python.org')\n",
        "response"
      ],
      "metadata": {
        "colab": {
          "base_uri": "https://localhost:8080/"
        },
        "id": "sijQDujrzRlO",
        "outputId": "49cf250d-20cf-4ebb-c55e-38d9e1074c2f"
      },
      "execution_count": 2,
      "outputs": [
        {
          "output_type": "execute_result",
          "data": {
            "text/plain": [
              "<Response [200]>"
            ]
          },
          "metadata": {},
          "execution_count": 2
        }
      ]
    },
    {
      "cell_type": "markdown",
      "source": [
        "## Headers"
      ],
      "metadata": {
        "id": "ZAMdqRDyzZr1"
      }
    },
    {
      "cell_type": "code",
      "source": [
        "response.headers"
      ],
      "metadata": {
        "colab": {
          "base_uri": "https://localhost:8080/"
        },
        "id": "repg1roWzbSH",
        "outputId": "7d8e4b5b-f1e8-4b1a-a8d2-92b66a4ab482"
      },
      "execution_count": 3,
      "outputs": [
        {
          "output_type": "execute_result",
          "data": {
            "text/plain": [
              "{'Connection': 'keep-alive', 'Content-Length': '11506', 'content-encoding': 'gzip', 'x-frame-options': 'SAMEORIGIN', 'via': '1.1 varnish, 1.1 varnish, 1.1 varnish', 'content-type': 'text/html; charset=utf-8', 'Accept-Ranges': 'bytes', 'Date': 'Thu, 26 Jun 2025 01:15:08 GMT', 'Age': '1343', 'X-Served-By': 'cache-iad-kiad7000081-IAD, cache-iad-kiad7000081-IAD, cache-bfi-kbfi7400067-BFI', 'X-Cache': 'MISS, HIT, HIT', 'X-Cache-Hits': '0, 296, 13', 'X-Timer': 'S1750900509.803473,VS0,VE0', 'Vary': 'Cookie', 'Strict-Transport-Security': 'max-age=63072000; includeSubDomains; preload'}"
            ]
          },
          "metadata": {},
          "execution_count": 3
        }
      ]
    },
    {
      "cell_type": "markdown",
      "source": [
        "## Content Types"
      ],
      "metadata": {
        "id": "uMq2tnGizeRH"
      }
    },
    {
      "cell_type": "code",
      "source": [
        "response.headers['Content-Type']"
      ],
      "metadata": {
        "colab": {
          "base_uri": "https://localhost:8080/",
          "height": 35
        },
        "id": "S1QMtxjhzjIh",
        "outputId": "ddce11f6-927d-4dc8-e9ff-27bf1990828f"
      },
      "execution_count": 4,
      "outputs": [
        {
          "output_type": "execute_result",
          "data": {
            "text/plain": [
              "'text/html; charset=utf-8'"
            ],
            "application/vnd.google.colaboratory.intrinsic+json": {
              "type": "string"
            }
          },
          "metadata": {},
          "execution_count": 4
        }
      ]
    },
    {
      "cell_type": "markdown",
      "source": [
        "## Body/Content"
      ],
      "metadata": {
        "id": "eiK-KDTIzgL6"
      }
    },
    {
      "cell_type": "code",
      "source": [
        "response.content"
      ],
      "metadata": {
        "colab": {
          "base_uri": "https://localhost:8080/"
        },
        "id": "IRpNV4yrzn2c",
        "outputId": "5410fe7e-d41d-447e-f551-b5f6a4e3983f"
      },
      "execution_count": 7,
      "outputs": [
        {
          "output_type": "execute_result",
          "data": {
            "text/plain": [
              "b'<!doctype html>\\n<!--[if lt IE 7]>   <html class=\"no-js ie6 lt-ie7 lt-ie8 lt-ie9\">   <![endif]-->\\n<!--[if IE 7]>      <html class=\"no-js ie7 lt-ie8 lt-ie9\">          <![endif]-->\\n<!--[if IE 8]>      <html class=\"no-js ie8 lt-ie9\">                 <![endif]-->\\n<!--[if gt IE 8]><!--><html class=\"no-js\" lang=\"en\" dir=\"ltr\">  <!--<![endif]-->\\n\\n<head>\\n    <script defer data-domain=\"python.org\" src=\"https://analytics.python.org/js/script.outbound-links.js\"></script>\\n\\n    <meta charset=\"utf-8\">\\n    <meta http-equiv=\"X-UA-Compatible\" content=\"IE=edge\">\\n\\n    <link rel=\"prefetch\" href=\"//ajax.googleapis.com/ajax/libs/jquery/1.8.2/jquery.min.js\">\\n    <link rel=\"prefetch\" href=\"//ajax.googleapis.com/ajax/libs/jqueryui/1.12.1/jquery-ui.min.js\">\\n\\n    <meta name=\"application-name\" content=\"Python.org\">\\n    <meta name=\"msapplication-tooltip\" content=\"The official home of the Python Programming Language\">\\n    <meta name=\"apple-mobile-web-app-title\" content=\"Python.org\">\\n    <meta name=\"apple-mobile-web-app-capable\" content=\"yes\">\\n    <meta name=\"apple-mobile-web-app-status-bar-style\" content=\"black\">\\n\\n    <meta name=\"viewport\" content=\"width=device-width, initial-scale=1.0\">\\n    <meta name=\"HandheldFriendly\" content=\"True\">\\n    <meta name=\"format-detection\" content=\"telephone=no\">\\n    <meta http-equiv=\"cleartype\" content=\"on\">\\n    <meta http-equiv=\"imagetoolbar\" content=\"false\">\\n\\n    <script async\\n            src=\"https://media.ethicalads.io/media/client/v1.4.0/ethicalads.min.js\"\\n            integrity=\"sha256-U3hKDidudIaxBDEzwGJApJgPEf2mWk6cfMWghrAa6i0= sha384-UcmsCqcNRSLW/dV3Lo1oCi2/VaurXbib6p4HyUEOeIa/4OpsrnucrugAefzVZJfI sha512-q4t1L4xEjGV2R4hzqCa41P8jrgFUS8xTb8rdNv4FGvw7FpydVj/kkxBJHOiaoxHa8olCcx1Slk9K+3sNbsM4ug==\"\\n            crossorigin=\"anonymous\"\\n    ></script>\\n    <script src=\"/static/js/libs/modernizr.js\"></script>\\n\\n    <link href=\"/static/stylesheets/style.08a078d0aa02.css\" rel=\"stylesheet\" type=\"text/css\" media=\"all\" title=\"default\" />\\n    <link href=\"/static/stylesheets/mq.98d6092b2ada.css\" rel=\"stylesheet\" type=\"text/css\" media=\"not print, braille, embossed, speech, tty\" />\\n    <link href=\"/static/stylesheets/no-mq.bf0c425cdb73.css\" rel=\"stylesheet\" type=\"text/css\" media=\"screen\" />\\n    \\n\\n    <!--[if (lte IE 8)&(!IEMobile)]>\\n    <link href=\"/static/stylesheets/no-mq.bf0c425cdb73.css\" rel=\"stylesheet\" type=\"text/css\" media=\"screen\" />\\n    \\n    \\n    <![endif]-->\\n    <link rel=\"stylesheet\" href=\"//ajax.googleapis.com/ajax/libs/jqueryui/1.12.1/themes/smoothness/jquery-ui.css\">\\n\\n    \\n    <link rel=\"icon\" type=\"image/x-icon\" href=\"/static/favicon.ico\">\\n    <link rel=\"apple-touch-icon-precomposed\" sizes=\"144x144\" href=\"/static/apple-touch-icon-144x144-precomposed.png\">\\n    <link rel=\"apple-touch-icon-precomposed\" sizes=\"114x114\" href=\"/static/apple-touch-icon-114x114-precomposed.png\">\\n    <link rel=\"apple-touch-icon-precomposed\" sizes=\"72x72\" href=\"/static/apple-touch-icon-72x72-precomposed.png\">\\n    <link rel=\"apple-touch-icon-precomposed\" href=\"/static/apple-touch-icon-precomposed.png\">\\n    <link rel=\"apple-touch-icon\" href=\"/static/apple-touch-icon-precomposed.png\">\\n\\n    \\n    <meta name=\"msapplication-TileImage\" content=\"/static/metro-icon-144x144.png\"><!-- white shape -->\\n    <meta name=\"msapplication-TileColor\" content=\"#3673a5\"><!-- python blue -->\\n    <meta name=\"msapplication-navbutton-color\" content=\"#3673a5\">\\n\\n    <title>Welcome to Python.org</title>\\n\\n    <meta name=\"description\" content=\"The official home of the Python Programming Language\">\\n    <meta name=\"keywords\" content=\"Python programming language object oriented web free open source software license documentation download community\">\\n\\n    \\n    <meta property=\"og:type\" content=\"website\">\\n    <meta property=\"og:site_name\" content=\"Python.org\">\\n    <meta property=\"og:title\" content=\"Welcome to Python.org\">\\n    <meta property=\"og:description\" content=\"The official home of the Python Programming Language\">\\n    \\n    <meta property=\"og:image\" content=\"https://www.python.org/static/opengraph-icon-200x200.png\">\\n    <meta property=\"og:image:secure_url\" content=\"https://www.python.org/static/opengraph-icon-200x200.png\">\\n    \\n    <meta property=\"og:url\" content=\"https://www.python.org/\">\\n\\n    <link rel=\"author\" href=\"/humans.txt\">\\n\\n    <link rel=\"alternate\" type=\"application/rss+xml\" title=\"Python Enhancement Proposals\"\\n          href=\"https://peps.python.org/peps.rss\">\\n    <link rel=\"alternate\" type=\"application/rss+xml\" title=\"Python Job Opportunities\"\\n          href=\"https://www.python.org/jobs/feed/rss/\">\\n    <link rel=\"alternate\" type=\"application/rss+xml\" title=\"Python Software Foundation News\"\\n          href=\"https://feeds.feedburner.com/PythonSoftwareFoundationNews\">\\n    <link rel=\"alternate\" type=\"application/rss+xml\" title=\"Python Insider\"\\n          href=\"https://feeds.feedburner.com/PythonInsider\">\\n   <link rel=\"alternate\" type=\"application/rss+xml\" title=\"Python Releases\"\\n         href=\"https://www.python.org/downloads/feed.rss\">\\n\\n    \\n\\n    \\n    <script type=\"application/ld+json\">\\n     {\\n       \"@context\": \"https://schema.org\",\\n       \"@type\": \"WebSite\",\\n       \"url\": \"https://www.python.org/\",\\n       \"potentialAction\": {\\n         \"@type\": \"SearchAction\",\\n         \"target\": \"https://www.python.org/search/?q={search_term_string}\",\\n         \"query-input\": \"required name=search_term_string\"\\n       }\\n     }\\n    </script>\\n\\n    \\n    <script type=\"text/javascript\">\\n    var _gaq = _gaq || [];\\n    _gaq.push([\\'_setAccount\\', \\'UA-39055973-1\\']);\\n    _gaq.push([\\'_trackPageview\\']);\\n\\n    (function() {\\n        var ga = document.createElement(\\'script\\'); ga.type = \\'text/javascript\\'; ga.async = true;\\n        ga.src = (\\'https:\\' == document.location.protocol ? \\'https://ssl\\' : \\'http://www\\') + \\'.google-analytics.com/ga.js\\';\\n        var s = document.getElementsByTagName(\\'script\\')[0]; s.parentNode.insertBefore(ga, s);\\n    })();\\n    </script>\\n    \\n</head>\\n\\n<body class=\"python home\" id=\"homepage\">\\n\\n    <div id=\"touchnav-wrapper\">\\n\\n        <div id=\"nojs\" class=\"do-not-print\">\\n            <p><strong>Notice:</strong> While JavaScript is not essential for this website, your interaction with the content will be limited. Please turn JavaScript on for the full experience. </p>\\n        </div>\\n\\n        <!--[if lte IE 8]>\\n        <div id=\"oldie-warning\" class=\"do-not-print\">\\n            <p>\\n                <strong>Notice:</strong> Your browser is <em>ancient</em>. Please\\n                <a href=\"http://browsehappy.com/\">upgrade to a different browser</a> to experience a better web.\\n            </p>\\n        </div>\\n        <![endif]-->\\n\\n        <!-- Sister Site Links -->\\n        <div id=\"top\" class=\"top-bar do-not-print\">\\n\\n            <nav class=\"meta-navigation container\" role=\"navigation\">\\n\\n                \\n                <div class=\"skip-link screen-reader-text\">\\n                    <a href=\"#content\" title=\"Skip to content\">Skip to content</a>\\n                </div>\\n\\n                \\n                <a id=\"close-python-network\" class=\"jump-link\" href=\"#python-network\" aria-hidden=\"true\">\\n                    <span aria-hidden=\"true\" class=\"icon-arrow-down\"><span>&#9660;</span></span> Close\\n                </a>\\n\\n                \\n\\n<ul class=\"menu\" role=\"tree\">\\n    \\n    <li class=\"python-meta current_item selectedcurrent_branch selected\">\\n        <a href=\"/\" title=\"The Python Programming Language\" class=\"current_item selectedcurrent_branch selected\">Python</a>\\n    </li>\\n    \\n    <li class=\"psf-meta \">\\n        <a href=\"https://www.python.org/psf/\" title=\"The Python Software Foundation\" >PSF</a>\\n    </li>\\n    \\n    <li class=\"docs-meta \">\\n        <a href=\"https://docs.python.org\" title=\"Python Documentation\" >Docs</a>\\n    </li>\\n    \\n    <li class=\"pypi-meta \">\\n        <a href=\"https://pypi.org/\" title=\"Python Package Index\" >PyPI</a>\\n    </li>\\n    \\n    <li class=\"jobs-meta \">\\n        <a href=\"/jobs/\" title=\"Python Job Board\" >Jobs</a>\\n    </li>\\n    \\n    <li class=\"shop-meta \">\\n        <a href=\"/community/\"  >Community</a>\\n    </li>\\n    \\n</ul>\\n\\n\\n                <a id=\"python-network\" class=\"jump-link\" href=\"#top\" aria-hidden=\"true\">\\n                    <span aria-hidden=\"true\" class=\"icon-arrow-up\"><span>&#9650;</span></span> The Python Network\\n                </a>\\n\\n            </nav>\\n\\n        </div>\\n\\n        <!-- Header elements -->\\n        <header class=\"main-header\" role=\"banner\">\\n            <div class=\"container\">\\n\\n                <h1 class=\"site-headline\">\\n                    <a href=\"/\"><img class=\"python-logo\" src=\"/static/img/python-logo.png\" alt=\"python&trade;\"></a>\\n                </h1>\\n\\n                <div class=\"options-bar-container do-not-print\">\\n                    <a href=\"https://psfmember.org/civicrm/contribute/transact?reset=1&id=2\" class=\"donate-button\">Donate</a>\\n                    <div class=\"options-bar\">\\n                        \\n                        <a id=\"site-map-link\" class=\"jump-to-menu\" href=\"#site-map\"><span class=\"menu-icon\">&equiv;</span> Menu</a><form class=\"search-the-site\" action=\"/search/\" method=\"get\">\\n                            <fieldset title=\"Search Python.org\">\\n\\n                                <span aria-hidden=\"true\" class=\"icon-search\"></span>\\n\\n                                <label class=\"screen-reader-text\" for=\"id-search-field\">Search This Site</label>\\n                                <input id=\"id-search-field\" name=\"q\" type=\"search\" role=\"textbox\" class=\"search-field\" placeholder=\"Search\" value=\"\" tabindex=\"1\">\\n\\n                                <button type=\"submit\" name=\"submit\" id=\"submit\" class=\"search-button\" title=\"Submit this Search\" tabindex=\"3\">\\n                                    GO\\n                                </button>\\n\\n                                \\n                                <!--[if IE]><input type=\"text\" style=\"display: none;\" disabled=\"disabled\" size=\"1\" tabindex=\"4\"><![endif]-->\\n\\n                            </fieldset>\\n                        </form><span class=\"breaker\"></span><div class=\"adjust-font-size\" aria-hidden=\"true\">\\n                            <ul class=\"navigation menu\" aria-label=\"Adjust Text Size on Page\">\\n                                <li class=\"tier-1 last\" aria-haspopup=\"true\">\\n                                    <a href=\"#\" class=\"action-trigger\"><strong><small>A</small> A</strong></a>\\n                                    <ul class=\"subnav menu\">\\n                                        <li class=\"tier-2 element-1\" role=\"treeitem\"><a class=\"text-shrink\" title=\"Make Text Smaller\" href=\"javascript:;\">Smaller</a></li>\\n                                        <li class=\"tier-2 element-2\" role=\"treeitem\"><a class=\"text-grow\" title=\"Make Text Larger\" href=\"javascript:;\">Larger</a></li>\\n                                        <li class=\"tier-2 element-3\" role=\"treeitem\"><a class=\"text-reset\" title=\"Reset any font size changes I have made\" href=\"javascript:;\">Reset</a></li>\\n                                    </ul>\\n                                </li>\\n                            </ul>\\n                        </div><div class=\"winkwink-nudgenudge\">\\n                            <ul class=\"navigation menu\" aria-label=\"Social Media Navigation\">\\n                                <li class=\"tier-1 last\" aria-haspopup=\"true\">\\n                                    <a href=\"#\" class=\"action-trigger\">Socialize</a>\\n                                    <ul class=\"subnav menu\">\\n                                        <li class=\"tier-2 element-1\" role=\"treeitem\"><a href=\"https://www.linkedin.com/company/python-software-foundation/\"><i aria-hidden=\"true\" class=\"fa fa-linkedin-square\"></i>LinkedIn</a></li>\\n                                        <li class=\"tier-2 element-2\" role=\"treeitem\"><a href=\"https://fosstodon.org/@ThePSF\"><span aria-hidden=\"true\" class=\"icon-mastodon\"></span>Mastodon</a></li>\\n                                        <li class=\"tier-2 element-3\" role=\"treeitem\"><a href=\"/community/irc/\"><span aria-hidden=\"true\" class=\"icon-freenode\"></span>Chat on IRC</a></li>\\n                                        <li class=\"tier-2 element-4\" role=\"treeitem\"><a href=\"https://twitter.com/ThePSF\"><span aria-hidden=\"true\" class=\"icon-twitter\"></span>Twitter</a></li>\\n                                    </ul>\\n                                </li>\\n                            </ul>\\n                        </div>\\n                        <span data-html-include=\"/authenticated\"></span>\\n                    </div><!-- end options-bar -->\\n                </div>\\n\\n                <nav id=\"mainnav\" class=\"python-navigation main-navigation do-not-print\" role=\"navigation\">\\n                    \\n                        \\n<ul class=\"navigation menu\" role=\"menubar\" aria-label=\"Main Navigation\">\\n  \\n    \\n    \\n    <li id=\"about\" class=\"tier-1 element-1  \" aria-haspopup=\"true\">\\n        <a href=\"/about/\" title=\"\" class=\"\">About</a>\\n        \\n            \\n\\n<ul class=\"subnav menu\" role=\"menu\" aria-hidden=\"true\">\\n    \\n        <li class=\"tier-2 element-1\" role=\"treeitem\"><a href=\"/about/apps/\" title=\"\">Applications</a></li>\\n    \\n        <li class=\"tier-2 element-2\" role=\"treeitem\"><a href=\"/about/quotes/\" title=\"\">Quotes</a></li>\\n    \\n        <li class=\"tier-2 element-3\" role=\"treeitem\"><a href=\"/about/gettingstarted/\" title=\"\">Getting Started</a></li>\\n    \\n        <li class=\"tier-2 element-4\" role=\"treeitem\"><a href=\"/about/help/\" title=\"\">Help</a></li>\\n    \\n        <li class=\"tier-2 element-5\" role=\"treeitem\"><a href=\"http://brochure.getpython.info/\" title=\"\">Python Brochure</a></li>\\n    \\n</ul>\\n\\n        \\n    </li>\\n    \\n    \\n    \\n    <li id=\"downloads\" class=\"tier-1 element-2  \" aria-haspopup=\"true\">\\n        <a href=\"/downloads/\" title=\"\" class=\"\">Downloads</a>\\n        \\n            \\n\\n<ul class=\"subnav menu\" role=\"menu\" aria-hidden=\"true\">\\n    \\n        <li class=\"tier-2 element-1\" role=\"treeitem\"><a href=\"/downloads/\" title=\"\">All releases</a></li>\\n    \\n        <li class=\"tier-2 element-2\" role=\"treeitem\"><a href=\"/downloads/source/\" title=\"\">Source code</a></li>\\n    \\n        <li class=\"tier-2 element-3\" role=\"treeitem\"><a href=\"/downloads/windows/\" title=\"\">Windows</a></li>\\n    \\n        <li class=\"tier-2 element-4\" role=\"treeitem\"><a href=\"/downloads/macos/\" title=\"\">macOS</a></li>\\n    \\n        <li class=\"tier-2 element-5\" role=\"treeitem\"><a href=\"/download/other/\" title=\"\">Other Platforms</a></li>\\n    \\n        <li class=\"tier-2 element-6\" role=\"treeitem\"><a href=\"https://docs.python.org/3/license.html\" title=\"\">License</a></li>\\n    \\n        <li class=\"tier-2 element-7\" role=\"treeitem\"><a href=\"/download/alternatives\" title=\"\">Alternative Implementations</a></li>\\n    \\n</ul>\\n\\n        \\n    </li>\\n    \\n    \\n    \\n    <li id=\"documentation\" class=\"tier-1 element-3  \" aria-haspopup=\"true\">\\n        <a href=\"/doc/\" title=\"\" class=\"\">Documentation</a>\\n        \\n            \\n\\n<ul class=\"subnav menu\" role=\"menu\" aria-hidden=\"true\">\\n    \\n        <li class=\"tier-2 element-1\" role=\"treeitem\"><a href=\"/doc/\" title=\"\">Docs</a></li>\\n    \\n        <li class=\"tier-2 element-2\" role=\"treeitem\"><a href=\"/doc/av\" title=\"\">Audio/Visual Talks</a></li>\\n    \\n        <li class=\"tier-2 element-3\" role=\"treeitem\"><a href=\"https://wiki.python.org/moin/BeginnersGuide\" title=\"\">Beginner&#x27;s Guide</a></li>\\n    \\n        <li class=\"tier-2 element-4\" role=\"treeitem\"><a href=\"https://devguide.python.org/\" title=\"\">Developer&#x27;s Guide</a></li>\\n    \\n        <li class=\"tier-2 element-5\" role=\"treeitem\"><a href=\"https://docs.python.org/faq/\" title=\"\">FAQ</a></li>\\n    \\n        <li class=\"tier-2 element-6\" role=\"treeitem\"><a href=\"http://wiki.python.org/moin/Languages\" title=\"\">Non-English Docs</a></li>\\n    \\n        <li class=\"tier-2 element-7\" role=\"treeitem\"><a href=\"https://peps.python.org\" title=\"\">PEP Index</a></li>\\n    \\n        <li class=\"tier-2 element-8\" role=\"treeitem\"><a href=\"https://wiki.python.org/moin/PythonBooks\" title=\"\">Python Books</a></li>\\n    \\n        <li class=\"tier-2 element-9\" role=\"treeitem\"><a href=\"/doc/essays/\" title=\"\">Python Essays</a></li>\\n    \\n</ul>\\n\\n        \\n    </li>\\n    \\n    \\n    \\n    <li id=\"community\" class=\"tier-1 element-4  \" aria-haspopup=\"true\">\\n        <a href=\"/community/\" title=\"\" class=\"\">Community</a>\\n        \\n            \\n\\n<ul class=\"subnav menu\" role=\"menu\" aria-hidden=\"true\">\\n    \\n        <li class=\"tier-2 element-1\" role=\"treeitem\"><a href=\"/community/diversity/\" title=\"\">Diversity</a></li>\\n    \\n        <li class=\"tier-2 element-2\" role=\"treeitem\"><a href=\"/community/lists/\" title=\"\">Mailing Lists</a></li>\\n    \\n        <li class=\"tier-2 element-3\" role=\"treeitem\"><a href=\"/community/irc/\" title=\"\">IRC</a></li>\\n    \\n        <li class=\"tier-2 element-4\" role=\"treeitem\"><a href=\"/community/forums/\" title=\"\">Forums</a></li>\\n    \\n        <li class=\"tier-2 element-5\" role=\"treeitem\"><a href=\"/psf/annual-report/2024/\" title=\"\">PSF Annual Impact Report</a></li>\\n    \\n        <li class=\"tier-2 element-6\" role=\"treeitem\"><a href=\"/community/workshops/\" title=\"\">Python Conferences</a></li>\\n    \\n        <li class=\"tier-2 element-7\" role=\"treeitem\"><a href=\"/community/sigs/\" title=\"\">Special Interest Groups</a></li>\\n    \\n        <li class=\"tier-2 element-8\" role=\"treeitem\"><a href=\"/community/logos/\" title=\"\">Python Logo</a></li>\\n    \\n        <li class=\"tier-2 element-9\" role=\"treeitem\"><a href=\"https://wiki.python.org/moin/\" title=\"\">Python Wiki</a></li>\\n    \\n        <li class=\"tier-2 element-10\" role=\"treeitem\"><a href=\"/psf/conduct/\" title=\"\">Code of Conduct</a></li>\\n    \\n        <li class=\"tier-2 element-11\" role=\"treeitem\"><a href=\"/community/awards\" title=\"\">Community Awards</a></li>\\n    \\n        <li class=\"tier-2 element-12\" role=\"treeitem\"><a href=\"/psf/get-involved/\" title=\"\">Get Involved</a></li>\\n    \\n        <li class=\"tier-2 element-13\" role=\"treeitem\"><a href=\"/psf/community-stories/\" title=\"\">Shared Stories</a></li>\\n    \\n</ul>\\n\\n        \\n    </li>\\n    \\n    \\n    \\n    <li id=\"success-stories\" class=\"tier-1 element-5  \" aria-haspopup=\"true\">\\n        <a href=\"/success-stories/\" title=\"success-stories\" class=\"\">Success Stories</a>\\n        \\n            \\n\\n<ul class=\"subnav menu\" role=\"menu\" aria-hidden=\"true\">\\n    \\n        <li class=\"tier-2 element-1\" role=\"treeitem\"><a href=\"/success-stories/category/arts/\" title=\"\">Arts</a></li>\\n    \\n        <li class=\"tier-2 element-2\" role=\"treeitem\"><a href=\"/success-stories/category/business/\" title=\"\">Business</a></li>\\n    \\n        <li class=\"tier-2 element-3\" role=\"treeitem\"><a href=\"/success-stories/category/education/\" title=\"\">Education</a></li>\\n    \\n        <li class=\"tier-2 element-4\" role=\"treeitem\"><a href=\"/success-stories/category/engineering/\" title=\"\">Engineering</a></li>\\n    \\n        <li class=\"tier-2 element-5\" role=\"treeitem\"><a href=\"/success-stories/category/government/\" title=\"\">Government</a></li>\\n    \\n        <li class=\"tier-2 element-6\" role=\"treeitem\"><a href=\"/success-stories/category/scientific/\" title=\"\">Scientific</a></li>\\n    \\n        <li class=\"tier-2 element-7\" role=\"treeitem\"><a href=\"/success-stories/category/software-development/\" title=\"\">Software Development</a></li>\\n    \\n</ul>\\n\\n        \\n    </li>\\n    \\n    \\n    \\n    <li id=\"news\" class=\"tier-1 element-6  \" aria-haspopup=\"true\">\\n        <a href=\"/blogs/\" title=\"News from around the Python world\" class=\"\">News</a>\\n        \\n            \\n\\n<ul class=\"subnav menu\" role=\"menu\" aria-hidden=\"true\">\\n    \\n        <li class=\"tier-2 element-1\" role=\"treeitem\"><a href=\"/blogs/\" title=\"Python Insider Blog Posts\">Python News</a></li>\\n    \\n        <li class=\"tier-2 element-2\" role=\"treeitem\"><a href=\"/psf/newsletter/\" title=\"Python Software Foundation Newsletter\">PSF Newsletter</a></li>\\n    \\n        <li class=\"tier-2 element-3\" role=\"treeitem\"><a href=\"http://pyfound.blogspot.com/\" title=\"PSF Blog\">PSF News</a></li>\\n    \\n        <li class=\"tier-2 element-4\" role=\"treeitem\"><a href=\"http://pycon.blogspot.com/\" title=\"PyCon Blog\">PyCon US News</a></li>\\n    \\n        <li class=\"tier-2 element-5\" role=\"treeitem\"><a href=\"http://planetpython.org/\" title=\"Planet Python\">News from the Community</a></li>\\n    \\n</ul>\\n\\n        \\n    </li>\\n    \\n    \\n    \\n    <li id=\"events\" class=\"tier-1 element-7  \" aria-haspopup=\"true\">\\n        <a href=\"/events/\" title=\"\" class=\"\">Events</a>\\n        \\n            \\n\\n<ul class=\"subnav menu\" role=\"menu\" aria-hidden=\"true\">\\n    \\n        <li class=\"tier-2 element-1\" role=\"treeitem\"><a href=\"/events/python-events/\" title=\"\">Python Events</a></li>\\n    \\n        <li class=\"tier-2 element-2\" role=\"treeitem\"><a href=\"/events/python-user-group/\" title=\"\">User Group Events</a></li>\\n    \\n        <li class=\"tier-2 element-3\" role=\"treeitem\"><a href=\"/events/python-events/past/\" title=\"\">Python Events Archive</a></li>\\n    \\n        <li class=\"tier-2 element-4\" role=\"treeitem\"><a href=\"/events/python-user-group/past/\" title=\"\">User Group Events Archive</a></li>\\n    \\n        <li class=\"tier-2 element-5\" role=\"treeitem\"><a href=\"https://wiki.python.org/moin/PythonEventsCalendar#Submitting_an_Event\" title=\"\">Submit an Event</a></li>\\n    \\n</ul>\\n\\n        \\n    </li>\\n    \\n    \\n    \\n    \\n  \\n</ul>\\n\\n                    \\n                </nav>\\n\\n                <div class=\"header-banner \"> <!-- for optional \"do-not-print\" class -->\\n                    \\n        <div id=\"dive-into-python\" class=\"flex-slideshow slideshow\">\\n\\n            <ul class=\"launch-shell menu\" id=\"launch-shell\">\\n                <li>\\n                    <a class=\"button prompt\" id=\"start-shell\" data-shell-container=\"#dive-into-python\" href=\"/shell/\">&gt;_\\n                        <span class=\"message\">Launch Interactive Shell</span>\\n                    </a>\\n                </li>\\n            </ul>\\n\\n            <ul class=\"slides menu\">\\n                \\n                <li>\\n                    <div class=\"slide-code\"><pre><code><span class=\"comment\"># Python 3: Fibonacci series up to n</span>\\r\\n>>> def fib(n):\\r\\n>>>     a, b = 0, 1\\r\\n>>>     while a &lt; n:\\r\\n>>>         print(a, end=\\' \\')\\r\\n>>>         a, b = b, a+b\\r\\n>>>     print()\\r\\n>>> fib(1000)\\r\\n<span class=\"output\">0 1 1 2 3 5 8 13 21 34 55 89 144 233 377 610 987</span></code></pre></div>\\n                    <div class=\"slide-copy\"><h1>Functions Defined</h1>\\r\\n<p>The core of extensible programming is defining functions. Python allows mandatory and optional arguments, keyword arguments, and even arbitrary argument lists. <a href=\"//docs.python.org/3/tutorial/controlflow.html#defining-functions\">More about defining functions in Python&nbsp;3</a></p></div>\\n                </li>\\n                \\n                <li>\\n                    <div class=\"slide-code\"><pre><code><span class=\"comment\"># Python 3: List comprehensions</span>\\r\\n>>> fruits = [\\'Banana\\', \\'Apple\\', \\'Lime\\']\\r\\n>>> loud_fruits = [fruit.upper() for fruit in fruits]\\r\\n>>> print(loud_fruits)\\r\\n<span class=\"output\">[\\'BANANA\\', \\'APPLE\\', \\'LIME\\']</span>\\r\\n\\r\\n<span class=\"comment\"># List and the enumerate function</span>\\r\\n>>> list(enumerate(fruits))\\r\\n<span class=\"output\">[(0, \\'Banana\\'), (1, \\'Apple\\'), (2, \\'Lime\\')]</span></code></pre></div>\\n                    <div class=\"slide-copy\"><h1>Compound Data Types</h1>\\r\\n<p>Lists (known as arrays in other languages) are one of the compound data types that Python understands. Lists can be indexed, sliced and manipulated with other built-in functions. <a href=\"//docs.python.org/3/tutorial/introduction.html#lists\">More about lists in Python&nbsp;3</a></p></div>\\n                </li>\\n                \\n                <li>\\n                    <div class=\"slide-code\"><pre><code><span class=\"comment\"># Python 3: Simple arithmetic</span>\\r\\n>>> 1 / 2\\r\\n<span class=\"output\">0.5</span>\\r\\n>>> 2 ** 3\\r\\n<span class=\"output\">8</span>\\r\\n>>> 17 / 3  <span class=\"comment\"># classic division returns a float</span>\\r\\n<span class=\"output\">5.666666666666667</span>\\r\\n>>> 17 // 3  <span class=\"comment\"># floor division</span>\\r\\n<span class=\"output\">5</span></code></pre></div>\\n                    <div class=\"slide-copy\"><h1>Intuitive Interpretation</h1>\\r\\n<p>Calculations are simple with Python, and expression syntax is straightforward: the operators <code>+</code>, <code>-</code>, <code>*</code> and <code>/</code> work as expected; parentheses <code>()</code> can be used for grouping. <a href=\"http://docs.python.org/3/tutorial/introduction.html#using-python-as-a-calculator\">More about simple math functions in Python&nbsp;3</a>.</p></div>\\n                </li>\\n                \\n                <li>\\n                    <div class=\"slide-code\"><pre><code><span class=\"comment\"># For loop on a list</span>\\r\\n>>> numbers = [2, 4, 6, 8]\\r\\n>>> product = 1\\r\\n>>> for number in numbers:\\r\\n...    product = product * number\\r\\n... \\r\\n>>> print(\\'The product is:\\', product)\\r\\n<span class=\"output\">The product is: 384</span></code></pre></div>\\n                    <div class=\"slide-copy\"><h1>All the Flow You&rsquo;d Expect</h1>\\r\\n<p>Python knows the usual control flow statements that other languages speak &mdash; <code>if</code>, <code>for</code>, <code>while</code> and <code>range</code> &mdash; with some of its own twists, of course. <a href=\"//docs.python.org/3/tutorial/controlflow.html\">More control flow tools in Python&nbsp;3</a></p></div>\\n                </li>\\n                \\n                <li>\\n                    <div class=\"slide-code\"><pre><code><span class=\"comment\"># Simple output (with Unicode)</span>\\r\\n>>> print(\"Hello, I\\'m Python!\")\\r\\n<span class=\"output\">Hello, I\\'m Python!</span>\\r\\n<span class=\"comment\"># Input, assignment</span>\\r\\n>>> name = input(\\'What is your name?\\\\n\\')\\r\\n<span class=\"output\">What is your name?\\r\\nPython</span>\\r\\n>>> print(f\\'Hi, {name}.\\')\\r\\n<span class=\"output\">Hi, Python.</span></code>\\r\\n</pre></div>\\n                    <div class=\"slide-copy\"><h1>Quick &amp; Easy to Learn</h1>\\r\\n<p>Experienced programmers in any other language can pick up Python very quickly, and beginners find the clean syntax and indentation structure easy to learn. <a href=\"//docs.python.org/3/tutorial/\">Whet your appetite</a> with our Python&nbsp;3 overview.</p></div>\\n                </li>\\n                \\n            </ul>\\n        </div>\\n\\n\\n                </div>\\n\\n                \\n        <div class=\"introduction\">\\n            <p>Python is a programming language that lets you work quickly <span class=\"breaker\"></span>and integrate systems more effectively. <a class=\"readmore\" href=\"/doc/\">Learn More</a></p>\\n        </div>\\n\\n\\n             </div><!-- end .container -->\\n        </header>\\n\\n        <div id=\"content\" class=\"content-wrapper\">\\n            <!-- Main Content Column -->\\n            <div class=\"container\">\\n\\n                <section class=\"main-content \" role=\"main\">\\n\\n                    \\n                    \\n\\n                    \\n\\n                    \\n\\n                \\n\\n                <div class=\"row\">\\n\\n                    <div class=\"small-widget get-started-widget\">\\n                        <h2 class=\"widget-title\"><span aria-hidden=\"true\" class=\"icon-get-started\"></span>Get Started</h2>\\r\\n<p>Whether you\\'re new to programming or an experienced developer, it\\'s easy to learn and use Python.</p>\\r\\n<p><a href=\"/about/gettingstarted/\">Start with our Beginner&rsquo;s Guide</a></p>\\n                    </div>\\n\\n                    <div class=\"small-widget download-widget\">\\n                        <h2 class=\"widget-title\"><span aria-hidden=\"true\" class=\"icon-download\"></span>Download</h2>\\n<p>Python source code and installers are available for download for all versions!</p>\\n<p>Latest: <a href=\"/downloads/release/python-3135/\">Python 3.13.5</a></p>\\n                    </div>\\n\\n                    <div class=\"small-widget documentation-widget\">\\n                        <h2 class=\"widget-title\"><span aria-hidden=\"true\" class=\"icon-documentation\"></span>Docs</h2>\\r\\n<p>Documentation for Python\\'s standard library, along with tutorials and guides, are available online.</p>\\r\\n<p><a href=\"https://docs.python.org\">docs.python.org</a></p>\\n                    </div>\\n\\n                    <div class=\"small-widget jobs-widget last\">\\n                        <h2 class=\"widget-title\"><span aria-hidden=\"true\" class=\"icon-jobs\"></span>Jobs</h2>\\r\\n<p>Looking for work or have a Python related position that you\\'re trying to hire for? Our <strong>relaunched community-run job board</strong> is the place to go.</p>\\r\\n<p><a href=\"//jobs.python.org\">jobs.python.org</a></p>\\n                    </div>\\n\\n                </div>\\n\\n                <div class=\"list-widgets row\">\\n\\n                    <div class=\"medium-widget blog-widget\">\\n                        \\n                        <div class=\"shrubbery\">\\n                        \\n                            <h2 class=\"widget-title\"><span aria-hidden=\"true\" class=\"icon-news\"></span>Latest News</h2>\\n                            <p class=\"give-me-more\"><a href=\"https://blog.python.org\" title=\"More News\">More</a></p>\\n                            \\n                            <ul class=\"menu\">\\n                                \\n                                \\n                                <li>\\n<time datetime=\"2025-06-17T18:43:00.000001+00:00\"><span class=\"say-no-more\">2025-</span>06-17</time>\\n <a href=\"https://pythoninsider.blogspot.com/2025/06/python-3140-beta-3-is-here.html\">Python 3.14.0 beta 3 is here!</a></li>\\n                                \\n                                <li>\\n<time datetime=\"2025-06-17T12:25:00.000001+00:00\"><span class=\"say-no-more\">2025-</span>06-17</time>\\n <a href=\"https://pyfound.blogspot.com/2025/06/the-psfs-2024-annual-impact-report-is.html\">The PSF&#x27;s 2024 Annual Impact Report is here!</a></li>\\n                                \\n                                <li>\\n<time datetime=\"2025-06-12T18:33:00.000003+00:00\"><span class=\"say-no-more\">2025-</span>06-12</time>\\n <a href=\"https://pyfound.blogspot.com/2025/06/2025-psf-board-election-schedule.html\">2025 PSF Board Election Schedule</a></li>\\n                                \\n                                <li>\\n<time datetime=\"2025-06-12T13:34:00.000003+00:00\"><span class=\"say-no-more\">2025-</span>06-12</time>\\n <a href=\"https://pyfound.blogspot.com/2025/06/python-language-summit-2025.html\">The Python Language Summit 2025</a></li>\\n                                \\n                                <li>\\n<time datetime=\"2025-06-12T13:32:00.000003+00:00\"><span class=\"say-no-more\">2025-</span>06-12</time>\\n <a href=\"https://pyfound.blogspot.com/2025/06/python-language-summit-2025-uncontentious-talk-about-contention.html\">The Python Language Summit 2025: An Uncontentious Talk about Contention</a></li>\\n                                \\n                            </ul>\\n                        </div><!-- end .shrubbery -->\\n\\n                    </div>\\n\\n                    <div class=\"medium-widget event-widget last\">\\n                        \\n                        <div class=\"shrubbery\">\\n                        \\n                            <h2 class=\"widget-title\"><span aria-hidden=\"true\" class=\"icon-calendar\"></span>Upcoming Events</h2>\\n                            <p class=\"give-me-more\"><a href=\"/events/calendars/\" title=\"More Events\">More</a></p>\\n                            \\n                            <ul class=\"menu\">\\n                                \\n                                \\n                                \\n                                <li>\\n<time datetime=\"2025-06-26T16:30:00+00:00\"><span class=\"say-no-more\">2025-</span>06-26</time>\\n <a href=\"/events/python-user-group/2073/\">ScaleDown: Optimize AI prompts to reduce verbosity and carbon footprint</a></li>\\n                                \\n                                \\n                                \\n                                <li>\\n<time datetime=\"2025-06-28T00:00:00+00:00\"><span class=\"say-no-more\">2025-</span>06-28</time>\\n <a href=\"/events/python-user-group/1840/\">PyCamp Leipzig 2025</a></li>\\n                                \\n                                \\n                                \\n                                <li>\\n<time datetime=\"2025-06-28T00:00:00+00:00\"><span class=\"say-no-more\">2025-</span>06-28</time>\\n <a href=\"/events/python-user-group/2004/\">Launching Python Katsina Community</a></li>\\n                                \\n                                \\n                                \\n                                <li>\\n<time datetime=\"2025-06-29T00:00:00+00:00\"><span class=\"say-no-more\">2025-</span>06-29</time>\\n <a href=\"/events/python-user-group/1967/\">Workshop: Creating Python Communities</a></li>\\n                                \\n                                \\n                                \\n                                <li>\\n<time datetime=\"2025-07-03T02:00:00+00:00\"><span class=\"say-no-more\">2025-</span>07-03</time>\\n <a href=\"/events/python-user-group/2038/\">Python New Zealand: Python Learners&#x27; Co-op</a></li>\\n                                \\n                                \\n                            </ul>\\n                        </div>\\n\\n                    </div>\\n\\n                </div>\\n\\n                <div class=\"row\">\\n\\n                    <div class=\"medium-widget success-stories-widget\">\\n                        \\n\\n\\n\\n                        <div class=\"shrubbery\">\\n                            \\n\\n                            <h2 class=\"widget-title\"><span aria-hidden=\"true\" class=\"icon-success-stories\"></span>Success Stories</h2>\\n                            <p class=\"give-me-more\"><a href=\"/success-stories/\" title=\"More Success Stories\">More</a></p>\\n\\n                            \\n                            <div class=\"success-story-item\" id=\"success-story-1102\">\\n\\n                            <blockquote>\\n                                <a href=\"/success-stories/deliver-clean-and-safe-code-for-your-python-applications/\">&quot;Some of the things [SonarCloud] spots are impressive (probably driven by some introspection and/or type inference), not just the simple pattern matching that I am used to in most of the flake8 ecosystem.&quot;\\r\\n- Peter J. A. Cock - maintainer of BioPython</a>\\n                            </blockquote>\\n\\n                            <table cellpadding=\"0\" cellspacing=\"0\" border=\"0\" width=\"100%\" class=\"quote-from\">\\n                                <tbody>\\n                                    <tr>\\n                                        \\n                                        <td><p><a href=\"/success-stories/deliver-clean-and-safe-code-for-your-python-applications/\">Deliver Clean and Safe Code for Your Python Applications</a> <em>by Kirti Joshi, Nicolas Bontoux</em></p></td>\\n                                    </tr>\\n                                </tbody>\\n                            </table>\\n                            </div>\\n                            \\n\\n                        </div><!-- end .shrubbery -->\\n\\n                    </div>\\n\\n                    <div class=\"medium-widget applications-widget last\">\\n                        <div class=\"shrubbery\">\\n                            <h2 class=\"widget-title\"><span aria-hidden=\"true\" class=\"icon-python\"></span>Use Python for&hellip;</h2>\\r\\n<p class=\"give-me-more\"><a href=\"/about/apps\" title=\"More Applications\">More</a></p>\\r\\n\\r\\n<ul class=\"menu\">\\r\\n    <li><b>Web Development</b>:\\r\\n        <span class=\"tag-wrapper\"><a class=\"tag\" href=\"http://www.djangoproject.com/\">Django</a>, <a class=\"tag\" href=\"http://www.pylonsproject.org/\">Pyramid</a>, <a class=\"tag\" href=\"http://bottlepy.org\">Bottle</a>, <a class=\"tag\" href=\"http://tornadoweb.org\">Tornado</a>, <a href=\"http://flask.pocoo.org/\" class=\"tag\">Flask</a>, <a class=\"tag\" href=\"http://www.web2py.com/\">web2py</a></span></li>\\r\\n    <li><b>GUI Development</b>:\\r\\n        <span class=\"tag-wrapper\"><a class=\"tag\" href=\"http://wiki.python.org/moin/TkInter\">tkInter</a>, <a class=\"tag\" href=\"https://wiki.gnome.org/Projects/PyGObject\">PyGObject</a>, <a class=\"tag\" href=\"http://www.riverbankcomputing.co.uk/software/pyqt/intro\">PyQt</a>, <a class=\"tag\" href=\"https://wiki.qt.io/PySide\">PySide</a>, <a class=\"tag\" href=\"https://kivy.org/\">Kivy</a>, <a class=\"tag\" href=\"http://www.wxpython.org/\">wxPython</a>, <a class=\"tag\" href=\"https://dearpygui.readthedocs.io/en/latest/\">DearPyGui</a></span></li>\\r\\n    <li><b>Scientific and Numeric</b>:\\r\\n        <span class=\"tag-wrapper\">\\r\\n<a class=\"tag\" href=\"http://www.scipy.org\">SciPy</a>, <a class=\"tag\" href=\"http://pandas.pydata.org/\">Pandas</a>, <a href=\"http://ipython.org\" class=\"tag\">IPython</a></span></li>\\r\\n    <li><b>Software Development</b>:\\r\\n        <span class=\"tag-wrapper\"><a class=\"tag\" href=\"http://buildbot.net/\">Buildbot</a>, <a class=\"tag\" href=\"http://trac.edgewall.org/\">Trac</a>, <a class=\"tag\" href=\"http://roundup.sourceforge.net/\">Roundup</a></span></li>\\r\\n    <li><b>System Administration</b>:\\r\\n        <span class=\"tag-wrapper\"><a class=\"tag\" href=\"http://www.ansible.com\">Ansible</a>, <a class=\"tag\" href=\"https://saltproject.io\">Salt</a>, <a class=\"tag\" href=\"https://www.openstack.org\">OpenStack</a>, <a class=\"tag\" href=\"https://xon.sh\">xonsh</a></span></li>\\r\\n</ul>\\n                        </div><!-- end .shrubbery -->\\n                    </div>\\n\\n                </div>\\n\\n                                <div class=\"psf-widget\">\\n\\n                    <div class=\"python-logo\"></div>\\n                    \\n                    <h2 class=\"widget-title\">\\r\\n    <span class=\"prompt\">&gt;&gt;&gt;</span> <a href=\"/psf/\">Python Software Foundation</a>\\r\\n</h2>\\r\\n<p>The mission of the Python Software Foundation is to promote, protect, and advance the Python programming language, and to support and facilitate the growth of a diverse and international community of Python programmers. <a class=\"readmore\" href=\"/psf/\">Learn more</a> </p>\\r\\n<p class=\"click-these\">\\r\\n    <a class=\"button\" href=\"/psf/membership/\">Become a Member</a>\\r\\n    <a class=\"button\" href=\"/psf/donations/\">Donate to the PSF</a>\\r\\n</p>\\n                </div>\\n\\n\\n\\n\\n                </section>\\n\\n                \\n                \\n\\n                \\n                \\n\\n\\n            </div><!-- end .container -->\\n        </div><!-- end #content .content-wrapper -->\\n\\n        <!-- Footer and social media list -->\\n        \\n        <footer id=\"site-map\" class=\"main-footer\" role=\"contentinfo\">\\n            <div class=\"main-footer-links\">\\n                <div class=\"container\">\\n\\n                    \\n                    <a id=\"back-to-top-1\" class=\"jump-link\" href=\"#python-network\"><span aria-hidden=\"true\" class=\"icon-arrow-up\"><span>&#9650;</span></span> Back to Top</a>\\n\\n                    \\n\\n<ul class=\"sitemap navigation menu do-not-print\" role=\"tree\" id=\"container\">\\n    \\n    <li class=\"tier-1 element-1\">\\n        <a href=\"/about/\" >About</a>\\n        \\n            \\n\\n<ul class=\"subnav menu\">\\n    \\n        <li class=\"tier-2 element-1\" role=\"treeitem\"><a href=\"/about/apps/\" title=\"\">Applications</a></li>\\n    \\n        <li class=\"tier-2 element-2\" role=\"treeitem\"><a href=\"/about/quotes/\" title=\"\">Quotes</a></li>\\n    \\n        <li class=\"tier-2 element-3\" role=\"treeitem\"><a href=\"/about/gettingstarted/\" title=\"\">Getting Started</a></li>\\n    \\n        <li class=\"tier-2 element-4\" role=\"treeitem\"><a href=\"/about/help/\" title=\"\">Help</a></li>\\n    \\n        <li class=\"tier-2 element-5\" role=\"treeitem\"><a href=\"http://brochure.getpython.info/\" title=\"\">Python Brochure</a></li>\\n    \\n</ul>\\n\\n        \\n    </li>\\n    \\n    <li class=\"tier-1 element-2\">\\n        <a href=\"/downloads/\" >Downloads</a>\\n        \\n            \\n\\n<ul class=\"subnav menu\">\\n    \\n        <li class=\"tier-2 element-1\" role=\"treeitem\"><a href=\"/downloads/\" title=\"\">All releases</a></li>\\n    \\n        <li class=\"tier-2 element-2\" role=\"treeitem\"><a href=\"/downloads/source/\" title=\"\">Source code</a></li>\\n    \\n        <li class=\"tier-2 element-3\" role=\"treeitem\"><a href=\"/downloads/windows/\" title=\"\">Windows</a></li>\\n    \\n        <li class=\"tier-2 element-4\" role=\"treeitem\"><a href=\"/downloads/macos/\" title=\"\">macOS</a></li>\\n    \\n        <li class=\"tier-2 element-5\" role=\"treeitem\"><a href=\"/download/other/\" title=\"\">Other Platforms</a></li>\\n    \\n        <li class=\"tier-2 element-6\" role=\"treeitem\"><a href=\"https://docs.python.org/3/license.html\" title=\"\">License</a></li>\\n    \\n        <li class=\"tier-2 element-7\" role=\"treeitem\"><a href=\"/download/alternatives\" title=\"\">Alternative Implementations</a></li>\\n    \\n</ul>\\n\\n        \\n    </li>\\n    \\n    <li class=\"tier-1 element-3\">\\n        <a href=\"/doc/\" >Documentation</a>\\n        \\n            \\n\\n<ul class=\"subnav menu\">\\n    \\n        <li class=\"tier-2 element-1\" role=\"treeitem\"><a href=\"/doc/\" title=\"\">Docs</a></li>\\n    \\n        <li class=\"tier-2 element-2\" role=\"treeitem\"><a href=\"/doc/av\" title=\"\">Audio/Visual Talks</a></li>\\n    \\n        <li class=\"tier-2 element-3\" role=\"treeitem\"><a href=\"https://wiki.python.org/moin/BeginnersGuide\" title=\"\">Beginner&#x27;s Guide</a></li>\\n    \\n        <li class=\"tier-2 element-4\" role=\"treeitem\"><a href=\"https://devguide.python.org/\" title=\"\">Developer&#x27;s Guide</a></li>\\n    \\n        <li class=\"tier-2 element-5\" role=\"treeitem\"><a href=\"https://docs.python.org/faq/\" title=\"\">FAQ</a></li>\\n    \\n        <li class=\"tier-2 element-6\" role=\"treeitem\"><a href=\"http://wiki.python.org/moin/Languages\" title=\"\">Non-English Docs</a></li>\\n    \\n        <li class=\"tier-2 element-7\" role=\"treeitem\"><a href=\"https://peps.python.org\" title=\"\">PEP Index</a></li>\\n    \\n        <li class=\"tier-2 element-8\" role=\"treeitem\"><a href=\"https://wiki.python.org/moin/PythonBooks\" title=\"\">Python Books</a></li>\\n    \\n        <li class=\"tier-2 element-9\" role=\"treeitem\"><a href=\"/doc/essays/\" title=\"\">Python Essays</a></li>\\n    \\n</ul>\\n\\n        \\n    </li>\\n    \\n    <li class=\"tier-1 element-4\">\\n        <a href=\"/community/\" >Community</a>\\n        \\n            \\n\\n<ul class=\"subnav menu\">\\n    \\n        <li class=\"tier-2 element-1\" role=\"treeitem\"><a href=\"/community/diversity/\" title=\"\">Diversity</a></li>\\n    \\n        <li class=\"tier-2 element-2\" role=\"treeitem\"><a href=\"/community/lists/\" title=\"\">Mailing Lists</a></li>\\n    \\n        <li class=\"tier-2 element-3\" role=\"treeitem\"><a href=\"/community/irc/\" title=\"\">IRC</a></li>\\n    \\n        <li class=\"tier-2 element-4\" role=\"treeitem\"><a href=\"/community/forums/\" title=\"\">Forums</a></li>\\n    \\n        <li class=\"tier-2 element-5\" role=\"treeitem\"><a href=\"/psf/annual-report/2024/\" title=\"\">PSF Annual Impact Report</a></li>\\n    \\n        <li class=\"tier-2 element-6\" role=\"treeitem\"><a href=\"/community/workshops/\" title=\"\">Python Conferences</a></li>\\n    \\n        <li class=\"tier-2 element-7\" role=\"treeitem\"><a href=\"/community/sigs/\" title=\"\">Special Interest Groups</a></li>\\n    \\n        <li class=\"tier-2 element-8\" role=\"treeitem\"><a href=\"/community/logos/\" title=\"\">Python Logo</a></li>\\n    \\n        <li class=\"tier-2 element-9\" role=\"treeitem\"><a href=\"https://wiki.python.org/moin/\" title=\"\">Python Wiki</a></li>\\n    \\n        <li class=\"tier-2 element-10\" role=\"treeitem\"><a href=\"/psf/conduct/\" title=\"\">Code of Conduct</a></li>\\n    \\n        <li class=\"tier-2 element-11\" role=\"treeitem\"><a href=\"/community/awards\" title=\"\">Community Awards</a></li>\\n    \\n        <li class=\"tier-2 element-12\" role=\"treeitem\"><a href=\"/psf/get-involved/\" title=\"\">Get Involved</a></li>\\n    \\n        <li class=\"tier-2 element-13\" role=\"treeitem\"><a href=\"/psf/community-stories/\" title=\"\">Shared Stories</a></li>\\n    \\n</ul>\\n\\n        \\n    </li>\\n    \\n    <li class=\"tier-1 element-5\">\\n        <a href=\"/success-stories/\" title=\"success-stories\">Success Stories</a>\\n        \\n            \\n\\n<ul class=\"subnav menu\">\\n    \\n        <li class=\"tier-2 element-1\" role=\"treeitem\"><a href=\"/success-stories/category/arts/\" title=\"\">Arts</a></li>\\n    \\n        <li class=\"tier-2 element-2\" role=\"treeitem\"><a href=\"/success-stories/category/business/\" title=\"\">Business</a></li>\\n    \\n        <li class=\"tier-2 element-3\" role=\"treeitem\"><a href=\"/success-stories/category/education/\" title=\"\">Education</a></li>\\n    \\n        <li class=\"tier-2 element-4\" role=\"treeitem\"><a href=\"/success-stories/category/engineering/\" title=\"\">Engineering</a></li>\\n    \\n        <li class=\"tier-2 element-5\" role=\"treeitem\"><a href=\"/success-stories/category/government/\" title=\"\">Government</a></li>\\n    \\n        <li class=\"tier-2 element-6\" role=\"treeitem\"><a href=\"/success-stories/category/scientific/\" title=\"\">Scientific</a></li>\\n    \\n        <li class=\"tier-2 element-7\" role=\"treeitem\"><a href=\"/success-stories/category/software-development/\" title=\"\">Software Development</a></li>\\n    \\n</ul>\\n\\n        \\n    </li>\\n    \\n    <li class=\"tier-1 element-6\">\\n        <a href=\"/blogs/\" title=\"News from around the Python world\">News</a>\\n        \\n            \\n\\n<ul class=\"subnav menu\">\\n    \\n        <li class=\"tier-2 element-1\" role=\"treeitem\"><a href=\"/blogs/\" title=\"Python Insider Blog Posts\">Python News</a></li>\\n    \\n        <li class=\"tier-2 element-2\" role=\"treeitem\"><a href=\"/psf/newsletter/\" title=\"Python Software Foundation Newsletter\">PSF Newsletter</a></li>\\n    \\n        <li class=\"tier-2 element-3\" role=\"treeitem\"><a href=\"http://pyfound.blogspot.com/\" title=\"PSF Blog\">PSF News</a></li>\\n    \\n        <li class=\"tier-2 element-4\" role=\"treeitem\"><a href=\"http://pycon.blogspot.com/\" title=\"PyCon Blog\">PyCon US News</a></li>\\n    \\n        <li class=\"tier-2 element-5\" role=\"treeitem\"><a href=\"http://planetpython.org/\" title=\"Planet Python\">News from the Community</a></li>\\n    \\n</ul>\\n\\n        \\n    </li>\\n    \\n    <li class=\"tier-1 element-7\">\\n        <a href=\"/events/\" >Events</a>\\n        \\n            \\n\\n<ul class=\"subnav menu\">\\n    \\n        <li class=\"tier-2 element-1\" role=\"treeitem\"><a href=\"/events/python-events/\" title=\"\">Python Events</a></li>\\n    \\n        <li class=\"tier-2 element-2\" role=\"treeitem\"><a href=\"/events/python-user-group/\" title=\"\">User Group Events</a></li>\\n    \\n        <li class=\"tier-2 element-3\" role=\"treeitem\"><a href=\"/events/python-events/past/\" title=\"\">Python Events Archive</a></li>\\n    \\n        <li class=\"tier-2 element-4\" role=\"treeitem\"><a href=\"/events/python-user-group/past/\" title=\"\">User Group Events Archive</a></li>\\n    \\n        <li class=\"tier-2 element-5\" role=\"treeitem\"><a href=\"https://wiki.python.org/moin/PythonEventsCalendar#Submitting_an_Event\" title=\"\">Submit an Event</a></li>\\n    \\n</ul>\\n\\n        \\n    </li>\\n    \\n    <li class=\"tier-1 element-8\">\\n        <a href=\"/dev/\" >Contributing</a>\\n        \\n            \\n\\n<ul class=\"subnav menu\">\\n    \\n        <li class=\"tier-2 element-1\" role=\"treeitem\"><a href=\"https://devguide.python.org/\" title=\"\">Developer&#x27;s Guide</a></li>\\n    \\n        <li class=\"tier-2 element-2\" role=\"treeitem\"><a href=\"https://github.com/python/cpython/issues\" title=\"\">Issue Tracker</a></li>\\n    \\n        <li class=\"tier-2 element-3\" role=\"treeitem\"><a href=\"https://mail.python.org/mailman/listinfo/python-dev\" title=\"\">python-dev list</a></li>\\n    \\n        <li class=\"tier-2 element-4\" role=\"treeitem\"><a href=\"/dev/core-mentorship/\" title=\"\">Core Mentorship</a></li>\\n    \\n        <li class=\"tier-2 element-5\" role=\"treeitem\"><a href=\"/dev/security/\" title=\"\">Report a Security Issue</a></li>\\n    \\n</ul>\\n\\n        \\n    </li>\\n    \\n</ul>\\n\\n\\n                    <a id=\"back-to-top-2\" class=\"jump-link\" href=\"#python-network\"><span aria-hidden=\"true\" class=\"icon-arrow-up\"><span>&#9650;</span></span> Back to Top</a>\\n                    \\n\\n                </div><!-- end .container -->\\n            </div> <!-- end .main-footer-links -->\\n\\n            <div class=\"site-base\">\\n                <div class=\"container\">\\n                    \\n                    <ul class=\"footer-links navigation menu do-not-print\" role=\"tree\">\\n                        <li class=\"tier-1 element-1\"><a href=\"/about/help/\">Help &amp; <span class=\"say-no-more\">General</span> Contact</a></li>\\n                        <li class=\"tier-1 element-2\"><a href=\"/community/diversity/\">Diversity <span class=\"say-no-more\">Initiatives</span></a></li>\\n                        <li class=\"tier-1 element-3\"><a href=\"https://github.com/python/pythondotorg/issues\">Submit Website Bug</a></li>\\n                        <li class=\"tier-1 element-4\">\\n                            <a href=\"https://status.python.org/\">Status <span class=\"python-status-indicator-default\" id=\"python-status-indicator\"></span></a>\\n                        </li>\\n                    </ul>\\n\\n                    <div class=\"copyright\">\\n                        <p><small>\\n                            <span class=\"pre\">Copyright &copy;2001-2025.</span>\\n                            &nbsp;<span class=\"pre\"><a href=\"/psf-landing/\">Python Software Foundation</a></span>\\n                            &nbsp;<span class=\"pre\"><a href=\"/about/legal/\">Legal Statements</a></span>\\n                            &nbsp;<span class=\"pre\"><a href=\"https://policies.python.org/python.org/Privacy-Notice/\">Privacy Notice</a></span>\\n                            <!--&nbsp;<span class=\"pre\"><a href=\"/psf/community-infrastructure\">Powered by PSF Community Infrastructure</a></span>-->\\n                        </small></p>\\n                    </div>\\n\\n                </div><!-- end .container -->\\n            </div><!-- end .site-base -->\\n\\n        </footer>\\n        \\n\\n    </div><!-- end #touchnav-wrapper -->\\n\\n    \\n    <script src=\"//ajax.googleapis.com/ajax/libs/jquery/1.8.2/jquery.min.js\"></script>\\n    <script>window.jQuery || document.write(\\'<script src=\"/static/js/libs/jquery-1.8.2.min.js\"><\\\\/script>\\')</script>\\n    <script src=\"//ajax.googleapis.com/ajax/libs/jqueryui/1.12.1/jquery-ui.min.js\"></script>\\n    <script>window.jQuery || document.write(\\'<script src=\"/static/js/libs/jquery-ui-1.12.1.min.js\"><\\\\/script>\\')</script>\\n\\n    <script src=\"/static/js/libs/masonry.pkgd.min.js\"></script>\\n    <script src=\"/static/js/libs/html-includes.js\"></script>\\n\\n    <script type=\"text/javascript\" src=\"/static/js/main-min.ef82c06437cf.js\" charset=\"utf-8\"></script>\\n    \\n\\n    <!--[if lte IE 7]>\\n    <script type=\"text/javascript\" src=\"/static/js/plugins/IE8-min.8af6e26c7a3b.js\" charset=\"utf-8\"></script>\\n    \\n    \\n    <![endif]-->\\n\\n    <!--[if lte IE 8]>\\n    <script type=\"text/javascript\" src=\"/static/js/plugins/getComputedStyle-min.d41d8cd98f00.js\" charset=\"utf-8\"></script>\\n    \\n    \\n    <![endif]-->\\n\\n    \\n\\n    \\n    \\n\\n</body>\\n</html>\\n'"
            ]
          },
          "metadata": {},
          "execution_count": 7
        }
      ]
    },
    {
      "cell_type": "code",
      "source": [
        "import difflib"
      ],
      "metadata": {
        "id": "-PfIr4XtzwPK"
      },
      "execution_count": 8,
      "outputs": []
    },
    {
      "cell_type": "code",
      "source": [
        "flines = 'Hello. How are you? I am fine.'\n",
        "glines = 'How are you, Lilian? I am doing well.'"
      ],
      "metadata": {
        "id": "yVtU6-SNzxrp"
      },
      "execution_count": 20,
      "outputs": []
    },
    {
      "cell_type": "code",
      "source": [
        "d = difflib.Differ()"
      ],
      "metadata": {
        "id": "_Uoi9-6Qz5tG"
      },
      "execution_count": 21,
      "outputs": []
    },
    {
      "cell_type": "code",
      "source": [
        "diff = d.compare(flines,glines)\n",
        "for line in diff:\n",
        "  print(line)"
      ],
      "metadata": {
        "colab": {
          "base_uri": "https://localhost:8080/"
        },
        "id": "uf6WfUyh0BYs",
        "outputId": "e0e6b0e4-7f74-45e3-bf39-394cbdd1f379"
      },
      "execution_count": 22,
      "outputs": [
        {
          "output_type": "stream",
          "name": "stdout",
          "text": [
            "- H\n",
            "- e\n",
            "- l\n",
            "- l\n",
            "- o\n",
            "- .\n",
            "-  \n",
            "  H\n",
            "  o\n",
            "  w\n",
            "   \n",
            "  a\n",
            "  r\n",
            "  e\n",
            "   \n",
            "  y\n",
            "  o\n",
            "  u\n",
            "+ ,\n",
            "+  \n",
            "+ L\n",
            "+ i\n",
            "+ l\n",
            "+ i\n",
            "+ a\n",
            "+ n\n",
            "  ?\n",
            "   \n",
            "  I\n",
            "   \n",
            "  a\n",
            "  m\n",
            "   \n",
            "- f\n",
            "+ d\n",
            "+ o\n",
            "  i\n",
            "  n\n",
            "+ g\n",
            "+  \n",
            "+ w\n",
            "  e\n",
            "+ l\n",
            "+ l\n",
            "  .\n"
          ]
        }
      ]
    },
    {
      "cell_type": "markdown",
      "source": [
        "# Beautiful Soup object"
      ],
      "metadata": {
        "id": "e0p2mtwH1alA"
      }
    },
    {
      "cell_type": "code",
      "source": [
        "import sys\n",
        "print(sys.version)"
      ],
      "metadata": {
        "colab": {
          "base_uri": "https://localhost:8080/"
        },
        "id": "BewxqZLn3obV",
        "outputId": "9affb32b-30c4-4a7d-ab08-6d00458aad5d"
      },
      "execution_count": 24,
      "outputs": [
        {
          "output_type": "stream",
          "name": "stdout",
          "text": [
            "3.11.13 (main, Jun  4 2025, 08:57:29) [GCC 11.4.0]\n"
          ]
        }
      ]
    },
    {
      "cell_type": "code",
      "source": [
        "from bs4 import BeautifulSoup"
      ],
      "metadata": {
        "id": "HlwhW96g3ywc"
      },
      "execution_count": 25,
      "outputs": []
    },
    {
      "cell_type": "code",
      "source": [
        "our_html_document = '''\n",
        "<html><head><title>IoT Articles</title></head>\n",
        "<body>\n",
        "<p class='title'><b>2018 Trends: Best New IoT Device Ideas for Data Scientists and Engineers</b></p>\n",
        "\n",
        "<p class='description'>It’s almost 2018 and IoT is on the cusp of an explosive expansion. In this article, I offer you a listing of new IoT device ideas that you can use...\n",
        "<br>\n",
        "<br>\n",
        "It’s almost 2018 and IoT is on the cusp of an explosive expansion. In this article, I offer you a listing of new IoT device ideas that you can use to get practice in designing your first IoT applications.\n",
        "<h1>Looking Back at My Coolest IoT Find in 2017</h1>\n",
        "Before going into detail about best new IoT device ideas, here’s the backstory. <span style=\"text-decoration: underline;\"><strong><a href=\"http://bit.ly/LPlNDJj\">Last month Ericsson Digital invited me</a></strong></span> to tour the Ericsson Studio in Kista, Sweden. Up until that visit, <a href=\"http://www.data-mania.com/blog/m2m-vs-iot/\">IoT</a> had been largely theoretical to me. Of course, I know the usual mumbo-jumbo about wearables and IoT-connected fitness trackers. That stuff is all well and good, but it’s somewhat old hat – plus I am not sure we are really benefiting so much from those, so I’m not that impressed.\n",
        "\n",
        "It wasn’t until I got to the Ericsson Studio that I became extremely impressed by how far IoT has really come. Relying on the promise of the 5g network expansion, IoT-powered smart devices are on the cusp of an explosive growth in adoption. It was Ericsson’s Smart Car that sent me reeling:<a href=\"bit.ly/LPlNDJj\"><img class=\"aligncenter size-full wp-image-3802\" src=\"http://www.data-mania.com/blog/wp-content/uploads/2017/12/new-IoT-device-ideas.jpg\" alt=\"Get your new iot device ideas here\" width=\"1024\" height=\"683\" /></a>\n",
        "\n",
        "This car is connected to Ericsson’s Connected Vehicle Cloud, an IoT platform that manages services for the Smart Cars to which it’s connected. The Volvo pictured above acts as a drop-off location for groceries that have been ordered by its owner.\n",
        "\n",
        "To understand how it works, imagine you’re pulling your normal 9-to-5 and you know you need to grab some groceries on your way home. Well, since you’re smart you’ve used Ericsson IoT platform to connect your car to the local grocery delivery service (<a href=\"http://mat.se/\">Mat.se</a>), so all you need to do is open the Mat.se app and make your usual order. Mat.se automatically handles the payment, grocery selection, delivery, and delivery scheduling. Since your car is IoT-enabled, Mat.se issues its trusted delivery agent a 1-time token to use for opening your car in order to place your groceries in your car for you at 4:40 pm (just before you get off from work).\n",
        "\n",
        "To watch some of the amazing IoT device demos I witnessed at Ericsson Studio, make sure to go <span style=\"text-decoration: underline;\"><strong><a href=\"http://bit.ly/LPlNDJj\">watch the videos on this page</a></strong></span>.\n",
        "<h1>Future Trends for IoT in 2018</h1>\n",
        "New IoT device ideas won’t do you much good unless you at least know the basic technology trends that are set to impact IoT over the next year(s). These include:\n",
        "<ol>\n",
        " \t<li><strong>Big Data</strong> &amp; Data Engineering: Sensors that are embedded within IoT devices spin off machine-generated data like it’s going out of style. For IoT to function, the platform must be solidly engineered to handle big data. Be assured, that requires some serious data engineering.</li>\n",
        " \t<li><strong>Machine Learning</strong> Data Science: While a lot of IoT devices are still operated according to rules-based decision criteria, the age of artificial intelligence is upon us. IoT will increasingly depend on machine learning algorithms to control device operations so that devices are able to autonomously respond to a complex set of overlapping stimuli.</li>\n",
        " \t<li><strong>Blockchain</strong>-Enabled Security: Above all else, IoT networks must be secure. Blockchain technology is primed to meet the security demands that come along with building and expanding the IoT.</li>\n",
        "</ol>\n",
        "<h1>Best New IoT Device Ideas</h1>\n",
        "This listing of new IoT device ideas has been sub-divided according to the main technology upon which the IoT devices are built. Below I’m providing a list of new IoT device ideas, but for detailed instructions on how to build these IoT applications, I recommend the <a href=\"https://click.linksynergy.com/deeplink?id=*JDLXjeE*wk&amp;mid=39197&amp;murl=https%3A%2F%2Fwww.udemy.com%2Ftopic%2Finternet-of-things%2F%3Fsort%3Dhighest-rated\">IoT courses on Udemy</a> (ß Please note: if you purchase a Udemy course through this link, I may receive a small commission), or courses that are available at <a href=\"http://www.skyfilabs.com/iot-online-courses\">SkyFi</a> and <a href=\"https://www.coursera.org/specializations/iot\">Coursera</a>.\n",
        "<h2>Raspberry Pi IoT Ideas</h2>\n",
        "Using Raspberry Pi as open-source hardware, you can build IoT applications that offer any one of the following benefits:\n",
        "<ol>\n",
        " \t<li>Enable built-in sensing to build a weather station that measures ambient temperature and humidity</li>\n",
        " \t<li>Build a system that detects discrepancies in electrical readings to identify electricity theft</li>\n",
        " \t<li>Use IoT to build a Servo that is controlled by motion detection readings</li>\n",
        " \t<li>Build a smart control switch that operates devices based on external stimuli. Use this for home automation.</li>\n",
        " \t<li>Build a music playing application that enables music for each room in your house</li>\n",
        " \t<li>Implement biometrics on IoT-connected devices</li>\n",
        "</ol>\n",
        "<h2>Arduino IoT Ideas</h2>\n",
        "There are a number of new IoT device ideas that deploy Arduino as a microcontroller. These include:\n",
        "<ol>\n",
        " \t<li>Integrate Arduino with Android to build a remote-control RGB LED device.</li>\n",
        " \t<li>Connect PIR sensors across the IoT to implement a smart building.</li>\n",
        " \t<li>Build a temperature and sunlight sensor system to remotely monitor and control the conditions of your garden.</li>\n",
        " \t<li>Deploy Arduino and IoT to automate your neighborhood streetlights.</li>\n",
        " \t<li>Build a smart irrigation system based on IoT-connected temperature and moisture sensors built-in to your agricultural plants.</li>\n",
        "</ol>\n",
        "[caption id=\"attachment_3807\" align=\"aligncenter\" width=\"300\"]<a href=\"bit.ly/LPlNDJj\"><img class=\"wp-image-3807 size-medium\" src=\"http://www.data-mania.com/blog/wp-content/uploads/2017/12/IMG_3058-300x295.jpg\" alt=\"\" width=\"300\" height=\"295\" /></a> An IoT Chatbot Tree at the Ericsson Studio[/caption]\n",
        "<h2>Wireless (GSM) IoT Ideas</h2>\n",
        "Several new IoT device ideas are developed around the GSM wireless network. Those are:\n",
        "<ol>\n",
        " \t<li>Monitor soil moisture to automate agricultural irrigation cycles.</li>\n",
        " \t<li>Automate and control the conditions of a greenhouse.</li>\n",
        " \t<li>Enable bio-metrics to build a smart security system for your home or office building</li>\n",
        " \t<li>Build an autonomously operating fitness application that automatically makes recommendations based on motion detection and heart rate sensors that are embedded on wearable fitness trackers.</li>\n",
        " \t<li>Build a healthcare monitoring system that tracks, informs, and automatically alerts healthcare providers based on sensor readings that describe a patients vital statistics (like temperature, pulse, blood pressure, etc).</li>\n",
        "</ol>\n",
        "<h2>IoT Automation Ideas</h2>\n",
        "Almost all new IoT device ideas offer automation benefits, but to outline a few more ideas:\n",
        "<ol>\n",
        " \t<li>Build an IoT device that automatically locates and reports the closest nearby parking spot.</li>\n",
        " \t<li>Build a motion detection system that automatically issues emails or sms messages to alert home owners of a likely home invasion.</li>\n",
        " \t<li>Use temperature sensors connected across the IoT to automatically alert you if your home windows or doors have been left open.</li>\n",
        " \t<li>Use bio-metric sensors to build a smart system that automate security for your home or office building</li>\n",
        "</ol>\n",
        "To learn more about IoT and what’s happening on the leading edge, be sure to pop over to Ericsson’s Studio Tour recap and <span style=\"text-decoration: underline;\"><strong><a href=\"http://bit.ly/LPlNDJj\">watch these videos</a></strong></span>.\n",
        "\n",
        "<em>(I captured some of this content on behalf of DevMode Strategies during an invite-only tour of the Ericsson Studio in Kista. Rest assure, the text and opinions are my own</em>)\n",
        "<p class='description'>...</p>\n",
        "'''"
      ],
      "metadata": {
        "id": "GuLobXcF3loE"
      },
      "execution_count": 23,
      "outputs": []
    },
    {
      "cell_type": "code",
      "source": [
        "our_soup = BeautifulSoup(our_html_document,'html.parser')"
      ],
      "metadata": {
        "id": "NLxqcf-N4A_l"
      },
      "execution_count": 26,
      "outputs": []
    },
    {
      "cell_type": "code",
      "source": [
        "print(our_soup.prettify()[0:300])"
      ],
      "metadata": {
        "colab": {
          "base_uri": "https://localhost:8080/"
        },
        "id": "sBgI_pX04xxj",
        "outputId": "94bafd97-d8f4-4516-d78c-130443621210"
      },
      "execution_count": 27,
      "outputs": [
        {
          "output_type": "stream",
          "name": "stdout",
          "text": [
            "<html>\n",
            " <head>\n",
            "  <title>\n",
            "   IoT Articles\n",
            "  </title>\n",
            " </head>\n",
            " <body>\n",
            "  <p class=\"title\">\n",
            "   <b>\n",
            "    2018 Trends: Best New IoT Device Ideas for Data Scientists and Engineers\n",
            "   </b>\n",
            "  </p>\n",
            "  <p class=\"description\">\n",
            "   It’s almost 2018 and IoT is on the cusp of an explosive expansion. In this article,\n"
          ]
        }
      ]
    },
    {
      "cell_type": "markdown",
      "source": [
        "## Tag objects"
      ],
      "metadata": {
        "id": "uijxf8qh32jW"
      }
    },
    {
      "cell_type": "code",
      "source": [],
      "metadata": {
        "id": "SPtDV-Nu4AQi"
      },
      "execution_count": null,
      "outputs": []
    },
    {
      "cell_type": "markdown",
      "source": [
        "### Tag Names"
      ],
      "metadata": {
        "id": "NUDuzfUm34uI"
      }
    },
    {
      "cell_type": "code",
      "source": [
        "soup_object = BeautifulSoup('<h1 attribute_1 = \"Heading level1\"> Future Trends for IoT in 2018</h1>')\n",
        "tag = soup_object.h1\n",
        "type(tag)"
      ],
      "metadata": {
        "colab": {
          "base_uri": "https://localhost:8080/",
          "height": 220
        },
        "id": "TpYSlwbj44bo",
        "outputId": "9094a080-92bb-4e2d-d783-81d81db77588"
      },
      "execution_count": 28,
      "outputs": [
        {
          "output_type": "execute_result",
          "data": {
            "text/plain": [
              "bs4.element.Tag"
            ],
            "text/html": [
              "<div style=\"max-width:800px; border: 1px solid var(--colab-border-color);\"><style>\n",
              "      pre.function-repr-contents {\n",
              "        overflow-x: auto;\n",
              "        padding: 8px 12px;\n",
              "        max-height: 500px;\n",
              "      }\n",
              "\n",
              "      pre.function-repr-contents.function-repr-contents-collapsed {\n",
              "        cursor: pointer;\n",
              "        max-height: 100px;\n",
              "      }\n",
              "    </style>\n",
              "    <pre style=\"white-space: initial; background:\n",
              "         var(--colab-secondary-surface-color); padding: 8px 12px;\n",
              "         border-bottom: 1px solid var(--colab-border-color);\"><b>bs4.element.Tag</b><br/>def __call__(name: Optional[_StrainableElement]=None, attrs: _StrainableAttributes={}, recursive: bool=True, string: Optional[_StrainableString]=None, limit: Optional[int]=None, _stacklevel: int=2, **kwargs: _StrainableAttribute) -&gt; _QueryResults</pre><pre class=\"function-repr-contents function-repr-contents-collapsed\" style=\"\"><a class=\"filepath\" style=\"display:none\" href=\"#\">/usr/local/lib/python3.11/dist-packages/bs4/element.py</a>An HTML or XML tag that is part of a parse tree, along with its\n",
              "attributes, contents, and relationships to other parts of the tree.\n",
              "\n",
              "When Beautiful Soup parses the markup ``&lt;b&gt;penguin&lt;/b&gt;``, it will\n",
              "create a `Tag` object representing the ``&lt;b&gt;`` tag. You can\n",
              "instantiate `Tag` objects directly, but it&#x27;s not necessary unless\n",
              "you&#x27;re adding entirely new markup to a parsed document. Most of\n",
              "the constructor arguments are intended for use by the `TreeBuilder`\n",
              "that&#x27;s parsing a document.\n",
              "\n",
              ":param parser: A `BeautifulSoup` object representing the parse tree this\n",
              "    `Tag` will be part of.\n",
              ":param builder: The `TreeBuilder` being used to build the tree.\n",
              ":param name: The name of the tag.\n",
              ":param namespace: The URI of this tag&#x27;s XML namespace, if any.\n",
              ":param prefix: The prefix for this tag&#x27;s XML namespace, if any.\n",
              ":param attrs: A dictionary of attribute values.\n",
              ":param parent: The `Tag` to use as the parent of this `Tag`. May be\n",
              "   the `BeautifulSoup` object itself.\n",
              ":param previous: The `PageElement` that was parsed immediately before\n",
              "    parsing this tag.\n",
              ":param is_xml: If True, this is an XML tag. Otherwise, this is an\n",
              "    HTML tag.\n",
              ":param sourceline: The line number where this tag was found in its\n",
              "    source document.\n",
              ":param sourcepos: The character position within ``sourceline`` where this\n",
              "    tag was found.\n",
              ":param can_be_empty_element: If True, this tag should be\n",
              "    represented as &lt;tag/&gt;. If False, this tag should be represented\n",
              "    as &lt;tag&gt;&lt;/tag&gt;.\n",
              ":param cdata_list_attributes: A dictionary of attributes whose values should\n",
              "    be parsed as lists of strings if they ever show up on this tag.\n",
              ":param preserve_whitespace_tags: Names of tags whose contents\n",
              "    should have their whitespace preserved if they are encountered inside\n",
              "    this tag.\n",
              ":param interesting_string_types: When iterating over this tag&#x27;s\n",
              "    string contents in methods like `Tag.strings` or\n",
              "    `PageElement.get_text`, these are the types of strings that are\n",
              "    interesting enough to be considered. By default,\n",
              "    `NavigableString` (normal strings) and `CData` (CDATA\n",
              "    sections) are the only interesting string subtypes.\n",
              ":param namespaces: A dictionary mapping currently active\n",
              "    namespace prefixes to URIs, as of the point in the parsing process when\n",
              "    this tag was encountered. This can be used later to\n",
              "    construct CSS selectors.</pre>\n",
              "      <script>\n",
              "      if (google.colab.kernel.accessAllowed && google.colab.files && google.colab.files.view) {\n",
              "        for (const element of document.querySelectorAll('.filepath')) {\n",
              "          element.style.display = 'block'\n",
              "          element.onclick = (event) => {\n",
              "            event.preventDefault();\n",
              "            event.stopPropagation();\n",
              "            google.colab.files.view(element.textContent, 1577);\n",
              "          };\n",
              "        }\n",
              "      }\n",
              "      for (const element of document.querySelectorAll('.function-repr-contents')) {\n",
              "        element.onclick = (event) => {\n",
              "          event.preventDefault();\n",
              "          event.stopPropagation();\n",
              "          element.classList.toggle('function-repr-contents-collapsed');\n",
              "        };\n",
              "      }\n",
              "      </script>\n",
              "      </div>"
            ]
          },
          "metadata": {},
          "execution_count": 28
        }
      ]
    },
    {
      "cell_type": "code",
      "source": [
        "print(tag)"
      ],
      "metadata": {
        "colab": {
          "base_uri": "https://localhost:8080/"
        },
        "id": "lMvUkwuV5IZ_",
        "outputId": "56a55b6e-a732-406a-9d3f-4fc692079e1c"
      },
      "execution_count": 29,
      "outputs": [
        {
          "output_type": "stream",
          "name": "stdout",
          "text": [
            "<h1 attribute_1=\"Heading level1\"> Future Trends for IoT in 2018</h1>\n"
          ]
        }
      ]
    },
    {
      "cell_type": "code",
      "source": [
        "print(tag.name)"
      ],
      "metadata": {
        "colab": {
          "base_uri": "https://localhost:8080/"
        },
        "id": "kjkqAx0o5Kqv",
        "outputId": "f736a312-91d2-48e7-b925-41c52e42975c"
      },
      "execution_count": 30,
      "outputs": [
        {
          "output_type": "stream",
          "name": "stdout",
          "text": [
            "h1\n"
          ]
        }
      ]
    },
    {
      "cell_type": "code",
      "source": [
        "tag.name = 'heading 1'\n",
        "tag.name"
      ],
      "metadata": {
        "colab": {
          "base_uri": "https://localhost:8080/",
          "height": 35
        },
        "id": "62T0xMFU5NSl",
        "outputId": "667aa4d3-488c-4006-a5fc-8d7694dc3f6c"
      },
      "execution_count": 32,
      "outputs": [
        {
          "output_type": "execute_result",
          "data": {
            "text/plain": [
              "'heading 1'"
            ],
            "application/vnd.google.colaboratory.intrinsic+json": {
              "type": "string"
            }
          },
          "metadata": {},
          "execution_count": 32
        }
      ]
    },
    {
      "cell_type": "markdown",
      "source": [
        "### Tag attributes"
      ],
      "metadata": {
        "id": "w0ORCO2l36km"
      }
    },
    {
      "cell_type": "code",
      "source": [
        "soup_object = BeautifulSoup('<h1 attribute_1 = \"Heading level1\"> Future Trends for IoT in 2018</h1>','html.parser')\n",
        "tag = soup_object.h1\n",
        "tag"
      ],
      "metadata": {
        "colab": {
          "base_uri": "https://localhost:8080/"
        },
        "id": "6zDX3yH15SR2",
        "outputId": "99afc202-9afe-41aa-ca21-873332b484b1"
      },
      "execution_count": 33,
      "outputs": [
        {
          "output_type": "execute_result",
          "data": {
            "text/plain": [
              "<h1 attribute_1=\"Heading level1\"> Future Trends for IoT in 2018</h1>"
            ]
          },
          "metadata": {},
          "execution_count": 33
        }
      ]
    },
    {
      "cell_type": "code",
      "source": [
        "tag['attribute_1']"
      ],
      "metadata": {
        "colab": {
          "base_uri": "https://localhost:8080/",
          "height": 35
        },
        "id": "Uyj9VXJH52tg",
        "outputId": "d1b63fd6-6485-453b-dd3d-0d6c9bec8a52"
      },
      "execution_count": 36,
      "outputs": [
        {
          "output_type": "execute_result",
          "data": {
            "text/plain": [
              "'Heading level1'"
            ],
            "application/vnd.google.colaboratory.intrinsic+json": {
              "type": "string"
            }
          },
          "metadata": {},
          "execution_count": 36
        }
      ]
    },
    {
      "cell_type": "code",
      "source": [
        "tag.attrs"
      ],
      "metadata": {
        "colab": {
          "base_uri": "https://localhost:8080/"
        },
        "id": "UlQVgjbk6B01",
        "outputId": "32e6a1de-3fbf-4a50-dbb3-0d43811b68f9"
      },
      "execution_count": 37,
      "outputs": [
        {
          "output_type": "execute_result",
          "data": {
            "text/plain": [
              "{'attribute_1': 'Heading level1'}"
            ]
          },
          "metadata": {},
          "execution_count": 37
        }
      ]
    },
    {
      "cell_type": "code",
      "source": [
        "tag['attribute_2'] = \"Heading level1\"\n",
        "tag.attrs"
      ],
      "metadata": {
        "colab": {
          "base_uri": "https://localhost:8080/"
        },
        "id": "IHSDaorp6Ekn",
        "outputId": "ae77c14b-33e2-455f-9546-ce3d1299835f"
      },
      "execution_count": 38,
      "outputs": [
        {
          "output_type": "execute_result",
          "data": {
            "text/plain": [
              "{'attribute_1': 'Heading level1', 'attribute_2': 'Heading level1'}"
            ]
          },
          "metadata": {},
          "execution_count": 38
        }
      ]
    },
    {
      "cell_type": "code",
      "source": [
        "tag"
      ],
      "metadata": {
        "colab": {
          "base_uri": "https://localhost:8080/"
        },
        "id": "zgZqzBoE6Msi",
        "outputId": "3621fdce-a787-4fa1-c37c-4cfe65b89b94"
      },
      "execution_count": 39,
      "outputs": [
        {
          "output_type": "execute_result",
          "data": {
            "text/plain": [
              "<h1 attribute_1=\"Heading level1\" attribute_2=\"Heading level1\"> Future Trends for IoT in 2018</h1>"
            ]
          },
          "metadata": {},
          "execution_count": 39
        }
      ]
    },
    {
      "cell_type": "code",
      "source": [
        "del tag['attribute_2']\n",
        "del tag['attribute_1']\n",
        "tag"
      ],
      "metadata": {
        "colab": {
          "base_uri": "https://localhost:8080/"
        },
        "id": "hAulr-m66OaQ",
        "outputId": "e2ee2230-2acb-4891-e924-28b2edf66178"
      },
      "execution_count": 40,
      "outputs": [
        {
          "output_type": "execute_result",
          "data": {
            "text/plain": [
              "<h1> Future Trends for IoT in 2018</h1>"
            ]
          },
          "metadata": {},
          "execution_count": 40
        }
      ]
    },
    {
      "cell_type": "code",
      "source": [
        "tag.attrs"
      ],
      "metadata": {
        "colab": {
          "base_uri": "https://localhost:8080/"
        },
        "id": "-CcxCpaA6TfF",
        "outputId": "81422cd6-1edf-41fd-dc8b-21bf506492a8"
      },
      "execution_count": 41,
      "outputs": [
        {
          "output_type": "execute_result",
          "data": {
            "text/plain": [
              "{}"
            ]
          },
          "metadata": {},
          "execution_count": 41
        }
      ]
    },
    {
      "cell_type": "markdown",
      "source": [
        "## Navigating a parse tree using tags"
      ],
      "metadata": {
        "id": "pUXfC7O139Jn"
      }
    },
    {
      "cell_type": "code",
      "source": [
        "our_soup.head"
      ],
      "metadata": {
        "colab": {
          "base_uri": "https://localhost:8080/"
        },
        "id": "Pr_UiwNo6Woq",
        "outputId": "9dcc2319-35ab-4b59-d7a7-7d45c4ec2671"
      },
      "execution_count": 42,
      "outputs": [
        {
          "output_type": "execute_result",
          "data": {
            "text/plain": [
              "<head><title>IoT Articles</title></head>"
            ]
          },
          "metadata": {},
          "execution_count": 42
        }
      ]
    },
    {
      "cell_type": "code",
      "source": [
        "our_soup.title"
      ],
      "metadata": {
        "colab": {
          "base_uri": "https://localhost:8080/"
        },
        "id": "wOoL-3pQ6d_Q",
        "outputId": "086c39a8-89dd-4117-cef4-6ad573baa234"
      },
      "execution_count": 43,
      "outputs": [
        {
          "output_type": "execute_result",
          "data": {
            "text/plain": [
              "<title>IoT Articles</title>"
            ]
          },
          "metadata": {},
          "execution_count": 43
        }
      ]
    },
    {
      "cell_type": "code",
      "source": [
        "our_soup.body.b"
      ],
      "metadata": {
        "colab": {
          "base_uri": "https://localhost:8080/"
        },
        "id": "l61xqo3G6jPx",
        "outputId": "e9717921-f41d-4226-9954-501f5a08ff2e"
      },
      "execution_count": 44,
      "outputs": [
        {
          "output_type": "execute_result",
          "data": {
            "text/plain": [
              "<b>2018 Trends: Best New IoT Device Ideas for Data Scientists and Engineers</b>"
            ]
          },
          "metadata": {},
          "execution_count": 44
        }
      ]
    },
    {
      "cell_type": "code",
      "source": [
        "our_soup.body"
      ],
      "metadata": {
        "colab": {
          "base_uri": "https://localhost:8080/"
        },
        "id": "AMonbNrv6n1o",
        "outputId": "1fd155eb-b43c-4f8b-842f-9aa5b38f46d6"
      },
      "execution_count": 45,
      "outputs": [
        {
          "output_type": "execute_result",
          "data": {
            "text/plain": [
              "<body>\n",
              "<p class=\"title\"><b>2018 Trends: Best New IoT Device Ideas for Data Scientists and Engineers</b></p>\n",
              "<p class=\"description\">It’s almost 2018 and IoT is on the cusp of an explosive expansion. In this article, I offer you a listing of new IoT device ideas that you can use...\n",
              "<br/>\n",
              "<br/>\n",
              "It’s almost 2018 and IoT is on the cusp of an explosive expansion. In this article, I offer you a listing of new IoT device ideas that you can use to get practice in designing your first IoT applications.\n",
              "<h1>Looking Back at My Coolest IoT Find in 2017</h1>\n",
              "Before going into detail about best new IoT device ideas, here’s the backstory. <span style=\"text-decoration: underline;\"><strong><a href=\"http://bit.ly/LPlNDJj\">Last month Ericsson Digital invited me</a></strong></span> to tour the Ericsson Studio in Kista, Sweden. Up until that visit, <a href=\"http://www.data-mania.com/blog/m2m-vs-iot/\">IoT</a> had been largely theoretical to me. Of course, I know the usual mumbo-jumbo about wearables and IoT-connected fitness trackers. That stuff is all well and good, but it’s somewhat old hat – plus I am not sure we are really benefiting so much from those, so I’m not that impressed.\n",
              "\n",
              "It wasn’t until I got to the Ericsson Studio that I became extremely impressed by how far IoT has really come. Relying on the promise of the 5g network expansion, IoT-powered smart devices are on the cusp of an explosive growth in adoption. It was Ericsson’s Smart Car that sent me reeling:<a href=\"bit.ly/LPlNDJj\"><img alt=\"Get your new iot device ideas here\" class=\"aligncenter size-full wp-image-3802\" height=\"683\" src=\"http://www.data-mania.com/blog/wp-content/uploads/2017/12/new-IoT-device-ideas.jpg\" width=\"1024\"/></a>\n",
              "\n",
              "This car is connected to Ericsson’s Connected Vehicle Cloud, an IoT platform that manages services for the Smart Cars to which it’s connected. The Volvo pictured above acts as a drop-off location for groceries that have been ordered by its owner.\n",
              "\n",
              "To understand how it works, imagine you’re pulling your normal 9-to-5 and you know you need to grab some groceries on your way home. Well, since you’re smart you’ve used Ericsson IoT platform to connect your car to the local grocery delivery service (<a href=\"http://mat.se/\">Mat.se</a>), so all you need to do is open the Mat.se app and make your usual order. Mat.se automatically handles the payment, grocery selection, delivery, and delivery scheduling. Since your car is IoT-enabled, Mat.se issues its trusted delivery agent a 1-time token to use for opening your car in order to place your groceries in your car for you at 4:40 pm (just before you get off from work).\n",
              "\n",
              "To watch some of the amazing IoT device demos I witnessed at Ericsson Studio, make sure to go <span style=\"text-decoration: underline;\"><strong><a href=\"http://bit.ly/LPlNDJj\">watch the videos on this page</a></strong></span>.\n",
              "<h1>Future Trends for IoT in 2018</h1>\n",
              "New IoT device ideas won’t do you much good unless you at least know the basic technology trends that are set to impact IoT over the next year(s). These include:\n",
              "<ol>\n",
              "<li><strong>Big Data</strong> &amp; Data Engineering: Sensors that are embedded within IoT devices spin off machine-generated data like it’s going out of style. For IoT to function, the platform must be solidly engineered to handle big data. Be assured, that requires some serious data engineering.</li>\n",
              "<li><strong>Machine Learning</strong> Data Science: While a lot of IoT devices are still operated according to rules-based decision criteria, the age of artificial intelligence is upon us. IoT will increasingly depend on machine learning algorithms to control device operations so that devices are able to autonomously respond to a complex set of overlapping stimuli.</li>\n",
              "<li><strong>Blockchain</strong>-Enabled Security: Above all else, IoT networks must be secure. Blockchain technology is primed to meet the security demands that come along with building and expanding the IoT.</li>\n",
              "</ol>\n",
              "<h1>Best New IoT Device Ideas</h1>\n",
              "This listing of new IoT device ideas has been sub-divided according to the main technology upon which the IoT devices are built. Below I’m providing a list of new IoT device ideas, but for detailed instructions on how to build these IoT applications, I recommend the <a href=\"https://click.linksynergy.com/deeplink?id=*JDLXjeE*wk&amp;mid=39197&amp;murl=https%3A%2F%2Fwww.udemy.com%2Ftopic%2Finternet-of-things%2F%3Fsort%3Dhighest-rated\">IoT courses on Udemy</a> (ß Please note: if you purchase a Udemy course through this link, I may receive a small commission), or courses that are available at <a href=\"http://www.skyfilabs.com/iot-online-courses\">SkyFi</a> and <a href=\"https://www.coursera.org/specializations/iot\">Coursera</a>.\n",
              "<h2>Raspberry Pi IoT Ideas</h2>\n",
              "Using Raspberry Pi as open-source hardware, you can build IoT applications that offer any one of the following benefits:\n",
              "<ol>\n",
              "<li>Enable built-in sensing to build a weather station that measures ambient temperature and humidity</li>\n",
              "<li>Build a system that detects discrepancies in electrical readings to identify electricity theft</li>\n",
              "<li>Use IoT to build a Servo that is controlled by motion detection readings</li>\n",
              "<li>Build a smart control switch that operates devices based on external stimuli. Use this for home automation.</li>\n",
              "<li>Build a music playing application that enables music for each room in your house</li>\n",
              "<li>Implement biometrics on IoT-connected devices</li>\n",
              "</ol>\n",
              "<h2>Arduino IoT Ideas</h2>\n",
              "There are a number of new IoT device ideas that deploy Arduino as a microcontroller. These include:\n",
              "<ol>\n",
              "<li>Integrate Arduino with Android to build a remote-control RGB LED device.</li>\n",
              "<li>Connect PIR sensors across the IoT to implement a smart building.</li>\n",
              "<li>Build a temperature and sunlight sensor system to remotely monitor and control the conditions of your garden.</li>\n",
              "<li>Deploy Arduino and IoT to automate your neighborhood streetlights.</li>\n",
              "<li>Build a smart irrigation system based on IoT-connected temperature and moisture sensors built-in to your agricultural plants.</li>\n",
              "</ol>\n",
              "[caption id=\"attachment_3807\" align=\"aligncenter\" width=\"300\"]<a href=\"bit.ly/LPlNDJj\"><img alt=\"\" class=\"wp-image-3807 size-medium\" height=\"295\" src=\"http://www.data-mania.com/blog/wp-content/uploads/2017/12/IMG_3058-300x295.jpg\" width=\"300\"/></a> An IoT Chatbot Tree at the Ericsson Studio[/caption]\n",
              "<h2>Wireless (GSM) IoT Ideas</h2>\n",
              "Several new IoT device ideas are developed around the GSM wireless network. Those are:\n",
              "<ol>\n",
              "<li>Monitor soil moisture to automate agricultural irrigation cycles.</li>\n",
              "<li>Automate and control the conditions of a greenhouse.</li>\n",
              "<li>Enable bio-metrics to build a smart security system for your home or office building</li>\n",
              "<li>Build an autonomously operating fitness application that automatically makes recommendations based on motion detection and heart rate sensors that are embedded on wearable fitness trackers.</li>\n",
              "<li>Build a healthcare monitoring system that tracks, informs, and automatically alerts healthcare providers based on sensor readings that describe a patients vital statistics (like temperature, pulse, blood pressure, etc).</li>\n",
              "</ol>\n",
              "<h2>IoT Automation Ideas</h2>\n",
              "Almost all new IoT device ideas offer automation benefits, but to outline a few more ideas:\n",
              "<ol>\n",
              "<li>Build an IoT device that automatically locates and reports the closest nearby parking spot.</li>\n",
              "<li>Build a motion detection system that automatically issues emails or sms messages to alert home owners of a likely home invasion.</li>\n",
              "<li>Use temperature sensors connected across the IoT to automatically alert you if your home windows or doors have been left open.</li>\n",
              "<li>Use bio-metric sensors to build a smart system that automate security for your home or office building</li>\n",
              "</ol>\n",
              "To learn more about IoT and what’s happening on the leading edge, be sure to pop over to Ericsson’s Studio Tour recap and <span style=\"text-decoration: underline;\"><strong><a href=\"http://bit.ly/LPlNDJj\">watch these videos</a></strong></span>.\n",
              "\n",
              "<em>(I captured some of this content on behalf of DevMode Strategies during an invite-only tour of the Ericsson Studio in Kista. Rest assure, the text and opinions are my own</em>)\n",
              "<p class=\"description\">...</p>\n",
              "</p></body>"
            ]
          },
          "metadata": {},
          "execution_count": 45
        }
      ]
    },
    {
      "cell_type": "code",
      "source": [
        "our_soup.li"
      ],
      "metadata": {
        "colab": {
          "base_uri": "https://localhost:8080/"
        },
        "id": "wGyMJIEL6rXY",
        "outputId": "e4d50184-59cf-4590-8077-1104e852d0ae"
      },
      "execution_count": 46,
      "outputs": [
        {
          "output_type": "execute_result",
          "data": {
            "text/plain": [
              "<li><strong>Big Data</strong> &amp; Data Engineering: Sensors that are embedded within IoT devices spin off machine-generated data like it’s going out of style. For IoT to function, the platform must be solidly engineered to handle big data. Be assured, that requires some serious data engineering.</li>"
            ]
          },
          "metadata": {},
          "execution_count": 46
        }
      ]
    },
    {
      "cell_type": "code",
      "source": [
        "our_soup.a"
      ],
      "metadata": {
        "colab": {
          "base_uri": "https://localhost:8080/"
        },
        "id": "xN4_Gh0h6siL",
        "outputId": "355e2d1a-e872-402f-9050-4c0db5acbf19"
      },
      "execution_count": 47,
      "outputs": [
        {
          "output_type": "execute_result",
          "data": {
            "text/plain": [
              "<a href=\"http://bit.ly/LPlNDJj\">Last month Ericsson Digital invited me</a>"
            ]
          },
          "metadata": {},
          "execution_count": 47
        }
      ]
    },
    {
      "cell_type": "markdown",
      "source": [
        "# NaviagatableString Objects"
      ],
      "metadata": {
        "id": "dzF3WzeG6ub-"
      }
    },
    {
      "cell_type": "markdown",
      "source": [
        "## Utilizing navigatable string objects"
      ],
      "metadata": {
        "id": "bAnx9TXl603j"
      }
    },
    {
      "cell_type": "code",
      "source": [
        "soup_object = BeautifulSoup('<h1 attribute_1 = \"Heading level1\"> Future Trends for IoT in 2018</h1>','html.parser')\n",
        "tag = soup_object.h1\n",
        "type(tag)"
      ],
      "metadata": {
        "colab": {
          "base_uri": "https://localhost:8080/",
          "height": 220
        },
        "id": "nZoFlr1s7AfS",
        "outputId": "72f2b6ec-c304-49e1-91a0-7ca1986323fe"
      },
      "execution_count": 49,
      "outputs": [
        {
          "output_type": "execute_result",
          "data": {
            "text/plain": [
              "bs4.element.Tag"
            ],
            "text/html": [
              "<div style=\"max-width:800px; border: 1px solid var(--colab-border-color);\"><style>\n",
              "      pre.function-repr-contents {\n",
              "        overflow-x: auto;\n",
              "        padding: 8px 12px;\n",
              "        max-height: 500px;\n",
              "      }\n",
              "\n",
              "      pre.function-repr-contents.function-repr-contents-collapsed {\n",
              "        cursor: pointer;\n",
              "        max-height: 100px;\n",
              "      }\n",
              "    </style>\n",
              "    <pre style=\"white-space: initial; background:\n",
              "         var(--colab-secondary-surface-color); padding: 8px 12px;\n",
              "         border-bottom: 1px solid var(--colab-border-color);\"><b>bs4.element.Tag</b><br/>def __call__(name: Optional[_StrainableElement]=None, attrs: _StrainableAttributes={}, recursive: bool=True, string: Optional[_StrainableString]=None, limit: Optional[int]=None, _stacklevel: int=2, **kwargs: _StrainableAttribute) -&gt; _QueryResults</pre><pre class=\"function-repr-contents function-repr-contents-collapsed\" style=\"\"><a class=\"filepath\" style=\"display:none\" href=\"#\">/usr/local/lib/python3.11/dist-packages/bs4/element.py</a>An HTML or XML tag that is part of a parse tree, along with its\n",
              "attributes, contents, and relationships to other parts of the tree.\n",
              "\n",
              "When Beautiful Soup parses the markup ``&lt;b&gt;penguin&lt;/b&gt;``, it will\n",
              "create a `Tag` object representing the ``&lt;b&gt;`` tag. You can\n",
              "instantiate `Tag` objects directly, but it&#x27;s not necessary unless\n",
              "you&#x27;re adding entirely new markup to a parsed document. Most of\n",
              "the constructor arguments are intended for use by the `TreeBuilder`\n",
              "that&#x27;s parsing a document.\n",
              "\n",
              ":param parser: A `BeautifulSoup` object representing the parse tree this\n",
              "    `Tag` will be part of.\n",
              ":param builder: The `TreeBuilder` being used to build the tree.\n",
              ":param name: The name of the tag.\n",
              ":param namespace: The URI of this tag&#x27;s XML namespace, if any.\n",
              ":param prefix: The prefix for this tag&#x27;s XML namespace, if any.\n",
              ":param attrs: A dictionary of attribute values.\n",
              ":param parent: The `Tag` to use as the parent of this `Tag`. May be\n",
              "   the `BeautifulSoup` object itself.\n",
              ":param previous: The `PageElement` that was parsed immediately before\n",
              "    parsing this tag.\n",
              ":param is_xml: If True, this is an XML tag. Otherwise, this is an\n",
              "    HTML tag.\n",
              ":param sourceline: The line number where this tag was found in its\n",
              "    source document.\n",
              ":param sourcepos: The character position within ``sourceline`` where this\n",
              "    tag was found.\n",
              ":param can_be_empty_element: If True, this tag should be\n",
              "    represented as &lt;tag/&gt;. If False, this tag should be represented\n",
              "    as &lt;tag&gt;&lt;/tag&gt;.\n",
              ":param cdata_list_attributes: A dictionary of attributes whose values should\n",
              "    be parsed as lists of strings if they ever show up on this tag.\n",
              ":param preserve_whitespace_tags: Names of tags whose contents\n",
              "    should have their whitespace preserved if they are encountered inside\n",
              "    this tag.\n",
              ":param interesting_string_types: When iterating over this tag&#x27;s\n",
              "    string contents in methods like `Tag.strings` or\n",
              "    `PageElement.get_text`, these are the types of strings that are\n",
              "    interesting enough to be considered. By default,\n",
              "    `NavigableString` (normal strings) and `CData` (CDATA\n",
              "    sections) are the only interesting string subtypes.\n",
              ":param namespaces: A dictionary mapping currently active\n",
              "    namespace prefixes to URIs, as of the point in the parsing process when\n",
              "    this tag was encountered. This can be used later to\n",
              "    construct CSS selectors.</pre>\n",
              "      <script>\n",
              "      if (google.colab.kernel.accessAllowed && google.colab.files && google.colab.files.view) {\n",
              "        for (const element of document.querySelectorAll('.filepath')) {\n",
              "          element.style.display = 'block'\n",
              "          element.onclick = (event) => {\n",
              "            event.preventDefault();\n",
              "            event.stopPropagation();\n",
              "            google.colab.files.view(element.textContent, 1577);\n",
              "          };\n",
              "        }\n",
              "      }\n",
              "      for (const element of document.querySelectorAll('.function-repr-contents')) {\n",
              "        element.onclick = (event) => {\n",
              "          event.preventDefault();\n",
              "          event.stopPropagation();\n",
              "          element.classList.toggle('function-repr-contents-collapsed');\n",
              "        };\n",
              "      }\n",
              "      </script>\n",
              "      </div>"
            ]
          },
          "metadata": {},
          "execution_count": 49
        }
      ]
    },
    {
      "cell_type": "code",
      "source": [
        "tag.name"
      ],
      "metadata": {
        "colab": {
          "base_uri": "https://localhost:8080/",
          "height": 35
        },
        "id": "Q78SM42r7JKq",
        "outputId": "88b60f91-9775-4eeb-bdee-25442f9f52ec"
      },
      "execution_count": 50,
      "outputs": [
        {
          "output_type": "execute_result",
          "data": {
            "text/plain": [
              "'h1'"
            ],
            "application/vnd.google.colaboratory.intrinsic+json": {
              "type": "string"
            }
          },
          "metadata": {},
          "execution_count": 50
        }
      ]
    },
    {
      "cell_type": "code",
      "source": [
        "tag.string"
      ],
      "metadata": {
        "colab": {
          "base_uri": "https://localhost:8080/",
          "height": 35
        },
        "id": "Qys8houp7Kep",
        "outputId": "aef267bb-f2c4-49cd-e926-cde8caba0bc3"
      },
      "execution_count": 51,
      "outputs": [
        {
          "output_type": "execute_result",
          "data": {
            "text/plain": [
              "' Future Trends for IoT in 2018'"
            ],
            "application/vnd.google.colaboratory.intrinsic+json": {
              "type": "string"
            }
          },
          "metadata": {},
          "execution_count": 51
        }
      ]
    },
    {
      "cell_type": "code",
      "source": [
        "type(tag.string)"
      ],
      "metadata": {
        "colab": {
          "base_uri": "https://localhost:8080/"
        },
        "id": "tosbLK8Y7MJ0",
        "outputId": "c7ca575f-df65-4268-bfc9-4a0dc807f78a"
      },
      "execution_count": 52,
      "outputs": [
        {
          "output_type": "execute_result",
          "data": {
            "text/plain": [
              "bs4.element.NavigableString"
            ]
          },
          "metadata": {},
          "execution_count": 52
        }
      ]
    },
    {
      "cell_type": "code",
      "source": [
        "our_naviagable_string = tag.string\n",
        "our_naviagable_string"
      ],
      "metadata": {
        "colab": {
          "base_uri": "https://localhost:8080/",
          "height": 35
        },
        "id": "dgXqa61p7R9Q",
        "outputId": "07b550a2-ad37-41b0-e570-884a1c8953f6"
      },
      "execution_count": 53,
      "outputs": [
        {
          "output_type": "execute_result",
          "data": {
            "text/plain": [
              "' Future Trends for IoT in 2018'"
            ],
            "application/vnd.google.colaboratory.intrinsic+json": {
              "type": "string"
            }
          },
          "metadata": {},
          "execution_count": 53
        }
      ]
    },
    {
      "cell_type": "code",
      "source": [
        "our_naviagable_string.replace_with('NaN')\n"
      ],
      "metadata": {
        "colab": {
          "base_uri": "https://localhost:8080/",
          "height": 297
        },
        "id": "3w94xYN37Zqm",
        "outputId": "793482a6-2280-4396-f7ed-d4ae46a27dcb"
      },
      "execution_count": 56,
      "outputs": [
        {
          "output_type": "error",
          "ename": "ValueError",
          "evalue": "Cannot replace one element with another when the element to be replaced is not part of a tree.",
          "traceback": [
            "\u001b[0;31m---------------------------------------------------------------------------\u001b[0m",
            "\u001b[0;31mValueError\u001b[0m                                Traceback (most recent call last)",
            "\u001b[0;32m/tmp/ipython-input-56-1080853476.py\u001b[0m in \u001b[0;36m<cell line: 0>\u001b[0;34m()\u001b[0m\n\u001b[0;32m----> 1\u001b[0;31m \u001b[0mour_naviagable_string\u001b[0m\u001b[0;34m.\u001b[0m\u001b[0mreplace_with\u001b[0m\u001b[0;34m(\u001b[0m\u001b[0;34m'NaN'\u001b[0m\u001b[0;34m)\u001b[0m\u001b[0;34m\u001b[0m\u001b[0;34m\u001b[0m\u001b[0m\n\u001b[0m\u001b[1;32m      2\u001b[0m \u001b[0mtag\u001b[0m\u001b[0;34m.\u001b[0m\u001b[0mstring\u001b[0m\u001b[0;34m\u001b[0m\u001b[0;34m\u001b[0m\u001b[0m\n",
            "\u001b[0;32m/usr/local/lib/python3.11/dist-packages/bs4/element.py\u001b[0m in \u001b[0;36mreplace_with\u001b[0;34m(self, *args)\u001b[0m\n\u001b[1;32m    557\u001b[0m         \"\"\"\n\u001b[1;32m    558\u001b[0m         \u001b[0;32mif\u001b[0m \u001b[0mself\u001b[0m\u001b[0;34m.\u001b[0m\u001b[0mparent\u001b[0m \u001b[0;32mis\u001b[0m \u001b[0;32mNone\u001b[0m\u001b[0;34m:\u001b[0m\u001b[0;34m\u001b[0m\u001b[0;34m\u001b[0m\u001b[0m\n\u001b[0;32m--> 559\u001b[0;31m             raise ValueError(\n\u001b[0m\u001b[1;32m    560\u001b[0m                 \u001b[0;34m\"Cannot replace one element with another when the \"\u001b[0m\u001b[0;34m\u001b[0m\u001b[0;34m\u001b[0m\u001b[0m\n\u001b[1;32m    561\u001b[0m                 \u001b[0;34m\"element to be replaced is not part of a tree.\"\u001b[0m\u001b[0;34m\u001b[0m\u001b[0;34m\u001b[0m\u001b[0m\n",
            "\u001b[0;31mValueError\u001b[0m: Cannot replace one element with another when the element to be replaced is not part of a tree."
          ]
        }
      ]
    },
    {
      "cell_type": "code",
      "source": [
        "tag.string"
      ],
      "metadata": {
        "colab": {
          "base_uri": "https://localhost:8080/",
          "height": 35
        },
        "id": "QUtQHaPu7it2",
        "outputId": "beb6a173-061e-403c-9a69-8c508e3d2cac"
      },
      "execution_count": 57,
      "outputs": [
        {
          "output_type": "execute_result",
          "data": {
            "text/plain": [
              "'NaN'"
            ],
            "application/vnd.google.colaboratory.intrinsic+json": {
              "type": "string"
            }
          },
          "metadata": {},
          "execution_count": 57
        }
      ]
    },
    {
      "cell_type": "markdown",
      "source": [
        "## Utilizing Naviagable string"
      ],
      "metadata": {
        "id": "KONKxZAE7kLb"
      }
    },
    {
      "cell_type": "code",
      "source": [
        "for string in our_soup.stripped_strings:\n",
        "  print(repr(string))"
      ],
      "metadata": {
        "colab": {
          "base_uri": "https://localhost:8080/"
        },
        "id": "ecAwx0n67vV8",
        "outputId": "38e763d0-f53c-4180-c3de-8569638b0049"
      },
      "execution_count": 61,
      "outputs": [
        {
          "output_type": "stream",
          "name": "stdout",
          "text": [
            "'IoT Articles'\n",
            "'2018 Trends: Best New IoT Device Ideas for Data Scientists and Engineers'\n",
            "'It’s almost 2018 and IoT is on the cusp of an explosive expansion. In this article, I offer you a listing of new IoT device ideas that you can use...'\n",
            "'It’s almost 2018 and IoT is on the cusp of an explosive expansion. In this article, I offer you a listing of new IoT device ideas that you can use to get practice in designing your first IoT applications.'\n",
            "'Looking Back at My Coolest IoT Find in 2017'\n",
            "'Before going into detail about best new IoT device ideas, here’s the backstory.'\n",
            "'Last month Ericsson Digital invited me'\n",
            "'to tour the Ericsson Studio in Kista, Sweden. Up until that visit,'\n",
            "'IoT'\n",
            "'had been largely theoretical to me. Of course, I know the usual mumbo-jumbo about wearables and IoT-connected fitness trackers. That stuff is all well and good, but it’s somewhat old hat – plus I am not sure we are really benefiting so much from those, so I’m not that impressed.\\n\\nIt wasn’t until I got to the Ericsson Studio that I became extremely impressed by how far IoT has really come. Relying on the promise of the 5g network expansion, IoT-powered smart devices are on the cusp of an explosive growth in adoption. It was Ericsson’s Smart Car that sent me reeling:'\n",
            "'This car is connected to Ericsson’s Connected Vehicle Cloud, an IoT platform that manages services for the Smart Cars to which it’s connected. The Volvo pictured above acts as a drop-off location for groceries that have been ordered by its owner.\\n\\nTo understand how it works, imagine you’re pulling your normal 9-to-5 and you know you need to grab some groceries on your way home. Well, since you’re smart you’ve used Ericsson IoT platform to connect your car to the local grocery delivery service ('\n",
            "'Mat.se'\n",
            "'), so all you need to do is open the Mat.se app and make your usual order. Mat.se automatically handles the payment, grocery selection, delivery, and delivery scheduling. Since your car is IoT-enabled, Mat.se issues its trusted delivery agent a 1-time token to use for opening your car in order to place your groceries in your car for you at 4:40 pm (just before you get off from work).\\n\\nTo watch some of the amazing IoT device demos I witnessed at Ericsson Studio, make sure to go'\n",
            "'watch the videos on this page'\n",
            "'.'\n",
            "'Future Trends for IoT in 2018'\n",
            "'New IoT device ideas won’t do you much good unless you at least know the basic technology trends that are set to impact IoT over the next year(s). These include:'\n",
            "'Big Data'\n",
            "'& Data Engineering: Sensors that are embedded within IoT devices spin off machine-generated data like it’s going out of style. For IoT to function, the platform must be solidly engineered to handle big data. Be assured, that requires some serious data engineering.'\n",
            "'Machine Learning'\n",
            "'Data Science: While a lot of IoT devices are still operated according to rules-based decision criteria, the age of artificial intelligence is upon us. IoT will increasingly depend on machine learning algorithms to control device operations so that devices are able to autonomously respond to a complex set of overlapping stimuli.'\n",
            "'Blockchain'\n",
            "'-Enabled Security: Above all else, IoT networks must be secure. Blockchain technology is primed to meet the security demands that come along with building and expanding the IoT.'\n",
            "'Best New IoT Device Ideas'\n",
            "'This listing of new IoT device ideas has been sub-divided according to the main technology upon which the IoT devices are built. Below I’m providing a list of new IoT device ideas, but for detailed instructions on how to build these IoT applications, I recommend the'\n",
            "'IoT courses on Udemy'\n",
            "'(ß Please note: if you purchase a Udemy course through this link, I may receive a small commission), or courses that are available at'\n",
            "'SkyFi'\n",
            "'and'\n",
            "'Coursera'\n",
            "'.'\n",
            "'Raspberry Pi IoT Ideas'\n",
            "'Using Raspberry Pi as open-source hardware, you can build IoT applications that offer any one of the following benefits:'\n",
            "'Enable built-in sensing to build a weather station that measures ambient temperature and humidity'\n",
            "'Build a system that detects discrepancies in electrical readings to identify electricity theft'\n",
            "'Use IoT to build a Servo that is controlled by motion detection readings'\n",
            "'Build a smart control switch that operates devices based on external stimuli. Use this for home automation.'\n",
            "'Build a music playing application that enables music for each room in your house'\n",
            "'Implement biometrics on IoT-connected devices'\n",
            "'Arduino IoT Ideas'\n",
            "'There are a number of new IoT device ideas that deploy Arduino as a microcontroller. These include:'\n",
            "'Integrate Arduino with Android to build a remote-control RGB LED device.'\n",
            "'Connect PIR sensors across the IoT to implement a smart building.'\n",
            "'Build a temperature and sunlight sensor system to remotely monitor and control the conditions of your garden.'\n",
            "'Deploy Arduino and IoT to automate your neighborhood streetlights.'\n",
            "'Build a smart irrigation system based on IoT-connected temperature and moisture sensors built-in to your agricultural plants.'\n",
            "'[caption id=\"attachment_3807\" align=\"aligncenter\" width=\"300\"]'\n",
            "'An IoT Chatbot Tree at the Ericsson Studio[/caption]'\n",
            "'Wireless (GSM) IoT Ideas'\n",
            "'Several new IoT device ideas are developed around the GSM wireless network. Those are:'\n",
            "'Monitor soil moisture to automate agricultural irrigation cycles.'\n",
            "'Automate and control the conditions of a greenhouse.'\n",
            "'Enable bio-metrics to build a smart security system for your home or office building'\n",
            "'Build an autonomously operating fitness application that automatically makes recommendations based on motion detection and heart rate sensors that are embedded on wearable fitness trackers.'\n",
            "'Build a healthcare monitoring system that tracks, informs, and automatically alerts healthcare providers based on sensor readings that describe a patients vital statistics (like temperature, pulse, blood pressure, etc).'\n",
            "'IoT Automation Ideas'\n",
            "'Almost all new IoT device ideas offer automation benefits, but to outline a few more ideas:'\n",
            "'Build an IoT device that automatically locates and reports the closest nearby parking spot.'\n",
            "'Build a motion detection system that automatically issues emails or sms messages to alert home owners of a likely home invasion.'\n",
            "'Use temperature sensors connected across the IoT to automatically alert you if your home windows or doors have been left open.'\n",
            "'Use bio-metric sensors to build a smart system that automate security for your home or office building'\n",
            "'To learn more about IoT and what’s happening on the leading edge, be sure to pop over to Ericsson’s Studio Tour recap and'\n",
            "'watch these videos'\n",
            "'.'\n",
            "'(I captured some of this content on behalf of DevMode Strategies during an invite-only tour of the Ericsson Studio in Kista. Rest assure, the text and\\xa0opinions are my own'\n",
            "')'\n",
            "'...'\n"
          ]
        }
      ]
    },
    {
      "cell_type": "code",
      "source": [
        "first_link = our_soup.a\n",
        "print(first_link)"
      ],
      "metadata": {
        "colab": {
          "base_uri": "https://localhost:8080/"
        },
        "id": "6H4wJ7sx8AQQ",
        "outputId": "3926a7b9-1963-4084-b8fa-cd82663942c2"
      },
      "execution_count": 62,
      "outputs": [
        {
          "output_type": "stream",
          "name": "stdout",
          "text": [
            "<a href=\"http://bit.ly/LPlNDJj\">Last month Ericsson Digital invited me</a>\n"
          ]
        }
      ]
    },
    {
      "cell_type": "code",
      "source": [
        "first_link.parent"
      ],
      "metadata": {
        "colab": {
          "base_uri": "https://localhost:8080/"
        },
        "id": "C3bzY5hX8JYS",
        "outputId": "9e9d74ca-97a8-484d-fdbe-946b16338704"
      },
      "execution_count": 63,
      "outputs": [
        {
          "output_type": "execute_result",
          "data": {
            "text/plain": [
              "<strong><a href=\"http://bit.ly/LPlNDJj\">Last month Ericsson Digital invited me</a></strong>"
            ]
          },
          "metadata": {},
          "execution_count": 63
        }
      ]
    },
    {
      "cell_type": "code",
      "source": [
        "first_link.string"
      ],
      "metadata": {
        "colab": {
          "base_uri": "https://localhost:8080/",
          "height": 35
        },
        "id": "gDrfBb7f8N3r",
        "outputId": "4c4c4e2b-a8e8-45f3-af40-6a717174691f"
      },
      "execution_count": 64,
      "outputs": [
        {
          "output_type": "execute_result",
          "data": {
            "text/plain": [
              "'Last month Ericsson Digital invited me'"
            ],
            "application/vnd.google.colaboratory.intrinsic+json": {
              "type": "string"
            }
          },
          "metadata": {},
          "execution_count": 64
        }
      ]
    },
    {
      "cell_type": "code",
      "source": [
        "first_link.parent"
      ],
      "metadata": {
        "colab": {
          "base_uri": "https://localhost:8080/"
        },
        "id": "R_221-Xl8PyC",
        "outputId": "f0fd3a25-37d3-4c60-e004-a1999e86d090"
      },
      "execution_count": 66,
      "outputs": [
        {
          "output_type": "execute_result",
          "data": {
            "text/plain": [
              "<strong><a href=\"http://bit.ly/LPlNDJj\">Last month Ericsson Digital invited me</a></strong>"
            ]
          },
          "metadata": {},
          "execution_count": 66
        }
      ]
    },
    {
      "cell_type": "markdown",
      "source": [
        "# Data parsing"
      ],
      "metadata": {
        "id": "opDcQ45M8Xag"
      }
    },
    {
      "cell_type": "code",
      "source": [
        "import urllib\n",
        "import urllib.request\n",
        "import re"
      ],
      "metadata": {
        "id": "Iiv8ipHI8fyY"
      },
      "execution_count": 68,
      "outputs": []
    },
    {
      "cell_type": "code",
      "source": [
        "with urllib.request.urlopen('https://raw.githubusercontent.com/BigDataGal/Data-Mania-Demos/master/IoT-2018.html') as response:\n",
        "  html = response.read()"
      ],
      "metadata": {
        "id": "X4Fc9LOr8lQk"
      },
      "execution_count": 72,
      "outputs": []
    },
    {
      "cell_type": "code",
      "source": [
        "soup = BeautifulSoup(html,'html.parser')\n",
        "type(soup)"
      ],
      "metadata": {
        "colab": {
          "base_uri": "https://localhost:8080/",
          "height": 220
        },
        "id": "iChgaLI99cBt",
        "outputId": "aa6ec4a4-8c38-43c9-d224-db5dd7dfbdcb"
      },
      "execution_count": 74,
      "outputs": [
        {
          "output_type": "execute_result",
          "data": {
            "text/plain": [
              "bs4.BeautifulSoup"
            ],
            "text/html": [
              "<div style=\"max-width:800px; border: 1px solid var(--colab-border-color);\"><style>\n",
              "      pre.function-repr-contents {\n",
              "        overflow-x: auto;\n",
              "        padding: 8px 12px;\n",
              "        max-height: 500px;\n",
              "      }\n",
              "\n",
              "      pre.function-repr-contents.function-repr-contents-collapsed {\n",
              "        cursor: pointer;\n",
              "        max-height: 100px;\n",
              "      }\n",
              "    </style>\n",
              "    <pre style=\"white-space: initial; background:\n",
              "         var(--colab-secondary-surface-color); padding: 8px 12px;\n",
              "         border-bottom: 1px solid var(--colab-border-color);\"><b>bs4.BeautifulSoup</b><br/>def __call__(name: Optional[_StrainableElement]=None, attrs: _StrainableAttributes={}, recursive: bool=True, string: Optional[_StrainableString]=None, limit: Optional[int]=None, _stacklevel: int=2, **kwargs: _StrainableAttribute) -&gt; _QueryResults</pre><pre class=\"function-repr-contents function-repr-contents-collapsed\" style=\"\"><a class=\"filepath\" style=\"display:none\" href=\"#\">/usr/local/lib/python3.11/dist-packages/bs4/__init__.py</a>A data structure representing a parsed HTML or XML document.\n",
              "\n",
              "Most of the methods you&#x27;ll call on a BeautifulSoup object are inherited from\n",
              "PageElement or Tag.\n",
              "\n",
              "Internally, this class defines the basic interface called by the\n",
              "tree builders when converting an HTML/XML document into a data\n",
              "structure. The interface abstracts away the differences between\n",
              "parsers. To write a new tree builder, you&#x27;ll need to understand\n",
              "these methods as a whole.\n",
              "\n",
              "These methods will be called by the BeautifulSoup constructor:\n",
              "  * reset()\n",
              "  * feed(markup)\n",
              "\n",
              "The tree builder may call these methods from its feed() implementation:\n",
              "  * handle_starttag(name, attrs) # See note about return value\n",
              "  * handle_endtag(name)\n",
              "  * handle_data(data) # Appends to the current data node\n",
              "  * endData(containerClass) # Ends the current data node\n",
              "\n",
              "No matter how complicated the underlying parser is, you should be\n",
              "able to build a tree using &#x27;start tag&#x27; events, &#x27;end tag&#x27; events,\n",
              "&#x27;data&#x27; events, and &quot;done with data&quot; events.\n",
              "\n",
              "If you encounter an empty-element tag (aka a self-closing tag,\n",
              "like HTML&#x27;s &lt;br&gt; tag), call handle_starttag and then\n",
              "handle_endtag.</pre>\n",
              "      <script>\n",
              "      if (google.colab.kernel.accessAllowed && google.colab.files && google.colab.files.view) {\n",
              "        for (const element of document.querySelectorAll('.filepath')) {\n",
              "          element.style.display = 'block'\n",
              "          element.onclick = (event) => {\n",
              "            event.preventDefault();\n",
              "            event.stopPropagation();\n",
              "            google.colab.files.view(element.textContent, 133);\n",
              "          };\n",
              "        }\n",
              "      }\n",
              "      for (const element of document.querySelectorAll('.function-repr-contents')) {\n",
              "        element.onclick = (event) => {\n",
              "          event.preventDefault();\n",
              "          event.stopPropagation();\n",
              "          element.classList.toggle('function-repr-contents-collapsed');\n",
              "        };\n",
              "      }\n",
              "      </script>\n",
              "      </div>"
            ]
          },
          "metadata": {},
          "execution_count": 74
        }
      ]
    },
    {
      "cell_type": "markdown",
      "source": [
        "## Parsing your data"
      ],
      "metadata": {
        "id": "U55FFZu19iiK"
      }
    },
    {
      "cell_type": "code",
      "source": [
        "print(soup.prettify()[0:100])"
      ],
      "metadata": {
        "colab": {
          "base_uri": "https://localhost:8080/"
        },
        "id": "A-X13s1C-ETF",
        "outputId": "a6f47626-1ba2-4f2c-fcc9-fedf68fe6b17"
      },
      "execution_count": 75,
      "outputs": [
        {
          "output_type": "stream",
          "name": "stdout",
          "text": [
            "<html>\n",
            " <head>\n",
            "  <title>\n",
            "   IoT Articles\n",
            "  </title>\n",
            " </head>\n",
            " <body>\n",
            "  <p class=\"title\">\n",
            "   <b>\n",
            "    \n"
          ]
        }
      ]
    },
    {
      "cell_type": "markdown",
      "source": [
        "## Getting data from a parse tree"
      ],
      "metadata": {
        "id": "VelgfFU--LFm"
      }
    },
    {
      "cell_type": "code",
      "source": [
        "text_only = soup.get_text()\n",
        "print(text_only)"
      ],
      "metadata": {
        "colab": {
          "base_uri": "https://localhost:8080/"
        },
        "id": "D4hx-lEO-Nep",
        "outputId": "5bf65ce5-82de-4f6e-a064-b73b9821ddff"
      },
      "execution_count": 76,
      "outputs": [
        {
          "output_type": "stream",
          "name": "stdout",
          "text": [
            "IoT Articles\n",
            "\n",
            "2018 Trends: Best New IoT Device Ideas for Data Scientists and Engineers\n",
            "It’s almost 2018 and IoT is on the cusp of an explosive expansion. In this article, I offer you a listing of new IoT device ideas that you can use...\r\n",
            "\n",
            "\r\n",
            "It’s almost 2018 and IoT is on the cusp of an explosive expansion. In this article, I offer you a listing of new IoT device ideas that you can use to get practice in designing your first IoT applications.\r\n",
            "Looking Back at My Coolest IoT Find in 2017\r\n",
            "Before going into detail about best new IoT device ideas, here’s the backstory. Last month Ericsson Digital invited me to tour the Ericsson Studio in Kista, Sweden. Up until that visit, IoT had been largely theoretical to me. Of course, I know the usual mumbo-jumbo about wearables and IoT-connected fitness trackers. That stuff is all well and good, but it’s somewhat old hat – plus I am not sure we are really benefiting so much from those, so I’m not that impressed.\r\n",
            "\r\n",
            "It wasn’t until I got to the Ericsson Studio that I became extremely impressed by how far IoT has really come. Relying on the promise of the 5g network expansion, IoT-powered smart devices are on the cusp of an explosive growth in adoption. It was Ericsson’s Smart Car that sent me reeling:\r\n",
            "\r\n",
            "This car is connected to Ericsson’s Connected Vehicle Cloud, an IoT platform that manages services for the Smart Cars to which it’s connected. The Volvo pictured above acts as a drop-off location for groceries that have been ordered by its owner.\r\n",
            "\r\n",
            "To understand how it works, imagine you’re pulling your normal 9-to-5 and you know you need to grab some groceries on your way home. Well, since you’re smart you’ve used Ericsson IoT platform to connect your car to the local grocery delivery service (Mat.se), so all you need to do is open the Mat.se app and make your usual order. Mat.se automatically handles the payment, grocery selection, delivery, and delivery scheduling. Since your car is IoT-enabled, Mat.se issues its trusted delivery agent a 1-time token to use for opening your car in order to place your groceries in your car for you at 4:40 pm (just before you get off from work).\r\n",
            "\r\n",
            "To watch some of the amazing IoT device demos I witnessed at Ericsson Studio, make sure to go watch the videos on this page.\r\n",
            "Future Trends for IoT in 2018\r\n",
            "New IoT device ideas won’t do you much good unless you at least know the basic technology trends that are set to impact IoT over the next year(s). These include:\r\n",
            "\n",
            "Big Data & Data Engineering: Sensors that are embedded within IoT devices spin off machine-generated data like it’s going out of style. For IoT to function, the platform must be solidly engineered to handle big data. Be assured, that requires some serious data engineering.\n",
            "Machine Learning Data Science: While a lot of IoT devices are still operated according to rules-based decision criteria, the age of artificial intelligence is upon us. IoT will increasingly depend on machine learning algorithms to control device operations so that devices are able to autonomously respond to a complex set of overlapping stimuli.\n",
            "Blockchain-Enabled Security: Above all else, IoT networks must be secure. Blockchain technology is primed to meet the security demands that come along with building and expanding the IoT.\n",
            "\n",
            "Best New IoT Device Ideas\r\n",
            "This listing of new IoT device ideas has been sub-divided according to the main technology upon which the IoT devices are built. Below I’m providing a list of new IoT device ideas, but for detailed instructions on how to build these IoT applications, I recommend the IoT courses on Udemy (ß Please note: if you purchase a Udemy course through this link, I may receive a small commission), or courses that are available at SkyFi and Coursera.\r\n",
            "Raspberry Pi IoT Ideas\r\n",
            "Using Raspberry Pi as open-source hardware, you can build IoT applications that offer any one of the following benefits:\r\n",
            "\n",
            "Enable built-in sensing to build a weather station that measures ambient temperature and humidity\n",
            "Build a system that detects discrepancies in electrical readings to identify electricity theft\n",
            "Use IoT to build a Servo that is controlled by motion detection readings\n",
            "Build a smart control switch that operates devices based on external stimuli. Use this for home automation.\n",
            "Build a music playing application that enables music for each room in your house\n",
            "Implement biometrics on IoT-connected devices\n",
            "\n",
            "Arduino IoT Ideas\r\n",
            "There are a number of new IoT device ideas that deploy Arduino as a microcontroller. These include:\r\n",
            "\n",
            "Integrate Arduino with Android to build a remote-control RGB LED device.\n",
            "Connect PIR sensors across the IoT to implement a smart building.\n",
            "Build a temperature and sunlight sensor system to remotely monitor and control the conditions of your garden.\n",
            "Deploy Arduino and IoT to automate your neighborhood streetlights.\n",
            "Build a smart irrigation system based on IoT-connected temperature and moisture sensors built-in to your agricultural plants.\n",
            "\r\n",
            "[caption id=\"attachment_3807\" align=\"aligncenter\" width=\"300\"] An IoT Chatbot Tree at the Ericsson Studio[/caption]\r\n",
            "Wireless (GSM) IoT Ideas\r\n",
            "Several new IoT device ideas are developed around the GSM wireless network. Those are:\r\n",
            "\n",
            "Monitor soil moisture to automate agricultural irrigation cycles.\n",
            "Automate and control the conditions of a greenhouse.\n",
            "Enable bio-metrics to build a smart security system for your home or office building\n",
            "Build an autonomously operating fitness application that automatically makes recommendations based on motion detection and heart rate sensors that are embedded on wearable fitness trackers.\n",
            "Build a healthcare monitoring system that tracks, informs, and automatically alerts healthcare providers based on sensor readings that describe a patients vital statistics (like temperature, pulse, blood pressure, etc).\n",
            "\n",
            "IoT Automation Ideas\r\n",
            "Almost all new IoT device ideas offer automation benefits, but to outline a few more ideas:\r\n",
            "\n",
            "Build an IoT device that automatically locates and reports the closest nearby parking spot.\n",
            "Build a motion detection system that automatically issues emails or sms messages to alert home owners of a likely home invasion.\n",
            "Use temperature sensors connected across the IoT to automatically alert you if your home windows or doors have been left open.\n",
            "Use bio-metric sensors to build a smart system that automate security for your home or office building\n",
            "\r\n",
            "To learn more about IoT and what’s happening on the leading edge, be sure to pop over to Ericsson’s Studio Tour recap and watch these videos.\r\n",
            "\r\n",
            "(I captured some of this content on behalf of DevMode Strategies during an invite-only tour of the Ericsson Studio in Kista. Rest assure, the text and opinions are my own)\r\n",
            "...\n"
          ]
        }
      ]
    },
    {
      "cell_type": "code",
      "source": [
        "soup.find_all('li')"
      ],
      "metadata": {
        "colab": {
          "base_uri": "https://localhost:8080/"
        },
        "id": "KbyWE9WM-cEB",
        "outputId": "fbbc393d-15dd-4a70-8d96-6e183710cbb8"
      },
      "execution_count": 77,
      "outputs": [
        {
          "output_type": "execute_result",
          "data": {
            "text/plain": [
              "[<li><strong>Big Data</strong> &amp; Data Engineering: Sensors that are embedded within IoT devices spin off machine-generated data like it’s going out of style. For IoT to function, the platform must be solidly engineered to handle big data. Be assured, that requires some serious data engineering.</li>,\n",
              " <li><strong>Machine Learning</strong> Data Science: While a lot of IoT devices are still operated according to rules-based decision criteria, the age of artificial intelligence is upon us. IoT will increasingly depend on machine learning algorithms to control device operations so that devices are able to autonomously respond to a complex set of overlapping stimuli.</li>,\n",
              " <li><strong>Blockchain</strong>-Enabled Security: Above all else, IoT networks must be secure. Blockchain technology is primed to meet the security demands that come along with building and expanding the IoT.</li>,\n",
              " <li>Enable built-in sensing to build a weather station that measures ambient temperature and humidity</li>,\n",
              " <li>Build a system that detects discrepancies in electrical readings to identify electricity theft</li>,\n",
              " <li>Use IoT to build a Servo that is controlled by motion detection readings</li>,\n",
              " <li>Build a smart control switch that operates devices based on external stimuli. Use this for home automation.</li>,\n",
              " <li>Build a music playing application that enables music for each room in your house</li>,\n",
              " <li>Implement biometrics on IoT-connected devices</li>,\n",
              " <li>Integrate Arduino with Android to build a remote-control RGB LED device.</li>,\n",
              " <li>Connect PIR sensors across the IoT to implement a smart building.</li>,\n",
              " <li>Build a temperature and sunlight sensor system to remotely monitor and control the conditions of your garden.</li>,\n",
              " <li>Deploy Arduino and IoT to automate your neighborhood streetlights.</li>,\n",
              " <li>Build a smart irrigation system based on IoT-connected temperature and moisture sensors built-in to your agricultural plants.</li>,\n",
              " <li>Monitor soil moisture to automate agricultural irrigation cycles.</li>,\n",
              " <li>Automate and control the conditions of a greenhouse.</li>,\n",
              " <li>Enable bio-metrics to build a smart security system for your home or office building</li>,\n",
              " <li>Build an autonomously operating fitness application that automatically makes recommendations based on motion detection and heart rate sensors that are embedded on wearable fitness trackers.</li>,\n",
              " <li>Build a healthcare monitoring system that tracks, informs, and automatically alerts healthcare providers based on sensor readings that describe a patients vital statistics (like temperature, pulse, blood pressure, etc).</li>,\n",
              " <li>Build an IoT device that automatically locates and reports the closest nearby parking spot.</li>,\n",
              " <li>Build a motion detection system that automatically issues emails or sms messages to alert home owners of a likely home invasion.</li>,\n",
              " <li>Use temperature sensors connected across the IoT to automatically alert you if your home windows or doors have been left open.</li>,\n",
              " <li>Use bio-metric sensors to build a smart system that automate security for your home or office building</li>]"
            ]
          },
          "metadata": {},
          "execution_count": 77
        }
      ]
    },
    {
      "cell_type": "code",
      "source": [
        "soup.find_all(id='link 7')"
      ],
      "metadata": {
        "colab": {
          "base_uri": "https://localhost:8080/"
        },
        "id": "iY3GLgdV-gaL",
        "outputId": "c7ae3da0-0420-43e2-92a2-f0e562e55524"
      },
      "execution_count": 79,
      "outputs": [
        {
          "output_type": "execute_result",
          "data": {
            "text/plain": [
              "[<a class=\"preview\" href=\"http://www.skyfilabs.com/iot-online-courses\" id=\"link 7\">SkyFi</a>]"
            ]
          },
          "metadata": {},
          "execution_count": 79
        }
      ]
    },
    {
      "cell_type": "code",
      "source": [
        "soup.find_all('ol')"
      ],
      "metadata": {
        "colab": {
          "base_uri": "https://localhost:8080/"
        },
        "id": "55eeBIa8_hv9",
        "outputId": "8fa19282-4a58-456b-9270-085896b71f0b"
      },
      "execution_count": 80,
      "outputs": [
        {
          "output_type": "execute_result",
          "data": {
            "text/plain": [
              "[<ol>\n",
              " <li><strong>Big Data</strong> &amp; Data Engineering: Sensors that are embedded within IoT devices spin off machine-generated data like it’s going out of style. For IoT to function, the platform must be solidly engineered to handle big data. Be assured, that requires some serious data engineering.</li>\n",
              " <li><strong>Machine Learning</strong> Data Science: While a lot of IoT devices are still operated according to rules-based decision criteria, the age of artificial intelligence is upon us. IoT will increasingly depend on machine learning algorithms to control device operations so that devices are able to autonomously respond to a complex set of overlapping stimuli.</li>\n",
              " <li><strong>Blockchain</strong>-Enabled Security: Above all else, IoT networks must be secure. Blockchain technology is primed to meet the security demands that come along with building and expanding the IoT.</li>\n",
              " </ol>,\n",
              " <ol>\n",
              " <li>Enable built-in sensing to build a weather station that measures ambient temperature and humidity</li>\n",
              " <li>Build a system that detects discrepancies in electrical readings to identify electricity theft</li>\n",
              " <li>Use IoT to build a Servo that is controlled by motion detection readings</li>\n",
              " <li>Build a smart control switch that operates devices based on external stimuli. Use this for home automation.</li>\n",
              " <li>Build a music playing application that enables music for each room in your house</li>\n",
              " <li>Implement biometrics on IoT-connected devices</li>\n",
              " </ol>,\n",
              " <ol>\n",
              " <li>Integrate Arduino with Android to build a remote-control RGB LED device.</li>\n",
              " <li>Connect PIR sensors across the IoT to implement a smart building.</li>\n",
              " <li>Build a temperature and sunlight sensor system to remotely monitor and control the conditions of your garden.</li>\n",
              " <li>Deploy Arduino and IoT to automate your neighborhood streetlights.</li>\n",
              " <li>Build a smart irrigation system based on IoT-connected temperature and moisture sensors built-in to your agricultural plants.</li>\n",
              " </ol>,\n",
              " <ol>\n",
              " <li>Monitor soil moisture to automate agricultural irrigation cycles.</li>\n",
              " <li>Automate and control the conditions of a greenhouse.</li>\n",
              " <li>Enable bio-metrics to build a smart security system for your home or office building</li>\n",
              " <li>Build an autonomously operating fitness application that automatically makes recommendations based on motion detection and heart rate sensors that are embedded on wearable fitness trackers.</li>\n",
              " <li>Build a healthcare monitoring system that tracks, informs, and automatically alerts healthcare providers based on sensor readings that describe a patients vital statistics (like temperature, pulse, blood pressure, etc).</li>\n",
              " </ol>,\n",
              " <ol>\n",
              " <li>Build an IoT device that automatically locates and reports the closest nearby parking spot.</li>\n",
              " <li>Build a motion detection system that automatically issues emails or sms messages to alert home owners of a likely home invasion.</li>\n",
              " <li>Use temperature sensors connected across the IoT to automatically alert you if your home windows or doors have been left open.</li>\n",
              " <li>Use bio-metric sensors to build a smart system that automate security for your home or office building</li>\n",
              " </ol>]"
            ]
          },
          "metadata": {},
          "execution_count": 80
        }
      ]
    },
    {
      "cell_type": "code",
      "source": [
        "soup.find_all(['ol','b'])"
      ],
      "metadata": {
        "colab": {
          "base_uri": "https://localhost:8080/"
        },
        "id": "9xW98kLs_naY",
        "outputId": "bf8e05c3-495e-47a3-ace5-2860dbddb498"
      },
      "execution_count": 82,
      "outputs": [
        {
          "output_type": "execute_result",
          "data": {
            "text/plain": [
              "[<b>2018 Trends: Best New IoT Device Ideas for Data Scientists and Engineers</b>,\n",
              " <ol>\n",
              " <li><strong>Big Data</strong> &amp; Data Engineering: Sensors that are embedded within IoT devices spin off machine-generated data like it’s going out of style. For IoT to function, the platform must be solidly engineered to handle big data. Be assured, that requires some serious data engineering.</li>\n",
              " <li><strong>Machine Learning</strong> Data Science: While a lot of IoT devices are still operated according to rules-based decision criteria, the age of artificial intelligence is upon us. IoT will increasingly depend on machine learning algorithms to control device operations so that devices are able to autonomously respond to a complex set of overlapping stimuli.</li>\n",
              " <li><strong>Blockchain</strong>-Enabled Security: Above all else, IoT networks must be secure. Blockchain technology is primed to meet the security demands that come along with building and expanding the IoT.</li>\n",
              " </ol>,\n",
              " <ol>\n",
              " <li>Enable built-in sensing to build a weather station that measures ambient temperature and humidity</li>\n",
              " <li>Build a system that detects discrepancies in electrical readings to identify electricity theft</li>\n",
              " <li>Use IoT to build a Servo that is controlled by motion detection readings</li>\n",
              " <li>Build a smart control switch that operates devices based on external stimuli. Use this for home automation.</li>\n",
              " <li>Build a music playing application that enables music for each room in your house</li>\n",
              " <li>Implement biometrics on IoT-connected devices</li>\n",
              " </ol>,\n",
              " <ol>\n",
              " <li>Integrate Arduino with Android to build a remote-control RGB LED device.</li>\n",
              " <li>Connect PIR sensors across the IoT to implement a smart building.</li>\n",
              " <li>Build a temperature and sunlight sensor system to remotely monitor and control the conditions of your garden.</li>\n",
              " <li>Deploy Arduino and IoT to automate your neighborhood streetlights.</li>\n",
              " <li>Build a smart irrigation system based on IoT-connected temperature and moisture sensors built-in to your agricultural plants.</li>\n",
              " </ol>,\n",
              " <ol>\n",
              " <li>Monitor soil moisture to automate agricultural irrigation cycles.</li>\n",
              " <li>Automate and control the conditions of a greenhouse.</li>\n",
              " <li>Enable bio-metrics to build a smart security system for your home or office building</li>\n",
              " <li>Build an autonomously operating fitness application that automatically makes recommendations based on motion detection and heart rate sensors that are embedded on wearable fitness trackers.</li>\n",
              " <li>Build a healthcare monitoring system that tracks, informs, and automatically alerts healthcare providers based on sensor readings that describe a patients vital statistics (like temperature, pulse, blood pressure, etc).</li>\n",
              " </ol>,\n",
              " <ol>\n",
              " <li>Build an IoT device that automatically locates and reports the closest nearby parking spot.</li>\n",
              " <li>Build a motion detection system that automatically issues emails or sms messages to alert home owners of a likely home invasion.</li>\n",
              " <li>Use temperature sensors connected across the IoT to automatically alert you if your home windows or doors have been left open.</li>\n",
              " <li>Use bio-metric sensors to build a smart system that automate security for your home or office building</li>\n",
              " </ol>]"
            ]
          },
          "metadata": {},
          "execution_count": 82
        }
      ]
    },
    {
      "cell_type": "code",
      "source": [
        "t  = re.compile('t')\n",
        "for tag in soup.find_all(t):\n",
        "  print(tag.name)"
      ],
      "metadata": {
        "colab": {
          "base_uri": "https://localhost:8080/"
        },
        "id": "6fynAw0k_ul3",
        "outputId": "32494304-06ee-42b1-f497-bfc4c6e7a164"
      },
      "execution_count": 83,
      "outputs": [
        {
          "output_type": "stream",
          "name": "stdout",
          "text": [
            "html\n",
            "title\n",
            "strong\n",
            "strong\n",
            "strong\n",
            "strong\n",
            "strong\n",
            "strong\n"
          ]
        }
      ]
    },
    {
      "cell_type": "code",
      "source": [
        "for tag in soup.find_all(True):\n",
        "  print(tag.name)"
      ],
      "metadata": {
        "colab": {
          "base_uri": "https://localhost:8080/"
        },
        "id": "l0CyWHMU_3JF",
        "outputId": "ca083472-0fa8-4754-877f-335d0a702330"
      },
      "execution_count": 84,
      "outputs": [
        {
          "output_type": "stream",
          "name": "stdout",
          "text": [
            "html\n",
            "head\n",
            "title\n",
            "body\n",
            "p\n",
            "b\n",
            "p\n",
            "br\n",
            "br\n",
            "h1\n",
            "span\n",
            "strong\n",
            "a\n",
            "a\n",
            "a\n",
            "img\n",
            "a\n",
            "span\n",
            "strong\n",
            "a\n",
            "h1\n",
            "ol\n",
            "li\n",
            "strong\n",
            "li\n",
            "strong\n",
            "li\n",
            "strong\n",
            "h1\n",
            "a\n",
            "a\n",
            "a\n",
            "h2\n",
            "ol\n",
            "li\n",
            "li\n",
            "li\n",
            "li\n",
            "li\n",
            "li\n",
            "h2\n",
            "ol\n",
            "li\n",
            "li\n",
            "li\n",
            "li\n",
            "li\n",
            "a\n",
            "img\n",
            "h2\n",
            "ol\n",
            "li\n",
            "li\n",
            "li\n",
            "li\n",
            "li\n",
            "h2\n",
            "ol\n",
            "li\n",
            "li\n",
            "li\n",
            "li\n",
            "span\n",
            "strong\n",
            "a\n",
            "em\n",
            "p\n"
          ]
        }
      ]
    },
    {
      "cell_type": "code",
      "source": [
        "for link in soup.find_all('a'):\n",
        "  print(link.get('href'))"
      ],
      "metadata": {
        "colab": {
          "base_uri": "https://localhost:8080/"
        },
        "id": "Qp6Qb1vn_66z",
        "outputId": "33b9f71f-af6c-4042-fca4-a08668599fd7"
      },
      "execution_count": 85,
      "outputs": [
        {
          "output_type": "stream",
          "name": "stdout",
          "text": [
            "http://bit.ly/LPlNDJj\n",
            "http://www.data-mania.com/blog/m2m-vs-iot/\n",
            "bit.ly/LPlNDJj\n",
            "http://mat.se/\n",
            "http://bit.ly/LPlNDJj\n",
            "https://click.linksynergy.com/deeplink?id=*JDLXjeE*wk&mid=39197&murl=https%3A%2F%2Fwww.udemy.com%2Ftopic%2Finternet-of-things%2F%3Fsort%3Dhighest-rated\n",
            "http://www.skyfilabs.com/iot-online-courses\n",
            "https://www.coursera.org/specializations/iot\n",
            "bit.ly/LPlNDJj\n",
            "http://bit.ly/LPlNDJj\n"
          ]
        }
      ]
    },
    {
      "cell_type": "code",
      "source": [
        "soup.find_all(string = re.compile('data'))"
      ],
      "metadata": {
        "colab": {
          "base_uri": "https://localhost:8080/"
        },
        "id": "EqgH6Y-4ACaQ",
        "outputId": "a675f045-ace4-4818-c8d6-832afb431d7a"
      },
      "execution_count": 86,
      "outputs": [
        {
          "output_type": "execute_result",
          "data": {
            "text/plain": [
              "[' & Data Engineering: Sensors that are embedded within IoT devices spin off machine-generated data like it’s going out of style. For IoT to function, the platform must be solidly engineered to handle big data. Be assured, that requires some serious data engineering.']"
            ]
          },
          "metadata": {},
          "execution_count": 86
        }
      ]
    },
    {
      "cell_type": "markdown",
      "source": [
        "# Web Scraping in Practice"
      ],
      "metadata": {
        "id": "u8k0SkeQAIy2"
      }
    },
    {
      "cell_type": "code",
      "source": [
        "from IPython.display import HTML"
      ],
      "metadata": {
        "id": "XUL4byT3ANXE"
      },
      "execution_count": 87,
      "outputs": []
    },
    {
      "cell_type": "code",
      "source": [
        "r = urllib.request.urlopen('https://analytics.usa.gov').read()\n",
        "soup = BeautifulSoup(r,'html.parser')\n",
        "type(soup)"
      ],
      "metadata": {
        "colab": {
          "base_uri": "https://localhost:8080/",
          "height": 220
        },
        "id": "x_4ZtMOBArEZ",
        "outputId": "a2d6ccfb-895c-46c3-ac38-e18cae7d2472"
      },
      "execution_count": 88,
      "outputs": [
        {
          "output_type": "execute_result",
          "data": {
            "text/plain": [
              "bs4.BeautifulSoup"
            ],
            "text/html": [
              "<div style=\"max-width:800px; border: 1px solid var(--colab-border-color);\"><style>\n",
              "      pre.function-repr-contents {\n",
              "        overflow-x: auto;\n",
              "        padding: 8px 12px;\n",
              "        max-height: 500px;\n",
              "      }\n",
              "\n",
              "      pre.function-repr-contents.function-repr-contents-collapsed {\n",
              "        cursor: pointer;\n",
              "        max-height: 100px;\n",
              "      }\n",
              "    </style>\n",
              "    <pre style=\"white-space: initial; background:\n",
              "         var(--colab-secondary-surface-color); padding: 8px 12px;\n",
              "         border-bottom: 1px solid var(--colab-border-color);\"><b>bs4.BeautifulSoup</b><br/>def __call__(name: Optional[_StrainableElement]=None, attrs: _StrainableAttributes={}, recursive: bool=True, string: Optional[_StrainableString]=None, limit: Optional[int]=None, _stacklevel: int=2, **kwargs: _StrainableAttribute) -&gt; _QueryResults</pre><pre class=\"function-repr-contents function-repr-contents-collapsed\" style=\"\"><a class=\"filepath\" style=\"display:none\" href=\"#\">/usr/local/lib/python3.11/dist-packages/bs4/__init__.py</a>A data structure representing a parsed HTML or XML document.\n",
              "\n",
              "Most of the methods you&#x27;ll call on a BeautifulSoup object are inherited from\n",
              "PageElement or Tag.\n",
              "\n",
              "Internally, this class defines the basic interface called by the\n",
              "tree builders when converting an HTML/XML document into a data\n",
              "structure. The interface abstracts away the differences between\n",
              "parsers. To write a new tree builder, you&#x27;ll need to understand\n",
              "these methods as a whole.\n",
              "\n",
              "These methods will be called by the BeautifulSoup constructor:\n",
              "  * reset()\n",
              "  * feed(markup)\n",
              "\n",
              "The tree builder may call these methods from its feed() implementation:\n",
              "  * handle_starttag(name, attrs) # See note about return value\n",
              "  * handle_endtag(name)\n",
              "  * handle_data(data) # Appends to the current data node\n",
              "  * endData(containerClass) # Ends the current data node\n",
              "\n",
              "No matter how complicated the underlying parser is, you should be\n",
              "able to build a tree using &#x27;start tag&#x27; events, &#x27;end tag&#x27; events,\n",
              "&#x27;data&#x27; events, and &quot;done with data&quot; events.\n",
              "\n",
              "If you encounter an empty-element tag (aka a self-closing tag,\n",
              "like HTML&#x27;s &lt;br&gt; tag), call handle_starttag and then\n",
              "handle_endtag.</pre>\n",
              "      <script>\n",
              "      if (google.colab.kernel.accessAllowed && google.colab.files && google.colab.files.view) {\n",
              "        for (const element of document.querySelectorAll('.filepath')) {\n",
              "          element.style.display = 'block'\n",
              "          element.onclick = (event) => {\n",
              "            event.preventDefault();\n",
              "            event.stopPropagation();\n",
              "            google.colab.files.view(element.textContent, 133);\n",
              "          };\n",
              "        }\n",
              "      }\n",
              "      for (const element of document.querySelectorAll('.function-repr-contents')) {\n",
              "        element.onclick = (event) => {\n",
              "          event.preventDefault();\n",
              "          event.stopPropagation();\n",
              "          element.classList.toggle('function-repr-contents-collapsed');\n",
              "        };\n",
              "      }\n",
              "      </script>\n",
              "      </div>"
            ]
          },
          "metadata": {},
          "execution_count": 88
        }
      ]
    },
    {
      "cell_type": "markdown",
      "source": [
        "## Scraping a webppage and saving your results"
      ],
      "metadata": {
        "id": "_F5PCCwqA3gY"
      }
    },
    {
      "cell_type": "code",
      "source": [
        "print(soup.prettify()[:100])"
      ],
      "metadata": {
        "colab": {
          "base_uri": "https://localhost:8080/"
        },
        "id": "1Y2DTa1DA6_Z",
        "outputId": "12ba7c07-4a21-4f87-fa79-7718a6ecee04"
      },
      "execution_count": 89,
      "outputs": [
        {
          "output_type": "stream",
          "name": "stdout",
          "text": [
            "<!DOCTYPE html>\n",
            "<html lang=\"en\">\n",
            " <!-- Initalize title and data source variables -->\n",
            " <head>\n",
            "  <!--\n",
            "\n"
          ]
        }
      ]
    },
    {
      "cell_type": "code",
      "source": [
        "for link in soup.find_all('a'):\n",
        "  print(link.get('href'))"
      ],
      "metadata": {
        "colab": {
          "base_uri": "https://localhost:8080/"
        },
        "id": "cRWnLSugA-vC",
        "outputId": "e63a21d0-9b6d-464d-8d10-d0c2e9b91691"
      },
      "execution_count": 90,
      "outputs": [
        {
          "output_type": "stream",
          "name": "stdout",
          "text": [
            "/\n",
            "/about\n",
            "/definitions\n",
            "https://open.gsa.gov/api/dap/\n",
            "/visualizations\n",
            "/data\n"
          ]
        }
      ]
    },
    {
      "cell_type": "code",
      "source": [
        "print(soup.get_text())"
      ],
      "metadata": {
        "colab": {
          "base_uri": "https://localhost:8080/"
        },
        "id": "W7fIMuzuBLFu",
        "outputId": "84de1281-9986-43e9-d614-01897774bfcf"
      },
      "execution_count": 91,
      "outputs": [
        {
          "output_type": "stream",
          "name": "stdout",
          "text": [
            "\n",
            "\n",
            "\n",
            "\n",
            "\n",
            "\n",
            "\n",
            "\n",
            "\n",
            "\n",
            "\n",
            "\n",
            "\n",
            "\n",
            "\n",
            "\n",
            "analytics.usa.gov | The US government's web traffic.\n",
            "\n",
            "\n",
            "\n",
            "\n",
            "\n",
            "\n",
            "\n",
            "\n",
            "\n",
            "\n",
            "\n",
            "\n",
            "\n",
            "\n",
            "\n",
            "\n",
            "\n",
            "\n",
            "            An official website of the United States government\n",
            "          \n",
            "Here’s how you know\n",
            "\n",
            "\n",
            "Here’s how you know\n",
            "\n",
            "\n",
            "\n",
            "\n",
            "\n",
            "\n",
            "\n",
            "\n",
            "\n",
            "Official websites use .govA\n",
            "              .gov website belongs to an official government\n",
            "              organization in the United States.\n",
            "            \n",
            "\n",
            "\n",
            "\n",
            "\n",
            "\n",
            "\n",
            "Secure .gov websites use HTTPSA\n",
            "              lock (\n",
            "              \n",
            "Lock\n",
            "\n",
            "                    Locked padlock icon\n",
            "                  \n",
            "\n",
            " ) or https:// means you’ve safely connected to\n",
            "              the .gov website. Share sensitive information only on official,\n",
            "              secure websites.\n",
            "            \n",
            "\n",
            "\n",
            "\n",
            "\n",
            "\n",
            "\n",
            "\n",
            "\n",
            "\n",
            " analytics.usa.gov \n",
            "\n",
            "\n",
            "\n",
            "Search\n",
            "\n",
            "\n",
            "\n",
            "\n",
            "\n",
            "\n",
            "\n",
            "\n",
            "\n",
            "\n",
            "\n",
            "\n",
            "About\n",
            "\n",
            "\n",
            "•\n",
            "\n",
            "\n",
            "Definitions\n",
            "\n",
            "\n",
            "•\n",
            "\n",
            "\n",
            "API\n",
            "\n",
            "\n",
            "\n",
            "\n",
            "\n",
            "\n",
            "Visualize Data\n",
            "\n",
            "\n",
            "•\n",
            "\n",
            "\n",
            "Download Data\n",
            "\n",
            "\n",
            "\n",
            "\n",
            "\n",
            "\n",
            "\n",
            "\n",
            "\n",
            "\n",
            "\n",
            "\n",
            "\n",
            "\n",
            "\n",
            "\n",
            "\n",
            "\n",
            "Customer feedback\n",
            "over the last 30 days\n",
            "\n",
            "\n",
            "\n",
            "\n",
            "\n",
            "\n",
            "\n",
            "\n",
            "\n",
            "\n",
            "\n"
          ]
        }
      ]
    },
    {
      "cell_type": "code",
      "source": [
        "print(soup.prettify())[0:1000]\n"
      ],
      "metadata": {
        "colab": {
          "base_uri": "https://localhost:8080/",
          "height": 1000
        },
        "id": "gCjH29vxBUmA",
        "outputId": "64b9451c-bdd4-4133-8010-d5a96ada86e5"
      },
      "execution_count": 92,
      "outputs": [
        {
          "output_type": "stream",
          "name": "stdout",
          "text": [
            "<!DOCTYPE html>\n",
            "<html lang=\"en\">\n",
            " <!-- Initalize title and data source variables -->\n",
            " <head>\n",
            "  <!--\n",
            "\n",
            "    Hi! Welcome to our source code.\n",
            "\n",
            "    This dashboard uses data from the Digital Analytics Program, a US\n",
            "    government team inside the General Services Administration.\n",
            "\n",
            "\n",
            "    For a detailed tech breakdown of how 18F and friends built this site:\n",
            "\n",
            "    https://18f.gsa.gov/2015/03/19/how-we-built-analytics-usa-gov/\n",
            "\n",
            "\n",
            "    This is a fully open source project, and your contributions are welcome.\n",
            "\n",
            "    Frontend static site: https://github.com/18F/analytics.usa.gov\n",
            "    Backend data reporting: https://github.com/18F/analytics-reporter\n",
            "\n",
            "    -->\n",
            "  <meta charset=\"utf-8\"/>\n",
            "  <meta content=\"width=device-width, initial-scale=1\" name=\"viewport\"/>\n",
            "  <meta content=\"IE=Edge\" http-equiv=\"X-UA-Compatible\"/>\n",
            "  <meta content=\"3M4CQMJIt6qoilByli-rZfUFU6ET-No8gF12dAQFPfc\" name=\"google-site-verification\"/>\n",
            "  <link href=\"/css/styles.css\" rel=\"stylesheet\"/>\n",
            "  <link href=\"/images/analytics-favicon.ico\" rel=\"icon\" type=\"image/x-icon\"/>\n",
            "  <meta content=\"@usgsa\" name=\"twitter:site\"/>\n",
            "  <meta content=\"@usgsa\" name=\"twitter:creator\"/>\n",
            "  <meta content=\"website\" property=\"og:type\"/>\n",
            "  <meta content=\"https://analytics.usa.gov\" property=\"og:url\"/>\n",
            "  <link href=\"https://analytics.usa.gov\" rel=\"canonical\"/>\n",
            "  <title>\n",
            "   analytics.usa.gov | The US government's web traffic.\n",
            "  </title>\n",
            "  <meta content=\"analytics.usa.gov | The US government's web traffic.\" property=\"og:title\"/>\n",
            "  <meta content=\"analytics.usa.gov | The US government's web traffic.\" property=\"og:site_name\"/>\n",
            "  <meta content=\"Official data on web traffic to thousands of US federal government websites. Published by the Digital Analytics Program.\" name=\"description\"/>\n",
            "  <meta content=\"Official data on web traffic to thousands of US federal government websites. Published by the Digital Analytics Program.\" property=\"og:description\"/>\n",
            "  <meta content=\"summary_large_image\" name=\"twitter:card\"/>\n",
            "  <meta content=\"https://analytics.usa.gov/images/share-image.png\" property=\"og:image\"/>\n",
            "  <script async=\"\" src=\"/assets/uswds/js/uswds-init.min.js\" type=\"text/javascript\">\n",
            "  </script>\n",
            " </head>\n",
            " <body>\n",
            "  <section aria-label=\"Official website of the United States government\" class=\"usa-banner\">\n",
            "   <div class=\"usa-accordion\">\n",
            "    <header class=\"usa-banner__header\">\n",
            "     <div class=\"usa-banner__inner\">\n",
            "      <div class=\"grid-col-auto\">\n",
            "       <img alt=\"\" aria-hidden=\"true\" class=\"usa-banner__header-flag\" src=\"/assets/uswds/img/us_flag_small.png\"/>\n",
            "      </div>\n",
            "      <div aria-hidden=\"true\" class=\"grid-col-fill tablet:grid-col-auto\">\n",
            "       <p class=\"usa-banner__header-text\">\n",
            "        An official website of the United States government\n",
            "       </p>\n",
            "       <p class=\"usa-banner__header-action\">\n",
            "        Here’s how you know\n",
            "       </p>\n",
            "      </div>\n",
            "      <button aria-controls=\"gov-banner-default-default\" aria-expanded=\"false\" class=\"usa-accordion__button usa-banner__button\" type=\"button\">\n",
            "       <span class=\"usa-banner__button-text\">\n",
            "        Here’s how you know\n",
            "       </span>\n",
            "      </button>\n",
            "     </div>\n",
            "    </header>\n",
            "    <div class=\"usa-banner__content usa-accordion__content\" id=\"gov-banner-default-default\">\n",
            "     <div class=\"grid-row grid-gap-lg\">\n",
            "      <div class=\"usa-banner__guidance tablet:grid-col-6\">\n",
            "       <img alt=\"\" aria-hidden=\"true\" class=\"usa-banner__icon usa-media-block__img\" role=\"img\" src=\"/assets/uswds/img/icon-dot-gov.svg\"/>\n",
            "       <div class=\"usa-media-block__body\">\n",
            "        <p>\n",
            "         <strong>\n",
            "          Official websites use .gov\n",
            "         </strong>\n",
            "         <br/>\n",
            "         A\n",
            "         <strong>\n",
            "          .gov\n",
            "         </strong>\n",
            "         website belongs to an official government\n",
            "              organization in the United States.\n",
            "        </p>\n",
            "       </div>\n",
            "      </div>\n",
            "      <div class=\"usa-banner__guidance tablet:grid-col-6\">\n",
            "       <img alt=\"\" aria-hidden=\"true\" class=\"usa-banner__icon usa-media-block__img\" role=\"img\" src=\"/assets/uswds/img/icon-https.svg\"/>\n",
            "       <div class=\"usa-media-block__body\">\n",
            "        <p>\n",
            "         <strong>\n",
            "          Secure .gov websites use HTTPS\n",
            "         </strong>\n",
            "         <br/>\n",
            "         A\n",
            "         <strong>\n",
            "          lock\n",
            "         </strong>\n",
            "         (\n",
            "         <span class=\"icon-lock\">\n",
            "          <svg aria-labelledby=\"banner-lock-description-default\" class=\"usa-banner__lock-image\" focusable=\"false\" height=\"64\" role=\"img\" viewbox=\"0 0 52 64\" width=\"52\" xmlns=\"http://www.w3.org/2000/svg\">\n",
            "           <title id=\"banner-lock-title-default\">\n",
            "            Lock\n",
            "           </title>\n",
            "           <desc id=\"banner-lock-description-default\">\n",
            "            Locked padlock icon\n",
            "           </desc>\n",
            "           <path d=\"M26 0c10.493 0 19 8.507 19 19v9h3a4 4 0 0 1 4 4v28a4 4 0 0 1-4 4H4a4 4 0 0 1-4-4V32a4 4 0 0 1 4-4h3v-9C7 8.507 15.507 0 26 0zm0 8c-5.979 0-10.843 4.77-10.996 10.712L15 19v9h22v-9c0-6.075-4.925-11-11-11z\" fill=\"#000000\" fill-rule=\"evenodd\">\n",
            "           </path>\n",
            "          </svg>\n",
            "         </span>\n",
            "         ) or\n",
            "         <strong>\n",
            "          https://\n",
            "         </strong>\n",
            "         means you’ve safely connected to\n",
            "              the .gov website. Share sensitive information only on official,\n",
            "              secure websites.\n",
            "        </p>\n",
            "       </div>\n",
            "      </div>\n",
            "     </div>\n",
            "    </div>\n",
            "   </div>\n",
            "  </section>\n",
            "  <header class=\"grid-row white bg-palette-color-1 padding-3\" id=\"analytics-header\">\n",
            "   <h1 class=\"margin-top-0 margin-x-0 margin-bottom-1\">\n",
            "    <img alt=\"Analytics Icon\" class=\"analytics\" src=\"/images/analytics.svg\"/>\n",
            "    <a class=\"external-link\" href=\"/\">\n",
            "     <strong>\n",
            "      analytics\n",
            "     </strong>\n",
            "     .usa.gov\n",
            "    </a>\n",
            "   </h1>\n",
            "   <div id=\"site-search-form\">\n",
            "    <form action=\"https://www.google.com/search\" class=\"usa-search usa-search--small\" method=\"get\" role=\"search\" target=\"_blank\">\n",
            "     <label class=\"usa-sr-only\" for=\"search-field-en-small\">\n",
            "      Search\n",
            "     </label>\n",
            "     <input class=\"usa-input\" id=\"search-field-en-small\" name=\"q\" placeholder=\"Search\" required=\"required\" type=\"search\"/>\n",
            "     <input name=\"sitesearch\" type=\"hidden\" value=\"analytics.usa.gov\"/>\n",
            "     <button class=\"usa-button\" type=\"submit\">\n",
            "      <img alt=\"Search\" class=\"usa-search__submit-icon\" src=\"/assets/uswds/img/usa-icons-bg/search--white.svg\"/>\n",
            "     </button>\n",
            "    </form>\n",
            "   </div>\n",
            "   <nav class=\"links margin-top-1 desktop:padding-left-3 margin-bottom-0 padding-bottom-1\">\n",
            "    <div class=\"grid-row\">\n",
            "     <div class=\"grid-offset-2 grid-col-8\">\n",
            "      <div class=\"grid-row\">\n",
            "       <div class=\"grid-col-3 text-center\">\n",
            "        <a href=\"/about\">\n",
            "         About\n",
            "        </a>\n",
            "       </div>\n",
            "       <div class=\"grid-col-1 text-right\">\n",
            "        <span class=\"link-bullet link-bullet--hide\">\n",
            "         •\n",
            "        </span>\n",
            "       </div>\n",
            "       <div class=\"grid-col-5 text-center\">\n",
            "        <a href=\"/definitions\">\n",
            "         Definitions\n",
            "        </a>\n",
            "       </div>\n",
            "       <div class=\"grid-col-1 text-left\">\n",
            "        <span class=\"link-bullet link-bullet--hide\">\n",
            "         •\n",
            "        </span>\n",
            "       </div>\n",
            "       <div class=\"grid-col-2 text-center\">\n",
            "        <a href=\"https://open.gsa.gov/api/dap/\" rel=\"noopener\" target=\"_blank\">\n",
            "         API\n",
            "        </a>\n",
            "       </div>\n",
            "      </div>\n",
            "     </div>\n",
            "     <div class=\"desktop:grid-offset-1 card:grid-col-12 desktop-lg:grid-col-11 widescreen:grid-col-10\">\n",
            "      <div class=\"grid-row\">\n",
            "       <div class=\"grid-col-5 text-right\">\n",
            "        <a href=\"/visualizations\">\n",
            "         Visualize Data\n",
            "        </a>\n",
            "       </div>\n",
            "       <div class=\"grid-col-2 text-center\">\n",
            "        <span class=\"link-bullet link-bullet--hide\">\n",
            "         •\n",
            "        </span>\n",
            "       </div>\n",
            "       <div class=\"card:grid-col-5 text-left\">\n",
            "        <a href=\"/data\">\n",
            "         Download Data\n",
            "        </a>\n",
            "       </div>\n",
            "      </div>\n",
            "     </div>\n",
            "    </div>\n",
            "   </nav>\n",
            "  </header>\n",
            "  <!--\n",
            "  The contents of this page are populated by react components. See\n",
            "  ./js/components/dashboard_content for the rendering logic.\n",
            "-->\n",
            "  <main>\n",
            "   <div class=\"grid-row padding-2 bg-very-light-gray\" id=\"analytics-subheader\">\n",
            "    <!-- prettier-ignore -->\n",
            "    <div agencies='[{\"name\":\"Agency for International Development\",\"slug\":\"agency-international-development\",\"redirect_from\":[\"usaid\"],\"api_v1\":true,\"_name\":\"Agency for International Development\"},{\"name\":\"American Battle Monuments Commission\",\"slug\":\"american-battle-monuments-commission\",\"redirect_from\":[\"abmc\"],\"api_v1\":false,\"_name\":\"American Battle Monuments Commission\"},{\"name\":\"AmeriCorps\",\"slug\":\"corporation-national-community-service\",\"redirect_from\":[\"cncs\"],\"api_v1\":false,\"_name\":\"AmeriCorps\"},{\"name\":\"Commodity Futures Trading Commission\",\"slug\":\"commodity-futures-trading-commission\",\"redirect_from\":[\"cftc\"],\"api_v1\":false,\"_name\":\"Commodity Futures Trading Commission\"},{\"name\":\"Consumer Financial Protection Bureau\",\"slug\":\"consumer-financial-protection-bureau\",\"redirect_from\":[\"cfpb\"],\"api_v1\":false,\"_name\":\"Consumer Financial Protection Bureau\"},{\"name\":\"Consumer Product Safety Commission\",\"slug\":\"consumer-product-safety-commission\",\"redirect_from\":[\"cpsc\"],\"api_v1\":false,\"_name\":\"Consumer Product Safety Commission\"},{\"name\":\"Defense Nuclear Facilities Safety Board\",\"slug\":\"defense-nuclear-facilities-safety-board\",\"redirect_from\":[\"dnfsb\"],\"api_v1\":false,\"_name\":\"Defense Nuclear Facilities Safety Board\"},{\"name\":\"Denali Commission\",\"slug\":\"denali-commission\",\"api_v1\":false,\"_name\":\"Denali Commission\"},{\"name\":\"Department of Agriculture\",\"slug\":\"agriculture\",\"redirect_from\":[\"usda\"],\"api_v1\":true,\"_name\":\"Department of Agriculture\"},{\"name\":\"Food and Nutrition Service\",\"slug\":\"food-nutrition-service\",\"redirect_from\":[\"fns\"],\"parent\":\"agriculture\",\"api_v1\":false,\"_name\":\"Food and Nutrition Service\"},{\"name\":\"Forest Service\",\"slug\":\"forest-service\",\"redirect_from\":[\"fs\"],\"parent\":\"agriculture\",\"api_v1\":false,\"_name\":\"Forest Service\"},{\"name\":\"Department of Commerce\",\"slug\":\"commerce\",\"redirect_from\":[\"doc\"],\"api_v1\":true,\"_name\":\"Department of Commerce\"},{\"name\":\"National Institute of Standards and Technology\",\"slug\":\"national-institute-standards-technology\",\"redirect_from\":[\"nist\"],\"parent\":\"commerce\",\"api_v1\":false,\"_name\":\"National Institute of Standards and Technology\"},{\"name\":\"National Oceanic and Atmospheric Administration\",\"slug\":\"national-oceanic-atmospheric-administration\",\"redirect_from\":[\"noaa\"],\"parent\":\"commerce\",\"api_v1\":false,\"_name\":\"National Oceanic and Atmospheric Administration\"},{\"name\":\"U.S. Patent and Trademark Office\",\"slug\":\"patent-trademark-office\",\"redirect_from\":[\"uspto\"],\"parent\":\"commerce\",\"api_v1\":false,\"_name\":\"U.S. Patent and Trademark Office\"},{\"name\":\"Department of Defense\",\"slug\":\"defense\",\"redirect_from\":[\"dod\"],\"api_v1\":true,\"_name\":\"Department of Defense\"},{\"name\":\"Defense Health Agency\",\"slug\":\"defense-health-agency\",\"redirect_from\":[\"dha\"],\"parent\":\"defense\",\"api_v1\":false,\"_name\":\"Defense Health Agency\"},{\"name\":\"Defense Logistics Agency\",\"slug\":\"defense-logistics-agency\",\"redirect_from\":[\"dla\"],\"parent\":\"defense\",\"api_v1\":false,\"_name\":\"Defense Logistics Agency\"},{\"name\":\"U.S. Air Force\",\"slug\":\"air-force\",\"redirect_from\":[\"usaf\"],\"parent\":\"defense\",\"api_v1\":false,\"_name\":\"U.S. Air Force\"},{\"name\":\"U.S. Army\",\"slug\":\"army\",\"parent\":\"defense\",\"api_v1\":false,\"_name\":\"U.S. Army\"},{\"name\":\"U.S. Army Corps of Engineers\",\"slug\":\"army-corps-of-engineers\",\"redirect_from\":[\"usace\"],\"parent\":\"defense\",\"api_v1\":false,\"_name\":\"U.S. Army Corps of Engineers\"},{\"name\":\"U.S. Marine Corps\",\"slug\":\"marines\",\"redirect_from\":[\"usmc\"],\"parent\":\"defense\",\"api_v1\":false,\"_name\":\"U.S. Marine Corps\"},{\"name\":\"U.S. Navy\",\"slug\":\"navy\",\"parent\":\"defense\",\"api_v1\":false,\"_name\":\"U.S. Navy\"},{\"name\":\"U.S. Space Force\",\"slug\":\"space-force\",\"redirect_from\":[\"ussf\"],\"parent\":\"defense\",\"api_v1\":false,\"_name\":\"U.S. Space Force\"},{\"name\":\"Department of Education\",\"slug\":\"education\",\"redirect_from\":[\"ed\"],\"api_v1\":true,\"_name\":\"Department of Education\"},{\"name\":\"Department of Energy\",\"slug\":\"energy\",\"redirect_from\":[\"doe\"],\"api_v1\":true,\"_name\":\"Department of Energy\"},{\"name\":\"Department of Health and Human Services\",\"slug\":\"health-human-services\",\"redirect_from\":[\"hhs\"],\"api_v1\":true,\"_name\":\"Department of Health and Human Services\"},{\"name\":\"Administration for Children and Families\",\"slug\":\"administration-children-families\",\"redirect_from\":[\"acf\"],\"parent\":\"health-human-services\",\"api_v1\":false,\"_name\":\"Administration for Children and Families\"},{\"name\":\"National Library of Medicine\",\"slug\":\"national-library-medicine\",\"redirect_from\":[\"nlm\"],\"parent\":\"health-human-services\",\"api_v1\":false,\"_name\":\"National Library of Medicine\"},{\"name\":\"U.S. Centers for Disease Control and Prevention\",\"slug\":\"center-disease-control\",\"redirect_from\":[\"cdc\"],\"parent\":\"health-human-services\",\"api_v1\":false,\"_name\":\"U.S. Centers for Disease Control and Prevention\"},{\"name\":\"U.S. Food and Drug Administration\",\"slug\":\"food-and-drug-administration\",\"redirect_from\":[\"fda\"],\"parent\":\"health-human-services\",\"api_v1\":false,\"_name\":\"U.S. Food and Drug Administration\"},{\"name\":\"Department of Homeland Security\",\"slug\":\"homeland-security\",\"redirect_from\":[\"dhs\"],\"api_v1\":true,\"_name\":\"Department of Homeland Security\"},{\"name\":\"Department of Housing and Urban Development\",\"slug\":\"housing-urban-development\",\"redirect_from\":[\"hud\"],\"api_v1\":true,\"_name\":\"Department of Housing and Urban Development\"},{\"name\":\"Department of the Interior\",\"slug\":\"interior\",\"redirect_from\":[\"doi\"],\"api_v1\":true,\"_name\":\"Department of the Interior\"},{\"name\":\"National Park Service\",\"slug\":\"national-park-service\",\"redirect_from\":[\"nps\"],\"parent\":\"interior\",\"api_v1\":false,\"_name\":\"National Park Service\"},{\"name\":\"U.S. Fish and Wildlife Service\",\"slug\":\"fish-and-wildlife-service\",\"redirect_from\":[\"fws\"],\"parent\":\"interior\",\"api_v1\":false,\"_name\":\"U.S. Fish and Wildlife Service\"},{\"name\":\"Department of Justice\",\"slug\":\"justice\",\"redirect_from\":[\"doj\"],\"api_v1\":true,\"_name\":\"Department of Justice\"},{\"name\":\"Federal Bureau of Investigation\",\"slug\":\"federal-bureau-investigation\",\"redirect_from\":[\"fbi\"],\"parent\":\"justice\",\"api_v1\":false,\"_name\":\"Federal Bureau of Investigation\"},{\"name\":\"Department of Labor\",\"slug\":\"labor\",\"redirect_from\":[\"dol\"],\"api_v1\":true,\"_name\":\"Department of Labor\"},{\"name\":\"Department of State\",\"slug\":\"state\",\"redirect_from\":[\"dos\"],\"api_v1\":true,\"_name\":\"Department of State\"},{\"name\":\"Department of Transportation\",\"slug\":\"transportation\",\"redirect_from\":[\"dot\"],\"api_v1\":true,\"_name\":\"Department of Transportation\"},{\"name\":\"Department of the Treasury\",\"slug\":\"treasury\",\"redirect_from\":[\"usdt\"],\"api_v1\":true,\"_name\":\"Department of the Treasury\"},{\"name\":\"Department of Veterans Affairs\",\"slug\":\"veterans-affairs\",\"redirect_from\":[\"va\"],\"api_v1\":true,\"_name\":\"Department of Veterans Affairs\"},{\"name\":\"Environmental Protection Agency\",\"slug\":\"environmental-protection-agency\",\"redirect_from\":[\"epa\"],\"api_v1\":true,\"_name\":\"Environmental Protection Agency\"},{\"name\":\"Equal Employment Opportunity Commission\",\"slug\":\"equal-employment-opportunity-commission\",\"redirect_from\":[\"eeoc\"],\"api_v1\":false,\"_name\":\"Equal Employment Opportunity Commission\"},{\"name\":\"Executive Office of the President\",\"slug\":\"executive-office-president\",\"redirect_from\":[\"omb\"],\"api_v1\":true,\"_name\":\"Executive Office of the President\"},{\"name\":\"Farm Credit Administration\",\"slug\":\"farm-credit-administration\",\"redirect_from\":[\"fca\"],\"api_v1\":false,\"_name\":\"Farm Credit Administration\"},{\"name\":\"Federal Deposit Insurance Corporation\",\"slug\":\"federal-deposit-insurance-corporation\",\"redirect_from\":[\"fdic\"],\"api_v1\":false,\"_name\":\"Federal Deposit Insurance Corporation\"},{\"name\":\"Federal Election Commission\",\"slug\":\"federal-election-commission\",\"redirect_from\":[\"fec\"],\"api_v1\":false,\"_name\":\"Federal Election Commission\"},{\"name\":\"Federal Energy Regulatory Commission\",\"slug\":\"federal-energy-regulatory-commission\",\"redirect_from\":[\"ferc\"],\"api_v1\":false,\"_name\":\"Federal Energy Regulatory Commission\"},{\"name\":\"Federal Housing Finance Agency\",\"slug\":\"federal-housing-finance-agency\",\"redirect_from\":[\"fhfa\"],\"api_v1\":false,\"_name\":\"Federal Housing Finance Agency\"},{\"name\":\"Federal Maritime Commission\",\"slug\":\"federal-maritime-commission\",\"redirect_from\":[\"fmc\"],\"api_v1\":false,\"_name\":\"Federal Maritime Commission\"},{\"name\":\"Federal Mine Safety and Health Review Commission\",\"slug\":\"federal-mine-safety-health-review-commission\",\"redirect_from\":[\"fmshrc\"],\"api_v1\":false,\"_name\":\"Federal Mine Safety and Health Review Commission\"},{\"name\":\"Federal Retirement Thrift Investment Board\",\"slug\":\"federal-retirement-thrift-investment-board\",\"redirect_from\":[\"frtib\"],\"api_v1\":false,\"_name\":\"Federal Retirement Thrift Investment Board\"},{\"name\":\"Federal Trade Commission\",\"slug\":\"federal-trade-commission\",\"redirect_from\":[\"ftc\"],\"api_v1\":false,\"_name\":\"Federal Trade Commission\"},{\"name\":\"General Services Administration\",\"slug\":\"general-services-administration\",\"redirect_from\":[\"gsa\"],\"api_v1\":true,\"_name\":\"General Services Administration\"},{\"name\":\"Inter-American Foundation\",\"slug\":\"inter-american-foundation\",\"redirect_from\":[\"iaf\"],\"api_v1\":false,\"_name\":\"Inter-American Foundation\"},{\"name\":\"International Development Finance Corporation\",\"slug\":\"international-development-finance-corporation\",\"redirect_from\":[\"dfc\"],\"api_v1\":false,\"_name\":\"International Development Finance Corporation\"},{\"name\":\"Merit Systems Protection Board\",\"slug\":\"merit-systems-protection-board\",\"redirect_from\":[\"mspb\"],\"api_v1\":false,\"_name\":\"Merit Systems Protection Board\"},{\"name\":\"Millennium Challenge Corporation\",\"slug\":\"millennium-challenge-corporation\",\"redirect_from\":[\"mcc\"],\"api_v1\":false,\"_name\":\"Millennium Challenge Corporation\"},{\"name\":\"National Aeronautics and Space Administration\",\"slug\":\"national-aeronautics-space-administration\",\"redirect_from\":[\"nasa\"],\"api_v1\":true,\"_name\":\"National Aeronautics and Space Administration\"},{\"name\":\"National Archives and Records Administration\",\"slug\":\"national-archives-records-administration\",\"redirect_from\":[\"nara\"],\"api_v1\":true,\"_name\":\"National Archives and Records Administration\"},{\"name\":\"National Capital Planning Commission\",\"slug\":\"national-capital-planning-commission\",\"redirect_from\":[\"ncpc\"],\"api_v1\":false,\"_name\":\"National Capital Planning Commission\"},{\"name\":\"National Council on Disability\",\"slug\":\"national-council-disability\",\"redirect_from\":[\"ncd\"],\"api_v1\":false,\"_name\":\"National Council on Disability\"},{\"name\":\"National Credit Union Administration\",\"slug\":\"national-credit-union-administration\",\"redirect_from\":[\"ncua\"],\"api_v1\":false,\"_name\":\"National Credit Union Administration\"},{\"name\":\"National Education Association\",\"slug\":\"national-education-association\",\"redirect_from\":[\"nea\"],\"api_v1\":false,\"_name\":\"National Education Association\"},{\"name\":\"National Endowment For The Humanities\",\"slug\":\"national-endowment-humanities\",\"redirect_from\":[\"neh\"],\"api_v1\":false,\"_name\":\"National Endowment For The Humanities\"},{\"name\":\"National Labor Relations Board\",\"slug\":\"national-labor-relations-board\",\"redirect_from\":[\"nlrb\"],\"api_v1\":false,\"_name\":\"National Labor Relations Board\"},{\"name\":\"National Mediation Board\",\"slug\":\"national-mediation-board\",\"redirect_from\":[\"nmb\"],\"api_v1\":false,\"_name\":\"National Mediation Board\"},{\"name\":\"National Reconnaissance Office\",\"slug\":\"national-reconnaissance-office\",\"redirect_from\":[\"nro\"],\"api_v1\":false,\"_name\":\"National Reconnaissance Office\"},{\"name\":\"National Science Foundation\",\"slug\":\"national-science-foundation\",\"redirect_from\":[\"nsf\"],\"api_v1\":true,\"_name\":\"National Science Foundation\"},{\"name\":\"National Transportation Safety Board\",\"slug\":\"national-transportation-safety-board\",\"redirect_from\":[\"ntsb\"],\"api_v1\":false,\"_name\":\"National Transportation Safety Board\"},{\"name\":\"Nuclear Regulatory Commission\",\"slug\":\"nuclear-regulatory-commission\",\"redirect_from\":[\"nrc\"],\"api_v1\":true,\"_name\":\"Nuclear Regulatory Commission\"},{\"name\":\"Nuclear Waste Technical Review Board\",\"slug\":\"nuclear-waste-technical-review-board\",\"redirect_from\":[\"nwtrb\"],\"api_v1\":false,\"_name\":\"Nuclear Waste Technical Review Board\"},{\"name\":\"Occupational Safety and Health Review Commission\",\"slug\":\"occupational-safety-health-commission\",\"redirect_from\":[\"oshrc\"],\"api_v1\":false,\"_name\":\"Occupational Safety and Health Review Commission\"},{\"name\":\"Office of the Director of National Intelligence\",\"slug\":\"office-director-national-intelligence\",\"redirect_from\":[\"odni\"],\"api_v1\":false,\"_name\":\"Office of the Director of National Intelligence\"},{\"name\":\"Office of Government Ethics\",\"slug\":\"office-government-ethics\",\"redirect_from\":[\"oge\"],\"api_v1\":false,\"_name\":\"Office of Government Ethics\"},{\"name\":\"Office of Navajo and Hopi Indian Relocation\",\"slug\":\"office-navajo-hopi-indian-relocation\",\"redirect_from\":[\"onhir\"],\"api_v1\":false,\"_name\":\"Office of Navajo and Hopi Indian Relocation\"},{\"name\":\"Office of Personnel Management\",\"slug\":\"office-personnel-management\",\"redirect_from\":[\"opm\"],\"api_v1\":true,\"_name\":\"Office of Personnel Management\"},{\"name\":\"Peace Corps\",\"slug\":\"peace-corps\",\"api_v1\":false,\"_name\":\"Peace Corps\"},{\"name\":\"Pension Benefit Guaranty Corporation\",\"slug\":\"pension-benefit-guaranty-corporation\",\"redirect_from\":[\"pbgc\"],\"api_v1\":false,\"_name\":\"Pension Benefit Guaranty Corporation\"},{\"name\":\"Postal Regulatory Commission\",\"slug\":\"postal-regulatory-commission\",\"redirect_from\":[\"prc\"],\"api_v1\":false,\"_name\":\"Postal Regulatory Commission\"},{\"name\":\"Privacy and Civil Liberties Oversight Board\",\"slug\":\"privacy-civil-liberties-oversight-board\",\"redirect_from\":[\"pclob\"],\"api_v1\":false,\"_name\":\"Privacy and Civil Liberties Oversight Board\"},{\"name\":\"Public Buildings Reform Board\",\"slug\":\"public-buildings-reform-board\",\"redirect_from\":[\"pbrb\"],\"api_v1\":false,\"_name\":\"Public Buildings Reform Board\"},{\"name\":\"Securities and Exchange Commission\",\"slug\":\"securities-exchange-commission\",\"redirect_from\":[\"sec\"],\"api_v1\":false,\"_name\":\"Securities and Exchange Commission\"},{\"name\":\"Small Business Administration\",\"slug\":\"small-business-administration\",\"redirect_from\":[\"sba\"],\"api_v1\":true,\"_name\":\"Small Business Administration\"},{\"name\":\"Social Security Administration\",\"slug\":\"social-security-administration\",\"redirect_from\":[\"ssa\"],\"api_v1\":true,\"_name\":\"Social Security Administration\"},{\"name\":\"Special Inspector General for Afghanistan Reconstruction\",\"slug\":\"special-inspector-general-afghanistan-restoration\",\"redirect_from\":[\"sigar\"],\"api_v1\":false,\"_name\":\"Special Inspector General for Afghanistan Reconstruction\"},{\"name\":\"Surface Transportation Board\",\"slug\":\"surface-transportation-board\",\"redirect_from\":[\"stb\"],\"api_v1\":false,\"_name\":\"Surface Transportation Board\"},{\"name\":\"Tennessee Valley Authority\",\"slug\":\"tennessee-valley-authority\",\"redirect_from\":[\"tva\"],\"api_v1\":false,\"_name\":\"Tennessee Valley Authority\"},{\"name\":\"Udall Foundation\",\"slug\":\"udall-foundation\",\"api_v1\":false,\"_name\":\"Udall Foundation\"},{\"name\":\"U.S. Access Board\",\"slug\":\"access-board\",\"api_v1\":false,\"_name\":\"U.S. Access Board\"},{\"name\":\"U.S. Agency for Global Media\",\"slug\":\"agency-global-media\",\"redirect_from\":[\"usagm\"],\"api_v1\":false,\"_name\":\"U.S. Agency for Global Media\"},{\"name\":\"U.S. Commission on Civil Rights\",\"slug\":\"commission-civil-rights\",\"redirect_from\":[\"usccr\"],\"api_v1\":false,\"_name\":\"U.S. Commission on Civil Rights\"},{\"name\":\"U.S. Courts\",\"slug\":\"us-courts\",\"api_v1\":false,\"_name\":\"U.S. Courts\"},{\"name\":\"U.S. International Trade Commission\",\"slug\":\"international-trade-commission\",\"redirect_from\":[\"usitc\"],\"api_v1\":false,\"_name\":\"U.S. International Trade Commission\"},{\"name\":\"U.S. Office of Special Counsel\",\"slug\":\"osc\",\"redirect_from\":[\"osc\"],\"api_v1\":false,\"_name\":\"U.S. Office of Special Counsel\"},{\"name\":\"U.S. Postal Inspection Service\",\"slug\":\"postal-inspection-service\",\"redirect_from\":[\"uspis\"],\"api_v1\":false,\"_name\":\"U.S. Postal Inspection Service\"},{\"name\":\"U.S. Postal Service\",\"slug\":\"postal-service\",\"redirect_from\":[\"usps\"],\"api_v1\":true,\"_name\":\"U.S. Postal Service\"},{\"name\":\"U.S. Railroad Retirement Board\",\"slug\":\"railroad-retirement-board\",\"redirect_from\":[\"rrb\"],\"api_v1\":false,\"_name\":\"U.S. Railroad Retirement Board\"},{\"name\":\"U.S. Trade and Development Agency\",\"slug\":\"trade-development-agency\",\"redirect_from\":[\"ustda\"],\"api_v1\":false,\"_name\":\"U.S. Trade and Development Agency\"}]' class=\"analytics-select analytics-select--main\" id=\"analytics-agency-select-root\" mainagencyname=\"Government-Wide\">\n",
            "    </div>\n",
            "   </div>\n",
            "   <div agency=\"\" class=\"padding-2\" dataprefix=\"live\" dataurl=\"https://analytics.usa.gov/data\" id=\"dashboard-content-root\">\n",
            "   </div>\n",
            "   <section class=\"grid-row\">\n",
            "    <div class=\"grid-col-12\" id=\"touchpoints-page-helpful-survey-root\">\n",
            "    </div>\n",
            "    <div class=\"card:grid-offset-2 card:grid-col-8 mobile-lg:grid-offset-3 mobile-lg:grid-col-6 desktop:grid-offset-5 desktop:grid-col-2 margin-bottom-2\">\n",
            "     <div dataurl=\"https://analytics.usa.gov/data\" id=\"page-helpful-survey-score-root\">\n",
            "     </div>\n",
            "     <div class=\"text-normal font-sans-lg text-center\">\n",
            "      <p class=\"margin-y-1\">\n",
            "       Customer feedback\n",
            "      </p>\n",
            "      <p class=\"margin-0\">\n",
            "       over the last 30 days\n",
            "      </p>\n",
            "     </div>\n",
            "    </div>\n",
            "   </section>\n",
            "  </main>\n",
            "  <div id=\"footer-root\" sitedomain=\"\">\n",
            "  </div>\n",
            " </body>\n",
            " <script async=\"\" src=\"/assets/uswds/js/uswds.min.js\" type=\"text/javascript\">\n",
            " </script>\n",
            " <script async=\"\" src=\"/assets/bundle.js\" type=\"text/javascript\">\n",
            " </script>\n",
            " <script async=\"\" id=\"_fed_an_ua_tag\" src=\"https://dap.digitalgov.gov/Universal-Federated-Analytics-Min.js?agency=GSA\" type=\"text/javascript\">\n",
            " </script>\n",
            "</html>\n",
            "\n"
          ]
        },
        {
          "output_type": "error",
          "ename": "TypeError",
          "evalue": "'NoneType' object is not subscriptable",
          "traceback": [
            "\u001b[0;31m---------------------------------------------------------------------------\u001b[0m",
            "\u001b[0;31mTypeError\u001b[0m                                 Traceback (most recent call last)",
            "\u001b[0;32m/tmp/ipython-input-92-3565303188.py\u001b[0m in \u001b[0;36m<cell line: 0>\u001b[0;34m()\u001b[0m\n\u001b[0;32m----> 1\u001b[0;31m \u001b[0mprint\u001b[0m\u001b[0;34m(\u001b[0m\u001b[0msoup\u001b[0m\u001b[0;34m.\u001b[0m\u001b[0mprettify\u001b[0m\u001b[0;34m(\u001b[0m\u001b[0;34m)\u001b[0m\u001b[0;34m)\u001b[0m\u001b[0;34m[\u001b[0m\u001b[0;36m0\u001b[0m\u001b[0;34m:\u001b[0m\u001b[0;36m1000\u001b[0m\u001b[0;34m]\u001b[0m\u001b[0;34m\u001b[0m\u001b[0;34m\u001b[0m\u001b[0m\n\u001b[0m",
            "\u001b[0;31mTypeError\u001b[0m: 'NoneType' object is not subscriptable"
          ]
        }
      ]
    },
    {
      "cell_type": "code",
      "source": [
        "for link in soup.find_all('a',attrs={'href':re.compile('^http')}):\n",
        "  print(link)"
      ],
      "metadata": {
        "colab": {
          "base_uri": "https://localhost:8080/"
        },
        "id": "dypEmULWBaMT",
        "outputId": "e2a10cb3-7fd0-4b07-820c-a99d0d54fa33"
      },
      "execution_count": 93,
      "outputs": [
        {
          "output_type": "stream",
          "name": "stdout",
          "text": [
            "<a href=\"https://open.gsa.gov/api/dap/\" rel=\"noopener\" target=\"_blank\">API</a>\n"
          ]
        }
      ]
    },
    {
      "cell_type": "code",
      "source": [
        "type(link)"
      ],
      "metadata": {
        "colab": {
          "base_uri": "https://localhost:8080/",
          "height": 220
        },
        "id": "PiBvWwbmCa0J",
        "outputId": "3bd14306-a3d4-4523-98b3-0eb7dda2e7e6"
      },
      "execution_count": 94,
      "outputs": [
        {
          "output_type": "execute_result",
          "data": {
            "text/plain": [
              "bs4.element.Tag"
            ],
            "text/html": [
              "<div style=\"max-width:800px; border: 1px solid var(--colab-border-color);\"><style>\n",
              "      pre.function-repr-contents {\n",
              "        overflow-x: auto;\n",
              "        padding: 8px 12px;\n",
              "        max-height: 500px;\n",
              "      }\n",
              "\n",
              "      pre.function-repr-contents.function-repr-contents-collapsed {\n",
              "        cursor: pointer;\n",
              "        max-height: 100px;\n",
              "      }\n",
              "    </style>\n",
              "    <pre style=\"white-space: initial; background:\n",
              "         var(--colab-secondary-surface-color); padding: 8px 12px;\n",
              "         border-bottom: 1px solid var(--colab-border-color);\"><b>bs4.element.Tag</b><br/>def __call__(name: Optional[_StrainableElement]=None, attrs: _StrainableAttributes={}, recursive: bool=True, string: Optional[_StrainableString]=None, limit: Optional[int]=None, _stacklevel: int=2, **kwargs: _StrainableAttribute) -&gt; _QueryResults</pre><pre class=\"function-repr-contents function-repr-contents-collapsed\" style=\"\"><a class=\"filepath\" style=\"display:none\" href=\"#\">/usr/local/lib/python3.11/dist-packages/bs4/element.py</a>An HTML or XML tag that is part of a parse tree, along with its\n",
              "attributes, contents, and relationships to other parts of the tree.\n",
              "\n",
              "When Beautiful Soup parses the markup ``&lt;b&gt;penguin&lt;/b&gt;``, it will\n",
              "create a `Tag` object representing the ``&lt;b&gt;`` tag. You can\n",
              "instantiate `Tag` objects directly, but it&#x27;s not necessary unless\n",
              "you&#x27;re adding entirely new markup to a parsed document. Most of\n",
              "the constructor arguments are intended for use by the `TreeBuilder`\n",
              "that&#x27;s parsing a document.\n",
              "\n",
              ":param parser: A `BeautifulSoup` object representing the parse tree this\n",
              "    `Tag` will be part of.\n",
              ":param builder: The `TreeBuilder` being used to build the tree.\n",
              ":param name: The name of the tag.\n",
              ":param namespace: The URI of this tag&#x27;s XML namespace, if any.\n",
              ":param prefix: The prefix for this tag&#x27;s XML namespace, if any.\n",
              ":param attrs: A dictionary of attribute values.\n",
              ":param parent: The `Tag` to use as the parent of this `Tag`. May be\n",
              "   the `BeautifulSoup` object itself.\n",
              ":param previous: The `PageElement` that was parsed immediately before\n",
              "    parsing this tag.\n",
              ":param is_xml: If True, this is an XML tag. Otherwise, this is an\n",
              "    HTML tag.\n",
              ":param sourceline: The line number where this tag was found in its\n",
              "    source document.\n",
              ":param sourcepos: The character position within ``sourceline`` where this\n",
              "    tag was found.\n",
              ":param can_be_empty_element: If True, this tag should be\n",
              "    represented as &lt;tag/&gt;. If False, this tag should be represented\n",
              "    as &lt;tag&gt;&lt;/tag&gt;.\n",
              ":param cdata_list_attributes: A dictionary of attributes whose values should\n",
              "    be parsed as lists of strings if they ever show up on this tag.\n",
              ":param preserve_whitespace_tags: Names of tags whose contents\n",
              "    should have their whitespace preserved if they are encountered inside\n",
              "    this tag.\n",
              ":param interesting_string_types: When iterating over this tag&#x27;s\n",
              "    string contents in methods like `Tag.strings` or\n",
              "    `PageElement.get_text`, these are the types of strings that are\n",
              "    interesting enough to be considered. By default,\n",
              "    `NavigableString` (normal strings) and `CData` (CDATA\n",
              "    sections) are the only interesting string subtypes.\n",
              ":param namespaces: A dictionary mapping currently active\n",
              "    namespace prefixes to URIs, as of the point in the parsing process when\n",
              "    this tag was encountered. This can be used later to\n",
              "    construct CSS selectors.</pre>\n",
              "      <script>\n",
              "      if (google.colab.kernel.accessAllowed && google.colab.files && google.colab.files.view) {\n",
              "        for (const element of document.querySelectorAll('.filepath')) {\n",
              "          element.style.display = 'block'\n",
              "          element.onclick = (event) => {\n",
              "            event.preventDefault();\n",
              "            event.stopPropagation();\n",
              "            google.colab.files.view(element.textContent, 1577);\n",
              "          };\n",
              "        }\n",
              "      }\n",
              "      for (const element of document.querySelectorAll('.function-repr-contents')) {\n",
              "        element.onclick = (event) => {\n",
              "          event.preventDefault();\n",
              "          event.stopPropagation();\n",
              "          element.classList.toggle('function-repr-contents-collapsed');\n",
              "        };\n",
              "      }\n",
              "      </script>\n",
              "      </div>"
            ]
          },
          "metadata": {},
          "execution_count": 94
        }
      ]
    },
    {
      "cell_type": "code",
      "source": [
        "file = open('parsed_data.txt','w')\n",
        "for link in soup.find_all('a',attrs={'href':re.compile('^http')}):\n",
        "  print(str(link))\n",
        "  file.write(str(link))\n",
        "\n",
        "file.flush()\n",
        "file.close()"
      ],
      "metadata": {
        "colab": {
          "base_uri": "https://localhost:8080/"
        },
        "id": "Vg_8aFakCln7",
        "outputId": "a7e35986-7ce6-4b8f-fa56-4cfb0fda02bc"
      },
      "execution_count": 96,
      "outputs": [
        {
          "output_type": "stream",
          "name": "stdout",
          "text": [
            "<a href=\"https://open.gsa.gov/api/dap/\" rel=\"noopener\" target=\"_blank\">API</a>\n"
          ]
        }
      ]
    },
    {
      "cell_type": "code",
      "source": [
        "%pwd"
      ],
      "metadata": {
        "colab": {
          "base_uri": "https://localhost:8080/",
          "height": 35
        },
        "id": "XREuR5X3DKPx",
        "outputId": "00610ed2-6e66-4b12-f795-89f4cfa4abe0"
      },
      "execution_count": 97,
      "outputs": [
        {
          "output_type": "execute_result",
          "data": {
            "text/plain": [
              "'/content'"
            ],
            "application/vnd.google.colaboratory.intrinsic+json": {
              "type": "string"
            }
          },
          "metadata": {},
          "execution_count": 97
        }
      ]
    },
    {
      "cell_type": "markdown",
      "source": [
        "# Asynchronous scraping"
      ],
      "metadata": {
        "id": "Q3LPRohbD3kb"
      }
    },
    {
      "cell_type": "code",
      "source": [
        "!pip install aiohttp\n",
        "!pip install asyncio"
      ],
      "metadata": {
        "colab": {
          "base_uri": "https://localhost:8080/",
          "height": 395
        },
        "id": "8bbsJMlRD8KV",
        "outputId": "68d55069-98af-45a1-88fa-08e93c44bdab"
      },
      "execution_count": 98,
      "outputs": [
        {
          "output_type": "stream",
          "name": "stdout",
          "text": [
            "Requirement already satisfied: aiohttp in /usr/local/lib/python3.11/dist-packages (3.11.15)\n",
            "Requirement already satisfied: aiohappyeyeballs>=2.3.0 in /usr/local/lib/python3.11/dist-packages (from aiohttp) (2.6.1)\n",
            "Requirement already satisfied: aiosignal>=1.1.2 in /usr/local/lib/python3.11/dist-packages (from aiohttp) (1.3.2)\n",
            "Requirement already satisfied: attrs>=17.3.0 in /usr/local/lib/python3.11/dist-packages (from aiohttp) (25.3.0)\n",
            "Requirement already satisfied: frozenlist>=1.1.1 in /usr/local/lib/python3.11/dist-packages (from aiohttp) (1.7.0)\n",
            "Requirement already satisfied: multidict<7.0,>=4.5 in /usr/local/lib/python3.11/dist-packages (from aiohttp) (6.5.0)\n",
            "Requirement already satisfied: propcache>=0.2.0 in /usr/local/lib/python3.11/dist-packages (from aiohttp) (0.3.2)\n",
            "Requirement already satisfied: yarl<2.0,>=1.17.0 in /usr/local/lib/python3.11/dist-packages (from aiohttp) (1.20.1)\n",
            "Requirement already satisfied: idna>=2.0 in /usr/local/lib/python3.11/dist-packages (from yarl<2.0,>=1.17.0->aiohttp) (3.10)\n",
            "Collecting asyncio\n",
            "  Downloading asyncio-3.4.3-py3-none-any.whl.metadata (1.7 kB)\n",
            "Downloading asyncio-3.4.3-py3-none-any.whl (101 kB)\n",
            "\u001b[2K   \u001b[90m━━━━━━━━━━━━━━━━━━━━━━━━━━━━━━━━━━━━━━━━\u001b[0m \u001b[32m101.8/101.8 kB\u001b[0m \u001b[31m4.5 MB/s\u001b[0m eta \u001b[36m0:00:00\u001b[0m\n",
            "\u001b[?25hInstalling collected packages: asyncio\n",
            "Successfully installed asyncio-3.4.3\n"
          ]
        },
        {
          "output_type": "display_data",
          "data": {
            "application/vnd.colab-display-data+json": {
              "pip_warning": {
                "packages": [
                  "asyncio"
                ]
              },
              "id": "dfde586396804c7eb8a87ab68eb26487"
            }
          },
          "metadata": {}
        }
      ]
    },
    {
      "cell_type": "markdown",
      "source": [],
      "metadata": {
        "id": "99ryFwOAEMJv"
      }
    },
    {
      "cell_type": "code",
      "source": [
        "import aiohttp\n",
        "import asyncio\n",
        "impor"
      ],
      "metadata": {
        "id": "wz6nnx7vEG4L"
      },
      "execution_count": null,
      "outputs": []
    }
  ]
}